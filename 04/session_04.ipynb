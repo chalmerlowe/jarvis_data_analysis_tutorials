{
 "cells": [
  {
   "cell_type": "markdown",
   "metadata": {
    "slideshow": {
     "slide_type": "slide"
    }
   },
   "source": [
    "<h1>Welcome to the Dark Art of Coding:</h1>\n",
    "<h2>Introduction to Python</h2>\n",
    "Session 04\n",
    "\n",
    "sets, isinstance, reading/writing files\n",
    "\n",
    "<img src='../images/logos.3.600.wide.png' height='250' width='300' style=\"float:right\">"
   ]
  },
  {
   "cell_type": "markdown",
   "metadata": {
    "slideshow": {
     "slide_type": "slide"
    }
   },
   "source": [
    "# Agenda\n",
    "\n",
    "Review and Questions\n",
    "\n",
    "Objectives:\n",
    "\n",
    "<ul>\n",
    "    <li>Understand and use sets</li>\n",
    "    <li>Poor man debugging: `isinstance()`</li>\n",
    "    <li>Opening and closing files</li>\n",
    "    <li>Reading .txt files and basic .csv</li>\n",
    "</ul>\n",
    "\n",
    "In-class Practice"
   ]
  },
  {
   "cell_type": "markdown",
   "metadata": {},
   "source": [
    "<h1>Review and Questions?</h1>\n",
    "<ul>\n",
    "</ul>"
   ]
  },
  {
   "cell_type": "markdown",
   "metadata": {},
   "source": [
    "<h1>Sets</h1>\n",
    "\n",
    "\n",
    "<ul>\n",
    "    <li>All elements in a set are unique</li>\n",
    "    <li>Elements are un-ordered</li>\n",
    "    <li>Can do set comparisons very easily (union, intersection, etc)</li>\n",
    "</ul>\n",
    "\n"
   ]
  },
  {
   "cell_type": "code",
   "execution_count": 1,
   "metadata": {},
   "outputs": [
    {
     "name": "stdout",
     "output_type": "stream",
     "text": [
      "{1, 2, 3}\n",
      "{4, 5, 6}\n"
     ]
    }
   ],
   "source": [
    "# Two main ways to make a set\n",
    "\n",
    "s = set([1, 2, 3])\n",
    "\n",
    "# OR\n",
    "\n",
    "s2 = {4, 5, 6}\n",
    "print(s)\n",
    "print(s2)"
   ]
  },
  {
   "cell_type": "markdown",
   "metadata": {},
   "source": [
    "# Curly braces...\n",
    "## mean dict, right?\n",
    "\n",
    "<strong>Dict:</strong> <code>{'key':'value', 'key2':123}</code><br>\n",
    "<strong>Set:</strong> <code>{'value', 'value2', 4321}\n",
    "\n",
    "Dict has key:value pairs while set has individual values"
   ]
  },
  {
   "cell_type": "code",
   "execution_count": 2,
   "metadata": {},
   "outputs": [
    {
     "name": "stdout",
     "output_type": "stream",
     "text": [
      "{1, 2, 3}\n",
      "{1, 2, 3, 5}\n"
     ]
    }
   ],
   "source": [
    "print(s)\n",
    "s.add(5)   # add a single item to the set: s\n",
    "print(s)"
   ]
  },
  {
   "cell_type": "code",
   "execution_count": 3,
   "metadata": {},
   "outputs": [
    {
     "name": "stdout",
     "output_type": "stream",
     "text": [
      "{4, 5, 6}\n",
      "{1, 4, 5, 6, 9}\n"
     ]
    }
   ],
   "source": [
    "print(s2)\n",
    "s2.update([1, 9, 4])   # adding all of these items to our second set: s2\n",
    "print(s2)\n",
    "\n",
    "# NOTICE:\n",
    "# even though we are updating with an additional 4, Python only includes one of them.\n"
   ]
  },
  {
   "cell_type": "markdown",
   "metadata": {},
   "source": [
    "## `.add()`\n",
    "\n",
    "## `.update()`\n",
    "\n",
    "Why not `.append()` AND `.extend()`, like in lists?\n",
    "\n",
    "Lists have order, so append (i.e. to the end) makes sense\n",
    " \n",
    "Sets don't have order, so append is less meaningful than add\n",
    "\n",
    "**Mnemonic**: appendices are at the end of books.\n"
   ]
  },
  {
   "cell_type": "code",
   "execution_count": 4,
   "metadata": {},
   "outputs": [
    {
     "name": "stdout",
     "output_type": "stream",
     "text": [
      "{1, 2, 3, 5} {1, 4, 5, 6, 9}\n",
      "{2, 3}\n",
      "{9, 4, 6}\n"
     ]
    }
   ],
   "source": [
    "print(s, s2)\n",
    "print(s.difference(s2))  # IN s but NOT IN s2\n",
    "print(s2.difference(s))  # IN s2 but NOT IN s"
   ]
  },
  {
   "cell_type": "code",
   "execution_count": 5,
   "metadata": {},
   "outputs": [
    {
     "name": "stdout",
     "output_type": "stream",
     "text": [
      "{1, 2, 3, 5} {1, 4, 5, 6, 9}\n",
      "{1, 5}\n"
     ]
    }
   ],
   "source": [
    "print(s, s2)\n",
    "print(s.intersection(s2))  # ONLY items found in both s and s2"
   ]
  },
  {
   "cell_type": "code",
   "execution_count": 6,
   "metadata": {},
   "outputs": [
    {
     "name": "stdout",
     "output_type": "stream",
     "text": [
      "{1, 2, 3, 5} {1, 4, 5, 6, 9}\n",
      "{1, 2, 3, 4, 5, 6, 9}\n"
     ]
    }
   ],
   "source": [
    "print(s, s2)\n",
    "print(s.union(s2))   # ALL items in the combination of both s and s2"
   ]
  },
  {
   "cell_type": "code",
   "execution_count": 7,
   "metadata": {},
   "outputs": [
    {
     "name": "stdout",
     "output_type": "stream",
     "text": [
      "{1, 2, 3, 5} {1, 4, 5, 6, 9}\n",
      "{2, 3, 4, 6, 9}\n"
     ]
    }
   ],
   "source": [
    "print(s, s2)\n",
    "print(s.symmetric_difference(s2))  # the combined set of unique items from both sets\n",
    "                                   # i.e. everything that is NOT found in both s and s2"
   ]
  },
  {
   "cell_type": "code",
   "execution_count": 8,
   "metadata": {
    "collapsed": true
   },
   "outputs": [],
   "source": [
    "i = {0}  # single item set"
   ]
  },
  {
   "cell_type": "code",
   "execution_count": 10,
   "metadata": {},
   "outputs": [
    {
     "name": "stdout",
     "output_type": "stream",
     "text": [
      "True\n",
      "False\n"
     ]
    }
   ],
   "source": [
    "print(i.isdisjoint(s))   # checking if two sets, i and s, have overlapping items: they don't\n",
    "print(s.isdisjoint(s2))  # s intersects with s2 so it returns False"
   ]
  },
  {
   "cell_type": "code",
   "execution_count": 11,
   "metadata": {},
   "outputs": [
    {
     "name": "stdout",
     "output_type": "stream",
     "text": [
      "{1, 2, 3, 5} {1, 2, 3}\n"
     ]
    },
    {
     "data": {
      "text/plain": [
       "True"
      ]
     },
     "execution_count": 11,
     "metadata": {},
     "output_type": "execute_result"
    }
   ],
   "source": [
    "v = {1, 2, 3}   # create a new set that contains only items that were in our first set\n",
    "print(s, v)\n",
    "v.issubset(s)   # checks to see if v is a subset (i.e. contains only items found in another set)\n",
    "                # similarly set.issuperset works the other way"
   ]
  },
  {
   "cell_type": "code",
   "execution_count": 12,
   "metadata": {},
   "outputs": [
    {
     "data": {
      "text/plain": [
       "frozenset({1, 2, 3})"
      ]
     },
     "execution_count": 12,
     "metadata": {},
     "output_type": "execute_result"
    }
   ],
   "source": [
    "f = frozenset([1, 2, 3])   # frozensets are like sets except they are immutable\n",
    "f"
   ]
  },
  {
   "cell_type": "markdown",
   "metadata": {},
   "source": [
    "# Experience Points!\n",
    "\n",
    "On the **IPython interpreter** do each of the following:\n",
    "\n",
    "Task | Sample Object(s)\n",
    ":---|---\n",
    "Create a set | Make it an empty set AND label it `setOne`\n",
    "Create a different set | Include only one object, your name AND label it `setTwo`\n",
    "Create another set | Include five objects, including duplicates AND label it `setThree`\n",
    "Create a frozenset | Include four objects, again, including duplicates AND label it `fset`"
   ]
  },
  {
   "cell_type": "code",
   "execution_count": 13,
   "metadata": {},
   "outputs": [
    {
     "name": "stdout",
     "output_type": "stream",
     "text": [
      "{}\n",
      "set()\n",
      "{'dark lord'}\n",
      "{1, 2, 3}\n",
      "frozenset({'b', 'a', 'c'})\n"
     ]
    }
   ],
   "source": [
    "setOne = {}\n",
    "setOneA = set()\n",
    "setTwo = {'dark lord'}\n",
    "setThree = {1, 1, 2, 3, 2}\n",
    "fset = frozenset(['a', 'a', 'b', 'c', 'c', 'c'])\n",
    "\n",
    "print(setOne, setOneA, setTwo, setThree, fset, sep='\\n')"
   ]
  },
  {
   "cell_type": "markdown",
   "metadata": {},
   "source": [
    "# Deduplicating on the fly"
   ]
  },
  {
   "cell_type": "code",
   "execution_count": 14,
   "metadata": {},
   "outputs": [
    {
     "name": "stdout",
     "output_type": "stream",
     "text": [
      "{1, 2, 3}\n"
     ]
    }
   ],
   "source": [
    "uniques = set([1, 2, 3, 1, 1, 1, 1, 1, 1, 2, 2, 2, 2, 2, 2, 2, 3, 3, 3, 3, 3])\n",
    "print(uniques)"
   ]
  },
  {
   "cell_type": "code",
   "execution_count": 15,
   "metadata": {},
   "outputs": [
    {
     "name": "stdout",
     "output_type": "stream",
     "text": [
      "[1, 2, 3, 4, 5, 1, 2, 3, 4, 5, 1, 2, 3, 4, 5, 1, 2, 3, 4, 5, 1, 2, 3, 4, 5, 1, 2, 3, 4, 5, 1, 2, 3, 4, 5, 1, 2, 3, 4, 5, 1, 2, 3, 4, 5, 1, 2, 3, 4, 5, 1, 2, 3, 4, 5, 1, 2, 3, 4, 5, 1, 2, 3, 4, 5, 1, 2, 3, 4, 5, 1, 2, 3, 4, 5, 1, 2, 3, 4, 5, 1, 2, 3, 4, 5, 1, 2, 3, 4, 5, 1, 2, 3, 4, 5, 1, 2, 3, 4, 5, 1, 2, 3, 4, 5, 1, 2, 3, 4, 5, 1, 2, 3, 4, 5, 1, 2, 3, 4, 5, 1, 2, 3, 4, 5, 1, 2, 3, 4, 5, 1, 2, 3, 4, 5, 1, 2, 3, 4, 5, 1, 2, 3, 4, 5, 1, 2, 3, 4, 5, 1, 2, 3, 4, 5, 1, 2, 3, 4, 5, 1, 2, 3, 4, 5, 1, 2, 3, 4, 5, 1, 2, 3, 4, 5, 1, 2, 3, 4, 5, 1, 2, 3, 4, 5, 1, 2, 3, 4, 5, 1, 2, 3, 4, 5, 1, 2, 3, 4, 5, 1, 2, 3, 4, 5, 1, 2, 3, 4, 5, 1, 2, 3, 4, 5, 1, 2, 3, 4, 5, 1, 2, 3, 4, 5, 1, 2, 3, 4, 5, 1, 2, 3, 4, 5, 1, 2, 3, 4, 5, 1, 2, 3, 4, 5, 1, 2, 3, 4, 5, 1, 2, 3, 4, 5, 1, 2, 3, 4, 5, 1, 2, 3, 4, 5, 1, 2, 3, 4, 5, 1, 2, 3, 4, 5, 1, 2, 3, 4, 5, 1, 2, 3, 4, 5, 1, 2, 3, 4, 5, 1, 2, 3, 4, 5, 1, 2, 3, 4, 5, 1, 2, 3, 4, 5, 1, 2, 3, 4, 5, 1, 2, 3, 4, 5, 1, 2, 3, 4, 5, 1, 2, 3, 4, 5, 1, 2, 3, 4, 5, 1, 2, 3, 4, 5, 1, 2, 3, 4, 5, 1, 2, 3, 4, 5, 1, 2, 3, 4, 5, 1, 2, 3, 4, 5, 1, 2, 3, 4, 5, 1, 2, 3, 4, 5, 1, 2, 3, 4, 5, 1, 2, 3, 4, 5, 1, 2, 3, 4, 5, 1, 2, 3, 4, 5, 1, 2, 3, 4, 5, 1, 2, 3, 4, 5, 1, 2, 3, 4, 5, 1, 2, 3, 4, 5, 1, 2, 3, 4, 5, 1, 2, 3, 4, 5, 1, 2, 3, 4, 5, 1, 2, 3, 4, 5, 1, 2, 3, 4, 5, 1, 2, 3, 4, 5, 1, 2, 3, 4, 5, 1, 2, 3, 4, 5, 1, 2, 3, 4, 5, 1, 2, 3, 4, 5, 1, 2, 3, 4, 5, 1, 2, 3, 4, 5, 1, 2, 3, 4, 5, 1, 2, 3, 4, 5, 1, 2, 3, 4, 5, 1, 2, 3, 4, 5, 1, 2, 3, 4, 5, 1, 2, 3, 4, 5, 1, 2, 3, 4, 5, 1, 2, 3, 4, 5, 1, 2, 3, 4, 5, 1, 2, 3, 4, 5, 1, 2, 3, 4, 5, 1, 2, 3, 4, 5, 1, 2, 3, 4, 5, 1, 2, 3, 4, 5, 1, 2, 3, 4, 5, 1, 2, 3, 4, 5, 1, 2, 3, 4, 5, 1, 2, 3, 4, 5, 1, 2, 3, 4, 5, 1, 2, 3, 4, 5, 1, 2, 3, 4, 5, 1, 2, 3, 4, 5, 1, 2, 3, 4, 5, 1, 2, 3, 4, 5, 1, 2, 3, 4, 5, 1, 2, 3, 4, 5, 1, 2, 3, 4, 5, 1, 2, 3, 4, 5, 1, 2, 3, 4, 5, 1, 2, 3, 4, 5, 1, 2, 3, 4, 5, 1, 2, 3, 4, 5, 1, 2, 3, 4, 5, 1, 2, 3, 4, 5, 1, 2, 3, 4, 5, 1, 2, 3, 4, 5, 1, 2, 3, 4, 5, 1, 2, 3, 4, 5, 1, 2, 3, 4, 5, 1, 2, 3, 4, 5, 1, 2, 3, 4, 5, 1, 2, 3, 4, 5, 1, 2, 3, 4, 5, 1, 2, 3, 4, 5, 1, 2, 3, 4, 5, 1, 2, 3, 4, 5, 1, 2, 3, 4, 5, 1, 2, 3, 4, 5, 1, 2, 3, 4, 5, 1, 2, 3, 4, 5, 1, 2, 3, 4, 5, 1, 2, 3, 4, 5, 1, 2, 3, 4, 5, 1, 2, 3, 4, 5, 1, 2, 3, 4, 5, 1, 2, 3, 4, 5, 1, 2, 3, 4, 5, 1, 2, 3, 4, 5, 1, 2, 3, 4, 5, 1, 2, 3, 4, 5, 1, 2, 3, 4, 5, 1, 2, 3, 4, 5, 1, 2, 3, 4, 5, 1, 2, 3, 4, 5, 1, 2, 3, 4, 5, 1, 2, 3, 4, 5, 1, 2, 3, 4, 5, 1, 2, 3, 4, 5, 1, 2, 3, 4, 5, 1, 2, 3, 4, 5, 1, 2, 3, 4, 5, 1, 2, 3, 4, 5, 1, 2, 3, 4, 5, 1, 2, 3, 4, 5, 1, 2, 3, 4, 5, 1, 2, 3, 4, 5, 1, 2, 3, 4, 5, 1, 2, 3, 4, 5, 1, 2, 3, 4, 5, 1, 2, 3, 4, 5, 1, 2, 3, 4, 5, 1, 2, 3, 4, 5, 1, 2, 3, 4, 5, 1, 2, 3, 4, 5, 1, 2, 3, 4, 5, 1, 2, 3, 4, 5, 1, 2, 3, 4, 5, 1, 2, 3, 4, 5, 1, 2, 3, 4, 5, 1, 2, 3, 4, 5, 1, 2, 3, 4, 5, 1, 2, 3, 4, 5, 1, 2, 3, 4, 5, 1, 2, 3, 4, 5, 1, 2, 3, 4, 5, 1, 2, 3, 4, 5, 1, 2, 3, 4, 5, 1, 2, 3, 4, 5, 1, 2, 3, 4, 5, 1, 2, 3, 4, 5, 1, 2, 3, 4, 5, 1, 2, 3, 4, 5, 1, 2, 3, 4, 5, 1, 2, 3, 4, 5, 1, 2, 3, 4, 5, 1, 2, 3, 4, 5, 1, 2, 3, 4, 5, 1, 2, 3, 4, 5, 1, 2, 3, 4, 5, 1, 2, 3, 4, 5, 1, 2, 3, 4, 5, 1, 2, 3, 4, 5, 1, 2, 3, 4, 5, 1, 2, 3, 4, 5, 1, 2, 3, 4, 5, 1, 2, 3, 4, 5, 1, 2, 3, 4, 5, 1, 2, 3, 4, 5, 1, 2, 3, 4, 5, 1, 2, 3, 4, 5, 1, 2, 3, 4, 5, 1, 2, 3, 4, 5, 1, 2, 3, 4, 5, 1, 2, 3, 4, 5, 1, 2, 3, 4, 5, 1, 2, 3, 4, 5, 1, 2, 3, 4, 5, 1, 2, 3, 4, 5, 1, 2, 3, 4, 5, 1, 2, 3, 4, 5, 1, 2, 3, 4, 5, 1, 2, 3, 4, 5, 1, 2, 3, 4, 5, 1, 2, 3, 4, 5, 1, 2, 3, 4, 5, 1, 2, 3, 4, 5, 1, 2, 3, 4, 5, 1, 2, 3, 4, 5, 1, 2, 3, 4, 5, 1, 2, 3, 4, 5, 1, 2, 3, 4, 5, 1, 2, 3, 4, 5, 1, 2, 3, 4, 5, 1, 2, 3, 4, 5, 1, 2, 3, 4, 5, 1, 2, 3, 4, 5, 1, 2, 3, 4, 5, 1, 2, 3, 4, 5, 1, 2, 3, 4, 5, 1, 2, 3, 4, 5, 1, 2, 3, 4, 5, 1, 2, 3, 4, 5, 1, 2, 3, 4, 5, 1, 2, 3, 4, 5, 1, 2, 3, 4, 5, 1, 2, 3, 4, 5, 1, 2, 3, 4, 5, 1, 2, 3, 4, 5, 1, 2, 3, 4, 5, 1, 2, 3, 4, 5, 1, 2, 3, 4, 5, 1, 2, 3, 4, 5, 1, 2, 3, 4, 5, 1, 2, 3, 4, 5, 1, 2, 3, 4, 5, 1, 2, 3, 4, 5, 1, 2, 3, 4, 5, 1, 2, 3, 4, 5, 1, 2, 3, 4, 5, 1, 2, 3, 4, 5, 1, 2, 3, 4, 5, 1, 2, 3, 4, 5, 1, 2, 3, 4, 5, 1, 2, 3, 4, 5, 1, 2, 3, 4, 5, 1, 2, 3, 4, 5, 1, 2, 3, 4, 5, 1, 2, 3, 4, 5, 1, 2, 3, 4, 5, 1, 2, 3, 4, 5, 1, 2, 3, 4, 5, 1, 2, 3, 4, 5, 1, 2, 3, 4, 5, 1, 2, 3, 4, 5, 1, 2, 3, 4, 5, 1, 2, 3, 4, 5, 1, 2, 3, 4, 5, 1, 2, 3, 4, 5, 1, 2, 3, 4, 5, 1, 2, 3, 4, 5, 1, 2, 3, 4, 5, 1, 2, 3, 4, 5, 1, 2, 3, 4, 5, 1, 2, 3, 4, 5, 1, 2, 3, 4, 5, 1, 2, 3, 4, 5, 1, 2, 3, 4, 5, 1, 2, 3, 4, 5, 1, 2, 3, 4, 5, 1, 2, 3, 4, 5, 1, 2, 3, 4, 5, 1, 2, 3, 4, 5, 1, 2, 3, 4, 5, 1, 2, 3, 4, 5, 1, 2, 3, 4, 5, 1, 2, 3, 4, 5, 1, 2, 3, 4, 5, 1, 2, 3, 4, 5, 1, 2, 3, 4, 5, 1, 2, 3, 4, 5, 1, 2, 3, 4, 5, 1, 2, 3, 4, 5, 1, 2, 3, 4, 5, 1, 2, 3, 4, 5, 1, 2, 3, 4, 5, 1, 2, 3, 4, 5, 1, 2, 3, 4, 5, 1, 2, 3, 4, 5, 1, 2, 3, 4, 5, 1, 2, 3, 4, 5, 1, 2, 3, 4, 5, 1, 2, 3, 4, 5, 1, 2, 3, 4, 5, 1, 2, 3, 4, 5, 1, 2, 3, 4, 5, 1, 2, 3, 4, 5, 1, 2, 3, 4, 5, 1, 2, 3, 4, 5, 1, 2, 3, 4, 5, 1, 2, 3, 4, 5, 1, 2, 3, 4, 5, 1, 2, 3, 4, 5, 1, 2, 3, 4, 5, 1, 2, 3, 4, 5, 1, 2, 3, 4, 5, 1, 2, 3, 4, 5, 1, 2, 3, 4, 5, 1, 2, 3, 4, 5, 1, 2, 3, 4, 5, 1, 2, 3, 4, 5, 1, 2, 3, 4, 5, 1, 2, 3, 4, 5, 1, 2, 3, 4, 5, 1, 2, 3, 4, 5, 1, 2, 3, 4, 5, 1, 2, 3, 4, 5, 1, 2, 3, 4, 5, 1, 2, 3, 4, 5, 1, 2, 3, 4, 5, 1, 2, 3, 4, 5, 1, 2, 3, 4, 5, 1, 2, 3, 4, 5, 1, 2, 3, 4, 5, 1, 2, 3, 4, 5, 1, 2, 3, 4, 5, 1, 2, 3, 4, 5, 1, 2, 3, 4, 5, 1, 2, 3, 4, 5, 1, 2, 3, 4, 5, 1, 2, 3, 4, 5, 1, 2, 3, 4, 5, 1, 2, 3, 4, 5, 1, 2, 3, 4, 5, 1, 2, 3, 4, 5, 1, 2, 3, 4, 5, 1, 2, 3, 4, 5, 1, 2, 3, 4, 5, 1, 2, 3, 4, 5, 1, 2, 3, 4, 5, 1, 2, 3, 4, 5, 1, 2, 3, 4, 5, 1, 2, 3, 4, 5, 1, 2, 3, 4, 5, 1, 2, 3, 4, 5, 1, 2, 3, 4, 5, 1, 2, 3, 4, 5, 1, 2, 3, 4, 5, 1, 2, 3, 4, 5, 1, 2, 3, 4, 5, 1, 2, 3, 4, 5, 1, 2, 3, 4, 5, 1, 2, 3, 4, 5, 1, 2, 3, 4, 5, 1, 2, 3, 4, 5, 1, 2, 3, 4, 5, 1, 2, 3, 4, 5, 1, 2, 3, 4, 5, 1, 2, 3, 4, 5, 1, 2, 3, 4, 5, 1, 2, 3, 4, 5, 1, 2, 3, 4, 5, 1, 2, 3, 4, 5, 1, 2, 3, 4, 5, 1, 2, 3, 4, 5, 1, 2, 3, 4, 5, 1, 2, 3, 4, 5, 1, 2, 3, 4, 5, 1, 2, 3, 4, 5, 1, 2, 3, 4, 5, 1, 2, 3, 4, 5, 1, 2, 3, 4, 5, 1, 2, 3, 4, 5, 1, 2, 3, 4, 5, 1, 2, 3, 4, 5, 1, 2, 3, 4, 5, 1, 2, 3, 4, 5, 1, 2, 3, 4, 5, 1, 2, 3, 4, 5, 1, 2, 3, 4, 5, 1, 2, 3, 4, 5, 1, 2, 3, 4, 5, 1, 2, 3, 4, 5, 1, 2, 3, 4, 5, 1, 2, 3, 4, 5, 1, 2, 3, 4, 5, 1, 2, 3, 4, 5, 1, 2, 3, 4, 5, 1, 2, 3, 4, 5, 1, 2, 3, 4, 5, 1, 2, 3, 4, 5, 1, 2, 3, 4, 5, 1, 2, 3, 4, 5, 1, 2, 3, 4, 5, 1, 2, 3, 4, 5, 1, 2, 3, 4, 5, 1, 2, 3, 4, 5, 1, 2, 3, 4, 5, 1, 2, 3, 4, 5, 1, 2, 3, 4, 5, 1, 2, 3, 4, 5, 1, 2, 3, 4, 5, 1, 2, 3, 4, 5, 1, 2, 3, 4, 5, 1, 2, 3, 4, 5, 1, 2, 3, 4, 5, 1, 2, 3, 4, 5, 1, 2, 3, 4, 5, 1, 2, 3, 4, 5, 1, 2, 3, 4, 5, 1, 2, 3, 4, 5, 1, 2, 3, 4, 5, 1, 2, 3, 4, 5, 1, 2, 3, 4, 5, 1, 2, 3, 4, 5, 1, 2, 3, 4, 5, 1, 2, 3, 4, 5, 1, 2, 3, 4, 5, 1, 2, 3, 4, 5, 1, 2, 3, 4, 5, 1, 2, 3, 4, 5, 1, 2, 3, 4, 5, 1, 2, 3, 4, 5, 1, 2, 3, 4, 5, 1, 2, 3, 4, 5, 1, 2, 3, 4, 5, 1, 2, 3, 4, 5, 1, 2, 3, 4, 5, 1, 2, 3, 4, 5, 1, 2, 3, 4, 5, 1, 2, 3, 4, 5, 1, 2, 3, 4, 5, 1, 2, 3, 4, 5, 1, 2, 3, 4, 5, 1, 2, 3, 4, 5, 1, 2, 3, 4, 5, 1, 2, 3, 4, 5, 1, 2, 3, 4, 5, 1, 2, 3, 4, 5, 1, 2, 3, 4, 5, 1, 2, 3, 4, 5, 1, 2, 3, 4, 5, 1, 2, 3, 4, 5, 1, 2, 3, 4, 5, 1, 2, 3, 4, 5, 1, 2, 3, 4, 5, 1, 2, 3, 4, 5, 1, 2, 3, 4, 5, 1, 2, 3, 4, 5, 1, 2, 3, 4, 5, 1, 2, 3, 4, 5, 1, 2, 3, 4, 5, 1, 2, 3, 4, 5, 1, 2, 3, 4, 5, 1, 2, 3, 4, 5, 1, 2, 3, 4, 5, 1, 2, 3, 4, 5, 1, 2, 3, 4, 5, 1, 2, 3, 4, 5, 1, 2, 3, 4, 5, 1, 2, 3, 4, 5, 1, 2, 3, 4, 5, 1, 2, 3, 4, 5, 1, 2, 3, 4, 5, 1, 2, 3, 4, 5, 1, 2, 3, 4, 5, 1, 2, 3, 4, 5, 1, 2, 3, 4, 5, 1, 2, 3, 4, 5, 1, 2, 3, 4, 5, 1, 2, 3, 4, 5, 1, 2, 3, 4, 5, 1, 2, 3, 4, 5, 1, 2, 3, 4, 5, 1, 2, 3, 4, 5, 1, 2, 3, 4, 5, 1, 2, 3, 4, 5, 1, 2, 3, 4, 5, 1, 2, 3, 4, 5, 1, 2, 3, 4, 5, 1, 2, 3, 4, 5, 1, 2, 3, 4, 5, 1, 2, 3, 4, 5, 1, 2, 3, 4, 5, 1, 2, 3, 4, 5, 1, 2, 3, 4, 5, 1, 2, 3, 4, 5, 1, 2, 3, 4, 5, 1, 2, 3, 4, 5, 1, 2, 3, 4, 5, 1, 2, 3, 4, 5, 1, 2, 3, 4, 5, 1, 2, 3, 4, 5, 1, 2, 3, 4, 5, 1, 2, 3, 4, 5, 1, 2, 3, 4, 5, 1, 2, 3, 4, 5, 1, 2, 3, 4, 5, 1, 2, 3, 4, 5, 1, 2, 3, 4, 5, 1, 2, 3, 4, 5, 1, 2, 3, 4, 5, 1, 2, 3, 4, 5, 1, 2, 3, 4, 5, 1, 2, 3, 4, 5, 1, 2, 3, 4, 5, 1, 2, 3, 4, 5, 1, 2, 3, 4, 5, 1, 2, 3, 4, 5, 1, 2, 3, 4, 5, 1, 2, 3, 4, 5, 1, 2, 3, 4, 5, 1, 2, 3, 4, 5, 1, 2, 3, 4, 5, 1, 2, 3, 4, 5, 1, 2, 3, 4, 5, 1, 2, 3, 4, 5, 1, 2, 3, 4, 5, 1, 2, 3, 4, 5, 1, 2, 3, 4, 5, 1, 2, 3, 4, 5, 1, 2, 3, 4, 5, 1, 2, 3, 4, 5, 1, 2, 3, 4, 5, 1, 2, 3, 4, 5, 1, 2, 3, 4, 5, 1, 2, 3, 4, 5, 1, 2, 3, 4, 5, 1, 2, 3, 4, 5, 1, 2, 3, 4, 5, 1, 2, 3, 4, 5, 1, 2, 3, 4, 5, 1, 2, 3, 4, 5, 1, 2, 3, 4, 5, 1, 2, 3, 4, 5, 1, 2, 3, 4, 5, 1, 2, 3, 4, 5, 1, 2, 3, 4, 5, 1, 2, 3, 4, 5, 1, 2, 3, 4, 5, 1, 2, 3, 4, 5, 1, 2, 3, 4, 5, 1, 2, 3, 4, 5, 1, 2, 3, 4, 5, 1, 2, 3, 4, 5, 1, 2, 3, 4, 5, 1, 2, 3, 4, 5, 1, 2, 3, 4, 5, 1, 2, 3, 4, 5, 1, 2, 3, 4, 5, 1, 2, 3, 4, 5, 1, 2, 3, 4, 5, 1, 2, 3, 4, 5, 1, 2, 3, 4, 5, 1, 2, 3, 4, 5, 1, 2, 3, 4, 5, 1, 2, 3, 4, 5, 1, 2, 3, 4, 5, 1, 2, 3, 4, 5, 1, 2, 3, 4, 5, 1, 2, 3, 4, 5, 1, 2, 3, 4, 5, 1, 2, 3, 4, 5, 1, 2, 3, 4, 5, 1, 2, 3, 4, 5, 1, 2, 3, 4, 5, 1, 2, 3, 4, 5, 1, 2, 3, 4, 5, 1, 2, 3, 4, 5, 1, 2, 3, 4, 5, 1, 2, 3, 4, 5, 1, 2, 3, 4, 5, 1, 2, 3, 4, 5, 1, 2, 3, 4, 5, 1, 2, 3, 4, 5, 1, 2, 3, 4, 5, 1, 2, 3, 4, 5, 1, 2, 3, 4, 5, 1, 2, 3, 4, 5, 1, 2, 3, 4, 5, 1, 2, 3, 4, 5, 1, 2, 3, 4, 5, 1, 2, 3, 4, 5, 1, 2, 3, 4, 5, 1, 2, 3, 4, 5, 1, 2, 3, 4, 5, 1, 2, 3, 4, 5, 1, 2, 3, 4, 5, 1, 2, 3, 4, 5, 1, 2, 3, 4, 5, 1, 2, 3, 4, 5, 1, 2, 3, 4, 5, 1, 2, 3, 4, 5, 1, 2, 3, 4, 5, 1, 2, 3, 4, 5, 1, 2, 3, 4, 5, 1, 2, 3, 4, 5, 1, 2, 3, 4, 5, 1, 2, 3, 4, 5, 1, 2, 3, 4, 5, 1, 2, 3, 4, 5, 1, 2, 3, 4, 5, 1, 2, 3, 4, 5, 1, 2, 3, 4, 5, 1, 2, 3, 4, 5, 1, 2, 3, 4, 5, 1, 2, 3, 4, 5, 1, 2, 3, 4, 5, 1, 2, 3, 4, 5, 1, 2, 3, 4, 5, 1, 2, 3, 4, 5, 1, 2, 3, 4, 5, 1, 2, 3, 4, 5, 1, 2, 3, 4, 5, 1, 2, 3, 4, 5, 1, 2, 3, 4, 5, 1, 2, 3, 4, 5, 1, 2, 3, 4, 5, 1, 2, 3, 4, 5, 1, 2, 3, 4, 5, 1, 2, 3, 4, 5, 1, 2, 3, 4, 5, 1, 2, 3, 4, 5, 1, 2, 3, 4, 5, 1, 2, 3, 4, 5, 1, 2, 3, 4, 5, 1, 2, 3, 4, 5, 1, 2, 3, 4, 5, 1, 2, 3, 4, 5, 1, 2, 3, 4, 5, 1, 2, 3, 4, 5, 1, 2, 3, 4, 5, 1, 2, 3, 4, 5, 1, 2, 3, 4, 5, 1, 2, 3, 4, 5, 1, 2, 3, 4, 5, 1, 2, 3, 4, 5, 1, 2, 3, 4, 5, 1, 2, 3, 4, 5, 1, 2, 3, 4, 5, 1, 2, 3, 4, 5, 1, 2, 3, 4, 5, 1, 2, 3, 4, 5, 1, 2, 3, 4, 5, 1, 2, 3, 4, 5, 1, 2, 3, 4, 5, 1, 2, 3, 4, 5, 1, 2, 3, 4, 5, 1, 2, 3, 4, 5, 1, 2, 3, 4, 5, 1, 2, 3, 4, 5, 1, 2, 3, 4, 5, 1, 2, 3, 4, 5, 1, 2, 3, 4, 5, 1, 2, 3, 4, 5, 1, 2, 3, 4, 5, 1, 2, 3, 4, 5, 1, 2, 3, 4, 5, 1, 2, 3, 4, 5, 1, 2, 3, 4, 5, 1, 2, 3, 4, 5, 1, 2, 3, 4, 5, 1, 2, 3, 4, 5, 1, 2, 3, 4, 5, 1, 2, 3, 4, 5, 1, 2, 3, 4, 5, 1, 2, 3, 4, 5, 1, 2, 3, 4, 5, 1, 2, 3, 4, 5, 1, 2, 3, 4, 5, 1, 2, 3, 4, 5, 1, 2, 3, 4, 5, 1, 2, 3, 4, 5, 1, 2, 3, 4, 5, 1, 2, 3, 4, 5, 1, 2, 3, 4, 5, 1, 2, 3, 4, 5, 1, 2, 3, 4, 5, 1, 2, 3, 4, 5, 1, 2, 3, 4, 5, 1, 2, 3, 4, 5, 1, 2, 3, 4, 5, 1, 2, 3, 4, 5, 1, 2, 3, 4, 5, 1, 2, 3, 4, 5, 1, 2, 3, 4, 5, 1, 2, 3, 4, 5, 1, 2, 3, 4, 5, 1, 2, 3, 4, 5, 1, 2, 3, 4, 5, 1, 2, 3, 4, 5, 1, 2, 3, 4, 5, 1, 2, 3, 4, 5, 1, 2, 3, 4, 5, 1, 2, 3, 4, 5, 1, 2, 3, 4, 5, 1, 2, 3, 4, 5, 1, 2, 3, 4, 5, 1, 2, 3, 4, 5, 1, 2, 3, 4, 5, 1, 2, 3, 4, 5, 1, 2, 3, 4, 5, 1, 2, 3, 4, 5, 1, 2, 3, 4, 5, 1, 2, 3, 4, 5, 1, 2, 3, 4, 5, 1, 2, 3, 4, 5, 1, 2, 3, 4, 5, 1, 2, 3, 4, 5, 1, 2, 3, 4, 5, 1, 2, 3, 4, 5, 1, 2, 3, 4, 5, 1, 2, 3, 4, 5, 1, 2, 3, 4, 5, 1, 2, 3, 4, 5, 1, 2, 3, 4, 5, 1, 2, 3, 4, 5, 1, 2, 3, 4, 5, 1, 2, 3, 4, 5, 1, 2, 3, 4, 5, 1, 2, 3, 4, 5, 1, 2, 3, 4, 5, 1, 2, 3, 4, 5, 1, 2, 3, 4, 5, 1, 2, 3, 4, 5, 1, 2, 3, 4, 5, 1, 2, 3, 4, 5, 1, 2, 3, 4, 5, 1, 2, 3, 4, 5, 1, 2, 3, 4, 5, 1, 2, 3, 4, 5, 1, 2, 3, 4, 5, 1, 2, 3, 4, 5, 1, 2, 3, 4, 5, 1, 2, 3, 4, 5, 1, 2, 3, 4, 5, 1, 2, 3, 4, 5, 1, 2, 3, 4, 5, 1, 2, 3, 4, 5, 1, 2, 3, 4, 5, 1, 2, 3, 4, 5, 1, 2, 3, 4, 5, 1, 2, 3, 4, 5, 1, 2, 3, 4, 5, 1, 2, 3, 4, 5, 1, 2, 3, 4, 5, 1, 2, 3, 4, 5, 1, 2, 3, 4, 5, 1, 2, 3, 4, 5, 1, 2, 3, 4, 5, 1, 2, 3, 4, 5, 1, 2, 3, 4, 5, 1, 2, 3, 4, 5, 1, 2, 3, 4, 5, 1, 2, 3, 4, 5, 1, 2, 3, 4, 5, 1, 2, 3, 4, 5, 1, 2, 3, 4, 5, 1, 2, 3, 4, 5, 1, 2, 3, 4, 5, 1, 2, 3, 4, 5, 1, 2, 3, 4, 5, 1, 2, 3, 4, 5, 1, 2, 3, 4, 5, 1, 2, 3, 4, 5, 1, 2, 3, 4, 5, 1, 2, 3, 4, 5, 1, 2, 3, 4, 5, 1, 2, 3, 4, 5, 1, 2, 3, 4, 5, 1, 2, 3, 4, 5, 1, 2, 3, 4, 5, 1, 2, 3, 4, 5, 1, 2, 3, 4, 5, 1, 2, 3, 4, 5, 1, 2, 3, 4, 5, 1, 2, 3, 4, 5, 1, 2, 3, 4, 5, 1, 2, 3, 4, 5, 1, 2, 3, 4, 5, 1, 2, 3, 4, 5, 1, 2, 3, 4, 5, 1, 2, 3, 4, 5, 1, 2, 3, 4, 5, 1, 2, 3, 4, 5, 1, 2, 3, 4, 5, 1, 2, 3, 4, 5, 1, 2, 3, 4, 5, 1, 2, 3, 4, 5, 1, 2, 3, 4, 5, 1, 2, 3, 4, 5, 1, 2, 3, 4, 5, 1, 2, 3, 4, 5, 1, 2, 3, 4, 5, 1, 2, 3, 4, 5, 1, 2, 3, 4, 5, 1, 2, 3, 4, 5, 1, 2, 3, 4, 5, 1, 2, 3, 4, 5, 1, 2, 3, 4, 5, 1, 2, 3, 4, 5, 1, 2, 3, 4, 5, 1, 2, 3, 4, 5, 1, 2, 3, 4, 5, 1, 2, 3, 4, 5, 1, 2, 3, 4, 5, 1, 2, 3, 4, 5, 1, 2, 3, 4, 5, 1, 2, 3, 4, 5, 1, 2, 3, 4, 5, 1, 2, 3, 4, 5, 1, 2, 3, 4, 5, 1, 2, 3, 4, 5, 1, 2, 3, 4, 5, 1, 2, 3, 4, 5, 1, 2, 3, 4, 5, 1, 2, 3, 4, 5, 1, 2, 3, 4, 5, 1, 2, 3, 4, 5, 1, 2, 3, 4, 5, 1, 2, 3, 4, 5, 1, 2, 3, 4, 5, 1, 2, 3, 4, 5, 1, 2, 3, 4, 5, 1, 2, 3, 4, 5, 1, 2, 3, 4, 5, 1, 2, 3, 4, 5, 1, 2, 3, 4, 5, 1, 2, 3, 4, 5, 1, 2, 3, 4, 5, 1, 2, 3, 4, 5, 1, 2, 3, 4, 5, 1, 2, 3, 4, 5, 1, 2, 3, 4, 5, 1, 2, 3, 4, 5, 1, 2, 3, 4, 5, 1, 2, 3, 4, 5, 1, 2, 3, 4, 5, 1, 2, 3, 4, 5, 1, 2, 3, 4, 5, 1, 2, 3, 4, 5, 1, 2, 3, 4, 5, 1, 2, 3, 4, 5, 1, 2, 3, 4, 5, 1, 2, 3, 4, 5, 1, 2, 3, 4, 5, 1, 2, 3, 4, 5, 1, 2, 3, 4, 5, 1, 2, 3, 4, 5, 1, 2, 3, 4, 5, 1, 2, 3, 4, 5, 1, 2, 3, 4, 5, 1, 2, 3, 4, 5, 1, 2, 3, 4, 5, 1, 2, 3, 4, 5, 1, 2, 3, 4, 5, 1, 2, 3, 4, 5, 1, 2, 3, 4, 5, 1, 2, 3, 4, 5, 1, 2, 3, 4, 5, 1, 2, 3, 4, 5, 1, 2, 3, 4, 5, 1, 2, 3, 4, 5, 1, 2, 3, 4, 5, 1, 2, 3, 4, 5, 1, 2, 3, 4, 5, 1, 2, 3, 4, 5, 1, 2, 3, 4, 5, 1, 2, 3, 4, 5, 1, 2, 3, 4, 5, 1, 2, 3, 4, 5, 1, 2, 3, 4, 5, 1, 2, 3, 4, 5, 1, 2, 3, 4, 5, 1, 2, 3, 4, 5, 1, 2, 3, 4, 5, 1, 2, 3, 4, 5, 1, 2, 3, 4, 5, 1, 2, 3, 4, 5, 1, 2, 3, 4, 5, 1, 2, 3, 4, 5, 1, 2, 3, 4, 5, 1, 2, 3, 4, 5, 1, 2, 3, 4, 5, 1, 2, 3, 4, 5, 1, 2, 3, 4, 5, 1, 2, 3, 4, 5, 1, 2, 3, 4, 5, 1, 2, 3, 4, 5, 1, 2, 3, 4, 5, 1, 2, 3, 4, 5, 1, 2, 3, 4, 5, 1, 2, 3, 4, 5, 1, 2, 3, 4, 5, 1, 2, 3, 4, 5, 1, 2, 3, 4, 5, 1, 2, 3, 4, 5, 1, 2, 3, 4, 5, 1, 2, 3, 4, 5, 1, 2, 3, 4, 5, 1, 2, 3, 4, 5, 1, 2, 3, 4, 5, 1, 2, 3, 4, 5, 1, 2, 3, 4, 5, 1, 2, 3, 4, 5, 1, 2, 3, 4, 5, 1, 2, 3, 4, 5, 1, 2, 3, 4, 5, 1, 2, 3, 4, 5, 1, 2, 3, 4, 5, 1, 2, 3, 4, 5, 1, 2, 3, 4, 5, 1, 2, 3, 4, 5, 1, 2, 3, 4, 5, 1, 2, 3, 4, 5, 1, 2, 3, 4, 5, 1, 2, 3, 4, 5, 1, 2, 3, 4, 5, 1, 2, 3, 4, 5, 1, 2, 3, 4, 5, 1, 2, 3, 4, 5, 1, 2, 3, 4, 5, 1, 2, 3, 4, 5, 1, 2, 3, 4, 5, 1, 2, 3, 4, 5, 1, 2, 3, 4, 5, 1, 2, 3, 4, 5, 1, 2, 3, 4, 5, 1, 2, 3, 4, 5, 1, 2, 3, 4, 5, 1, 2, 3, 4, 5, 1, 2, 3, 4, 5, 1, 2, 3, 4, 5, 1, 2, 3, 4, 5, 1, 2, 3, 4, 5, 1, 2, 3, 4, 5, 1, 2, 3, 4, 5, 1, 2, 3, 4, 5, 1, 2, 3, 4, 5, 1, 2, 3, 4, 5, 1, 2, 3, 4, 5, 1, 2, 3, 4, 5, 1, 2, 3, 4, 5, 1, 2, 3, 4, 5, 1, 2, 3, 4, 5, 1, 2, 3, 4, 5, 1, 2, 3, 4, 5, 1, 2, 3, 4, 5, 1, 2, 3, 4, 5, 1, 2, 3, 4, 5, 1, 2, 3, 4, 5, 1, 2, 3, 4, 5, 1, 2, 3, 4, 5, 1, 2, 3, 4, 5, 1, 2, 3, 4, 5, 1, 2, 3, 4, 5, 1, 2, 3, 4, 5, 1, 2, 3, 4, 5, 1, 2, 3, 4, 5, 1, 2, 3, 4, 5, 1, 2, 3, 4, 5, 1, 2, 3, 4, 5, 1, 2, 3, 4, 5, 1, 2, 3, 4, 5, 1, 2, 3, 4, 5, 1, 2, 3, 4, 5, 1, 2, 3, 4, 5, 1, 2, 3, 4, 5, 1, 2, 3, 4, 5, 1, 2, 3, 4, 5, 1, 2, 3, 4, 5, 1, 2, 3, 4, 5, 1, 2, 3, 4, 5, 1, 2, 3, 4, 5, 1, 2, 3, 4, 5, 1, 2, 3, 4, 5, 1, 2, 3, 4, 5, 1, 2, 3, 4, 5]\n"
     ]
    }
   ],
   "source": [
    "lots_of_dupes = [1, 2, 3, 4, 5] * 1000\n",
    "print(lots_of_dupes)\n"
   ]
  },
  {
   "cell_type": "code",
   "execution_count": 16,
   "metadata": {},
   "outputs": [
    {
     "name": "stdout",
     "output_type": "stream",
     "text": [
      "{2, 4}\n"
     ]
    }
   ],
   "source": [
    "more_uniques = set()\n",
    "\n",
    "for number in lots_of_dupes:\n",
    "    if number % 2 == 0:\n",
    "        more_uniques.add(number)\n",
    "        \n",
    "print(more_uniques)"
   ]
  },
  {
   "cell_type": "markdown",
   "metadata": {},
   "source": [
    "# Poor man debugging:\n",
    "---"
   ]
  },
  {
   "cell_type": "code",
   "execution_count": 18,
   "metadata": {},
   "outputs": [
    {
     "name": "stdout",
     "output_type": "stream",
     "text": [
      "<class 'list'>\n"
     ]
    }
   ],
   "source": [
    "print(type(lots_of_dupes))\n"
   ]
  },
  {
   "cell_type": "code",
   "execution_count": 19,
   "metadata": {},
   "outputs": [
    {
     "name": "stdout",
     "output_type": "stream",
     "text": [
      "<class 'str'>\n",
      "<class 'list'>\n",
      "you have a str\n"
     ]
    }
   ],
   "source": [
    "s = 'this is a string'\n",
    "l = ['this', 'is', 'a', 'list']\n",
    "\n",
    "# using type to determine what an object is...\n",
    "print(type(s))\n",
    "print(type(l))\n",
    "\n",
    "# type is sometimes problematic... if you need greater exactness:\n",
    "\n",
    "if isinstance(s, list):\n",
    "    print('you have a list')\n",
    "    \n",
    "elif isinstance(s, str):\n",
    "    print('you have a str')\n",
    "\n"
   ]
  },
  {
   "cell_type": "markdown",
   "metadata": {},
   "source": [
    "# Sorting out the good from the bad\n",
    "---"
   ]
  },
  {
   "cell_type": "code",
   "execution_count": 20,
   "metadata": {},
   "outputs": [
    {
     "name": "stdout",
     "output_type": "stream",
     "text": [
      "[2, 3, 5, 7, 8, 42, 99]\n",
      "{2, 3, 99, 5, 7, 8, 42}\n"
     ]
    }
   ],
   "source": [
    "s = {5, 42, 7, 2, 3, 99, 8}\n",
    "\n",
    "result = sorted(s)                \n",
    "print(result)                # produces a LIST\n",
    "print(s)"
   ]
  },
  {
   "cell_type": "code",
   "execution_count": 21,
   "metadata": {},
   "outputs": [
    {
     "data": {
      "text/plain": [
       "['h', 'n', 'o', 'p', 't', 'y']"
      ]
     },
     "execution_count": 21,
     "metadata": {},
     "output_type": "execute_result"
    }
   ],
   "source": [
    "result2 = sorted('python')\n",
    "result2"
   ]
  },
  {
   "cell_type": "code",
   "execution_count": 22,
   "metadata": {},
   "outputs": [
    {
     "name": "stdout",
     "output_type": "stream",
     "text": [
      "[1, 2, 3, 4, 5, 6, 7, 8]\n",
      "[8, 6, 4, 2, 1, 3, 5, 7]\n"
     ]
    }
   ],
   "source": [
    "l = [8, 6, 4, 2, 1, 3, 5, 7]\n",
    "\n",
    "result3 = sorted(l)\n",
    "print(result3)\n",
    "print(l)"
   ]
  },
  {
   "cell_type": "code",
   "execution_count": 23,
   "metadata": {},
   "outputs": [
    {
     "name": "stdout",
     "output_type": "stream",
     "text": [
      "1\n",
      "2\n",
      "3\n",
      "4\n",
      "5\n",
      "6\n",
      "7\n",
      "8\n"
     ]
    }
   ],
   "source": [
    "for num in sorted(l):\n",
    "    print(num)"
   ]
  },
  {
   "cell_type": "code",
   "execution_count": 32,
   "metadata": {},
   "outputs": [
    {
     "data": {
      "text/plain": [
       "[' ',\n",
       " ' ',\n",
       " 'H',\n",
       " 'N',\n",
       " 'O',\n",
       " 'P',\n",
       " 'R',\n",
       " 'T',\n",
       " 'Y',\n",
       " 'e',\n",
       " 'h',\n",
       " 'l',\n",
       " 'l',\n",
       " 'o',\n",
       " 'o',\n",
       " 'x']"
      ]
     },
     "execution_count": 32,
     "metadata": {},
     "output_type": "execute_result"
    }
   ],
   "source": [
    "alpha = list('hello PYTHON Rox')\n",
    "sorted_alpha = sorted(alpha)\n",
    "sorted_alpha"
   ]
  },
  {
   "cell_type": "markdown",
   "metadata": {},
   "source": [
    "# File handling\n",
    "---"
   ]
  },
  {
   "cell_type": "code",
   "execution_count": 33,
   "metadata": {},
   "outputs": [
    {
     "name": "stdout",
     "output_type": "stream",
     "text": [
      "The Walrus and The Carpenter\n",
      "\n",
      "Lewis Carroll\n",
      "\n",
      "(from Through the Looking-Glass and What Alice Found There, 1872)\n",
      "\n",
      "The sun was shining on the sea,\n",
      "Shining with all his might:\n",
      "He did his very best to make\n",
      "The billows smooth and bright--\n",
      "And this was odd, because it was\n",
      "The middle of the night.\n",
      "\n",
      "The moon was shining sulkily,\n",
      "Because she thought the sun\n",
      "Had got no business to be there\n",
      "After the day was done--\n",
      "\"It's very rude of him,\" she said,\n",
      "\"To come and spoil the fun!\"\n",
      "\n",
      "The sea was wet as wet could be,\n",
      "The sands were dry as dry.\n",
      "You could not see a cloud, because\n",
      "No cloud was in the sky:\n",
      "No birds were flying overhead--\n",
      "There were no birds to fly.\n",
      "\n",
      "The Walrus and the Carpenter\n",
      "Were walking close at hand;\n",
      "They wept like anything to see\n",
      "Such quantities of sand:\n",
      "\"If this were only cleared away,\"\n",
      "They said, \"it would be grand!\"\n",
      "\n",
      "\"If seven maids with seven mops\n",
      "Swept it for half a year.\n",
      "Do you suppose,\" the Walrus said,\n",
      "\"That they could get it clear?\"\n",
      "\"I doubt it,\" said the Carpenter,\n",
      "And shed a bitter tear.\n",
      "\n",
      "\"O Oysters, come and walk with us!\"\n",
      "The Walrus did beseech.\n",
      "\"A pleasant walk, a pleasant talk,\n",
      "Along the briny beach:\n",
      "We cannot do with more than four,\n",
      "To give a hand to each.\"\n",
      "\n",
      "The eldest Oyster looked at him,\n",
      "But never a word he said:\n",
      "The eldest Oyster winked his eye,\n",
      "And shook his heavy head--\n",
      "Meaning to say he did not choose\n",
      "To leave the oyster-bed.\n",
      "\n",
      "But four young Oysters hurried up,\n",
      "All eager for the treat:\n",
      "Their coats were brushed, their faces washed,\n",
      "Their shoes were clean and neat--\n",
      "And this was odd, because, you know,\n",
      "They hadn't any feet.\n",
      "\n",
      "Four other Oysters followed them,\n",
      "And yet another four;\n",
      "And thick and fast they came at last,\n",
      "And more, and more, and more--\n",
      "All hopping through the frothy waves,\n",
      "And scrambling to the shore.\n",
      "\n",
      "The Walrus and the Carpenter\n",
      "Walked on a mile or so,\n",
      "And then they rested on a rock\n",
      "Conveniently low:\n",
      "And all the little Oysters stood\n",
      "And waited in a row.\n",
      "\n",
      "\"The time has come,\" the Walrus said,\n",
      "\"To talk of many things:\n",
      "Of shoes--and ships--and sealing-wax--\n",
      "Of cabbages--and kings--\n",
      "And why the sea is boiling hot--\n",
      "And whether pigs have wings.\"\n",
      "\n",
      "\"But wait a bit,\" the Oysters cried,\n",
      "\"Before we have our chat;\n",
      "For some of us are out of breath,\n",
      "And all of us are fat!\"\n",
      "\"No hurry!\" said the Carpenter.\n",
      "They thanked him much for that.\n",
      "\n",
      "\"A loaf of bread,\" the Walrus said,\n",
      "\"Is what we chiefly need:\n",
      "Pepper and vinegar besides\n",
      "Are very good indeed--\n",
      "Now if you're ready, Oysters dear,\n",
      "We can begin to feed.\"\n",
      "\n",
      "\"But not on us!\" the Oysters cried,\n",
      "Turning a little blue.\n",
      "\"After such kindness, that would be\n",
      "A dismal thing to do!\"\n",
      "\"The night is fine,\" the Walrus said.\n",
      "\"Do you admire the view?\n",
      "\n",
      "\"It was so kind of you to come!\n",
      "And you are very nice!\"\n",
      "The Carpenter said nothing but\n",
      "\"Cut us another slice:\n",
      "I wish you were not quite so deaf--\n",
      "I've had to ask you twice!\"\n",
      "\n",
      "\"It seems a shame,\" the Walrus said,\n",
      "\"To play them such a trick,\n",
      "After we've brought them out so far,\n",
      "And made them trot so quick!\"\n",
      "The Carpenter said nothing but\n",
      "\"The butter's spread too thick!\"\n",
      "\n",
      "\"I weep for you,\" the Walrus said:\n",
      "\"I deeply sympathize.\"\n",
      "With sobs and tears he sorted out\n",
      "Those of the largest size,\n",
      "Holding his pocket-handkerchief\n",
      "Before his streaming eyes.\n",
      "\n",
      "\"O Oysters,\" said the Carpenter,\n",
      "\"You've had a pleasant run!\n",
      "Shall we be trotting home again?'\n",
      "But answer came there none--\n",
      "And this was scarcely odd, because\n",
      "They'd eaten every one.\n",
      "\n"
     ]
    }
   ],
   "source": [
    "# Opening the file and assigning a filehandle\n",
    "\n",
    "fin = open('folder/carroll.txt')\n",
    "\n",
    "# Reading in the content\n",
    "\n",
    "text = fin.read()\n",
    "print(text)"
   ]
  },
  {
   "cell_type": "code",
   "execution_count": 34,
   "metadata": {
    "collapsed": true,
    "slideshow": {
     "slide_type": "fragment"
    }
   },
   "outputs": [],
   "source": [
    "# Putting your toys away, when you are done with them.\n",
    "\n",
    "fin.close()"
   ]
  },
  {
   "cell_type": "code",
   "execution_count": 35,
   "metadata": {
    "collapsed": true,
    "slideshow": {
     "slide_type": "slide"
    }
   },
   "outputs": [],
   "source": [
    "fout = open('folder/output.txt', 'w')      # NOTE the 'w' to open the file for writing purposes\n",
    "fout.write('''Batman:\n",
    "The Dark Knight\n",
    "Returns''')\n",
    "fout.close()\n",
    "\n",
    "# Navigate to the folder in your file explorer and confirm:\n",
    "#     * the file exists\n",
    "#     * the content is present"
   ]
  },
  {
   "cell_type": "markdown",
   "metadata": {},
   "source": [
    "# Experience Points!\n",
    "\n",
    "On the **IPython interpreter** do each of the following:\n",
    "\n",
    "Task | Sample Object(s)\n",
    ":---|---\n",
    "Open a file | folder/carroll.txt\n",
    "Read in the text | `.read()`\n",
    "Print the text | `print()`"
   ]
  },
  {
   "cell_type": "code",
   "execution_count": 36,
   "metadata": {
    "slideshow": {
     "slide_type": "fragment"
    }
   },
   "outputs": [
    {
     "name": "stdout",
     "output_type": "stream",
     "text": [
      "The Walrus and The Carpenter\n",
      "\n",
      "Lewis Carroll\n",
      "\n",
      "(from Through the Looking-Glass and What Alice Found There, 1872)\n",
      "\n",
      "The sun was shining on the sea,\n",
      "Shining with all his might:\n",
      "He did his very best to make\n",
      "The billows smooth and bright--\n",
      "And this was odd, because it was\n",
      "The middle of the night.\n",
      "\n",
      "The moon was shining sulkily,\n",
      "Because she thought the sun\n",
      "Had got no business to be there\n",
      "After the day was done--\n",
      "\"It's very rude of him,\" she said,\n",
      "\"To come and spoil the fun!\"\n",
      "\n",
      "The sea was wet as wet could be,\n",
      "The sands were dry as dry.\n",
      "You could not see a cloud, because\n",
      "No cloud was in the sky:\n",
      "No birds were flying overhead--\n",
      "There were no birds to fly.\n",
      "\n",
      "The Walrus and the Carpenter\n",
      "Were walking close at hand;\n",
      "They wept like anything to see\n",
      "Such quantities of sand:\n",
      "\"If this were only cleared away,\"\n",
      "They said, \"it would be grand!\"\n",
      "\n",
      "\"If seven maids with seven mops\n",
      "Swept it for half a year.\n",
      "Do you suppose,\" the Walrus said,\n",
      "\"That they could get it clear?\"\n",
      "\"I doubt it,\" said the Carpenter,\n",
      "And shed a bitter tear.\n",
      "\n",
      "\"O Oysters, come and walk with us!\"\n",
      "The Walrus did beseech.\n",
      "\"A pleasant walk, a pleasant talk,\n",
      "Along the briny beach:\n",
      "We cannot do with more than four,\n",
      "To give a hand to each.\"\n",
      "\n",
      "The eldest Oyster looked at him,\n",
      "But never a word he said:\n",
      "The eldest Oyster winked his eye,\n",
      "And shook his heavy head--\n",
      "Meaning to say he did not choose\n",
      "To leave the oyster-bed.\n",
      "\n",
      "But four young Oysters hurried up,\n",
      "All eager for the treat:\n",
      "Their coats were brushed, their faces washed,\n",
      "Their shoes were clean and neat--\n",
      "And this was odd, because, you know,\n",
      "They hadn't any feet.\n",
      "\n",
      "Four other Oysters followed them,\n",
      "And yet another four;\n",
      "And thick and fast they came at last,\n",
      "And more, and more, and more--\n",
      "All hopping through the frothy waves,\n",
      "And scrambling to the shore.\n",
      "\n",
      "The Walrus and the Carpenter\n",
      "Walked on a mile or so,\n",
      "And then they rested on a rock\n",
      "Conveniently low:\n",
      "And all the little Oysters stood\n",
      "And waited in a row.\n",
      "\n",
      "\"The time has come,\" the Walrus said,\n",
      "\"To talk of many things:\n",
      "Of shoes--and ships--and sealing-wax--\n",
      "Of cabbages--and kings--\n",
      "And why the sea is boiling hot--\n",
      "And whether pigs have wings.\"\n",
      "\n",
      "\"But wait a bit,\" the Oysters cried,\n",
      "\"Before we have our chat;\n",
      "For some of us are out of breath,\n",
      "And all of us are fat!\"\n",
      "\"No hurry!\" said the Carpenter.\n",
      "They thanked him much for that.\n",
      "\n",
      "\"A loaf of bread,\" the Walrus said,\n",
      "\"Is what we chiefly need:\n",
      "Pepper and vinegar besides\n",
      "Are very good indeed--\n",
      "Now if you're ready, Oysters dear,\n",
      "We can begin to feed.\"\n",
      "\n",
      "\"But not on us!\" the Oysters cried,\n",
      "Turning a little blue.\n",
      "\"After such kindness, that would be\n",
      "A dismal thing to do!\"\n",
      "\"The night is fine,\" the Walrus said.\n",
      "\"Do you admire the view?\n",
      "\n",
      "\"It was so kind of you to come!\n",
      "And you are very nice!\"\n",
      "The Carpenter said nothing but\n",
      "\"Cut us another slice:\n",
      "I wish you were not quite so deaf--\n",
      "I've had to ask you twice!\"\n",
      "\n",
      "\"It seems a shame,\" the Walrus said,\n",
      "\"To play them such a trick,\n",
      "After we've brought them out so far,\n",
      "And made them trot so quick!\"\n",
      "The Carpenter said nothing but\n",
      "\"The butter's spread too thick!\"\n",
      "\n",
      "\"I weep for you,\" the Walrus said:\n",
      "\"I deeply sympathize.\"\n",
      "With sobs and tears he sorted out\n",
      "Those of the largest size,\n",
      "Holding his pocket-handkerchief\n",
      "Before his streaming eyes.\n",
      "\n",
      "\"O Oysters,\" said the Carpenter,\n",
      "\"You've had a pleasant run!\n",
      "Shall we be trotting home again?'\n",
      "But answer came there none--\n",
      "And this was scarcely odd, because\n",
      "They'd eaten every one.\n",
      "\n"
     ]
    }
   ],
   "source": [
    "# it is not uncommon to chain functions together\n",
    "\n",
    "text = open('folder/carroll.txt').read()\n",
    "print(text)"
   ]
  },
  {
   "cell_type": "markdown",
   "metadata": {
    "slideshow": {
     "slide_type": "subslide"
    }
   },
   "source": [
    "# There are several primary means of reading in data:\n",
    "---\n"
   ]
  },
  {
   "cell_type": "markdown",
   "metadata": {
    "slideshow": {
     "slide_type": "subslide"
    }
   },
   "source": [
    "```\n",
    "* read()                     # reads the file in as a single string\n",
    "* readline()                 # reads in one line at a time\n",
    "* readlines()                # reads in all lines, as separate strings in a list \n",
    "* for line in <filehandle>:  # iterates over each line, one at a time```\n",
    "\n"
   ]
  },
  {
   "cell_type": "markdown",
   "metadata": {},
   "source": [
    "## `.readline()`"
   ]
  },
  {
   "cell_type": "code",
   "execution_count": 37,
   "metadata": {},
   "outputs": [
    {
     "name": "stdout",
     "output_type": "stream",
     "text": [
      "barry allen,ballen@jleague.org,246.167.32.21,253.36.206.4,2016-02-08T21:44:22,49.55854,8.87819,32171\n",
      "\n",
      "placeholder\n"
     ]
    }
   ],
   "source": [
    "data = open('folder/log_file.csv')\n",
    "line = data.readline()\n",
    "\n",
    "\n",
    "print(line)\n",
    "print('placeholder')\n"
   ]
  },
  {
   "cell_type": "markdown",
   "metadata": {},
   "source": [
    "## `.readlines()`"
   ]
  },
  {
   "cell_type": "code",
   "execution_count": 38,
   "metadata": {},
   "outputs": [
    {
     "name": "stdout",
     "output_type": "stream",
     "text": [
      "['barry allen,ballen@jleague.org,246.167.32.21,253.36.206.4,2016-02-08T21:44:22,49.55854,8.87819,32171\\n', 'barbara gordon,bgordon@jleague.org,253.36.207.192,198.240.252.129,2016-02-07T21:44:28,48.14013,9.07396,34285\\n', 'kyle rayner,krayner@jleague.org,208.66.182.10,102.230.226.99,2016-02-06T21:44:56,45.28336,10.38742,40287\\n', 'dinah lance,dlance@jleague.org,246.167.32.76,7.36.164.133,2016-02-06T21:45:51,45.83448,8.70891,688291\\n', 'arthur curry,acurry@jleague.org,253.36.207.215,7.36.164.0,2016-02-06T21:47:02,49.44709,8.05527,126609\\n', 'kara zor-el,kzor-el@jleague.org,208.66.183.214,253.36.207.215,2016-02-06T21:47:26,46.22157,10.07309,862129\\n', 'kara zor-el,kzor-el@jleague.org,208.66.183.214,198.240.252.173,2016-02-06T21:48:03,45.76911,10.33047,648640\\n', 'hal jordan,hjordan@jleague.org,253.36.207.148,208.66.182.184,2016-02-06T21:49:36,47.99098,7.80398,496563\\n', 'kara zor-el,kzor-el@jleague.org,253.36.207.148,26.28.209.95,2016-02-06T21:50:41,48.03181,10.01841,800746\\n', 'john constantine,jconstantine@jleague.org,246.167.32.3,246.167.32.103,2016-02-06T21:52:17,48.63939,9.96064,859045\\n']\n"
     ]
    }
   ],
   "source": [
    "data = open('folder/log_file.csv')\n",
    "list_of_lines = data.readlines()\n",
    "\n",
    "print(list_of_lines)\n"
   ]
  },
  {
   "cell_type": "markdown",
   "metadata": {},
   "source": [
    "## `for line in <filehandle>:`"
   ]
  },
  {
   "cell_type": "code",
   "execution_count": 39,
   "metadata": {},
   "outputs": [
    {
     "name": "stdout",
     "output_type": "stream",
     "text": [
      "barry allen,ballen@jleague.org,246.167.32.21,253.36.206.4,2016-02-08T21:44:22,49.55854,8.87819,32171\n",
      "\n",
      "barbara gordon,bgordon@jleague.org,253.36.207.192,198.240.252.129,2016-02-07T21:44:28,48.14013,9.07396,34285\n",
      "\n",
      "kyle rayner,krayner@jleague.org,208.66.182.10,102.230.226.99,2016-02-06T21:44:56,45.28336,10.38742,40287\n",
      "\n",
      "dinah lance,dlance@jleague.org,246.167.32.76,7.36.164.133,2016-02-06T21:45:51,45.83448,8.70891,688291\n",
      "\n",
      "arthur curry,acurry@jleague.org,253.36.207.215,7.36.164.0,2016-02-06T21:47:02,49.44709,8.05527,126609\n",
      "\n",
      "kara zor-el,kzor-el@jleague.org,208.66.183.214,253.36.207.215,2016-02-06T21:47:26,46.22157,10.07309,862129\n",
      "\n",
      "kara zor-el,kzor-el@jleague.org,208.66.183.214,198.240.252.173,2016-02-06T21:48:03,45.76911,10.33047,648640\n",
      "\n",
      "hal jordan,hjordan@jleague.org,253.36.207.148,208.66.182.184,2016-02-06T21:49:36,47.99098,7.80398,496563\n",
      "\n",
      "kara zor-el,kzor-el@jleague.org,253.36.207.148,26.28.209.95,2016-02-06T21:50:41,48.03181,10.01841,800746\n",
      "\n",
      "john constantine,jconstantine@jleague.org,246.167.32.3,246.167.32.103,2016-02-06T21:52:17,48.63939,9.96064,859045\n",
      "\n"
     ]
    }
   ],
   "source": [
    "data = open('folder/log_file.csv')\n",
    "for line in data:\n",
    "    print(line)"
   ]
  },
  {
   "cell_type": "markdown",
   "metadata": {},
   "source": [
    "# Experience Points!\n",
    "\n",
    "On the **IPython interpreter** do each of the following:\n",
    "\n",
    "Task | Sample Object(s)\n",
    ":---|---\n",
    "Open a file | folder/log_file_1000.csv\n",
    "Use a for loop to read in the text | `for line in <filehandle>`\n",
    "Print each line | `print()`"
   ]
  },
  {
   "cell_type": "markdown",
   "metadata": {},
   "source": [
    "# NOTE to self:\n",
    "lie >>> change the true number of lines in the file\n",
    "questions: \n",
    "* how many unique users\n",
    "* how many unique ips\n",
    "* how many lines\n"
   ]
  },
  {
   "cell_type": "code",
   "execution_count": 41,
   "metadata": {
    "collapsed": true
   },
   "outputs": [],
   "source": [
    "# Let's look our previous file again...\n",
    "\n",
    "for line in data:\n",
    "    print(line)\n",
    "    \n",
    "# When executing this code, nothing happpened!    "
   ]
  },
  {
   "cell_type": "markdown",
   "metadata": {},
   "source": [
    "## do overs and more..."
   ]
  },
  {
   "cell_type": "code",
   "execution_count": 42,
   "metadata": {},
   "outputs": [
    {
     "name": "stdout",
     "output_type": "stream",
     "text": [
      "First byte: b\n",
      "Two bytes:  ar\n",
      "Four bytes: ry a\n",
      "Remainder:  llen,ballen@jleague.org,246.167.32.21,253.36.206.4,2016-02-08T21:44:22,49.55854,8.87819,32171\n",
      "\n",
      "Readline:   barbara gordon,bgordon@jleague.org,253.36.207.192,198.240.252.129,2016-02-07T21:44:28,48.14013,9.07396,34285\n",
      "\n"
     ]
    }
   ],
   "source": [
    "# Let's reread the file\n",
    "\n",
    "data = open('folder/log_file.csv')\n",
    "byte = data.read(1)\n",
    "print('First byte:', byte)\n",
    "\n",
    "twobytes = data.read(2)\n",
    "print('Two bytes: ', twobytes)\n",
    "\n",
    "fourbytes = data.read(4)\n",
    "print('Four bytes:', fourbytes)\n",
    "\n",
    "print('Remainder: ', data.readline())\n",
    "print('Readline:  ', data.readline())"
   ]
  },
  {
   "cell_type": "code",
   "execution_count": 44,
   "metadata": {},
   "outputs": [
    {
     "name": "stdout",
     "output_type": "stream",
     "text": [
      "Back at beginning: b\n",
      "        Two bytes: ar\n"
     ]
    }
   ],
   "source": [
    "# Let's rewind the file\n",
    "\n",
    "data.seek(0)\n",
    "\n",
    "# Read just one byte (the first byte in the file)\n",
    "byte = data.read(1)\n",
    "print('Back at beginning:', byte)\n",
    "\n",
    "# getting fancy\n",
    "print('Two bytes:'.rjust(18), data.read(2))"
   ]
  },
  {
   "cell_type": "code",
   "execution_count": 45,
   "metadata": {},
   "outputs": [
    {
     "name": "stdout",
     "output_type": "stream",
     "text": [
      "3\n",
      "6\n"
     ]
    }
   ],
   "source": [
    "# But where are we?\n",
    "\n",
    "print(data.tell())\n",
    "\n",
    "data.read(3)\n",
    "\n",
    "print(data.tell())"
   ]
  },
  {
   "cell_type": "markdown",
   "metadata": {},
   "source": [
    "# Let's do some work!\n",
    "---"
   ]
  },
  {
   "cell_type": "code",
   "execution_count": 46,
   "metadata": {},
   "outputs": [
    {
     "name": "stdout",
     "output_type": "stream",
     "text": [
      "barry allen,ballen@jleague.org,246.167.32.21,253.36.206.4,2016-02-08T21:44:22,49.55854,8.87819,32171\n",
      "barbara gordon,bgordon@jleague.org,253.36.207.192,198.240.252.129,2016-02-07T21:44:28,48.14013,9.07396,34285\n",
      "kyle rayner,krayner@jleague.org,208.66.182.10,102.230.226.99,2016-02-06T21:44:56,45.28336,10.38742,40287\n",
      "dinah lance,dlance@jleague.org,246.167.32.76,7.36.164.133,2016-02-06T21:45:51,45.83448,8.70891,688291\n",
      "arthur curry,acurry@jleague.org,253.36.207.215,7.36.164.0,2016-02-06T21:47:02,49.44709,8.05527,126609\n",
      "kara zor-el,kzor-el@jleague.org,208.66.183.214,253.36.207.215,2016-02-06T21:47:26,46.22157,10.07309,862129\n",
      "kara zor-el,kzor-el@jleague.org,208.66.183.214,198.240.252.173,2016-02-06T21:48:03,45.76911,10.33047,648640\n",
      "hal jordan,hjordan@jleague.org,253.36.207.148,208.66.182.184,2016-02-06T21:49:36,47.99098,7.80398,496563\n",
      "kara zor-el,kzor-el@jleague.org,253.36.207.148,26.28.209.95,2016-02-06T21:50:41,48.03181,10.01841,800746\n",
      "john constantine,jconstantine@jleague.org,246.167.32.3,246.167.32.103,2016-02-06T21:52:17,48.63939,9.96064,859045\n"
     ]
    }
   ],
   "source": [
    "data = open('folder/log_file.csv')\n",
    "for line in data:\n",
    "    line = line.strip()            # remove those pesky new lines\n",
    "    print(line)\n",
    "    \n",
    " "
   ]
  },
  {
   "cell_type": "code",
   "execution_count": 47,
   "metadata": {},
   "outputs": [
    {
     "name": "stdout",
     "output_type": "stream",
     "text": [
      "['barry allen', 'ballen@jleague.org', '246.167.32.21', '253.36.206.4', '2016-02-08T21:44:22', '49.55854', '8.87819', '32171']\n",
      "['barbara gordon', 'bgordon@jleague.org', '253.36.207.192', '198.240.252.129', '2016-02-07T21:44:28', '48.14013', '9.07396', '34285']\n",
      "['kyle rayner', 'krayner@jleague.org', '208.66.182.10', '102.230.226.99', '2016-02-06T21:44:56', '45.28336', '10.38742', '40287']\n",
      "['dinah lance', 'dlance@jleague.org', '246.167.32.76', '7.36.164.133', '2016-02-06T21:45:51', '45.83448', '8.70891', '688291']\n",
      "['arthur curry', 'acurry@jleague.org', '253.36.207.215', '7.36.164.0', '2016-02-06T21:47:02', '49.44709', '8.05527', '126609']\n",
      "['kara zor-el', 'kzor-el@jleague.org', '208.66.183.214', '253.36.207.215', '2016-02-06T21:47:26', '46.22157', '10.07309', '862129']\n",
      "['kara zor-el', 'kzor-el@jleague.org', '208.66.183.214', '198.240.252.173', '2016-02-06T21:48:03', '45.76911', '10.33047', '648640']\n",
      "['hal jordan', 'hjordan@jleague.org', '253.36.207.148', '208.66.182.184', '2016-02-06T21:49:36', '47.99098', '7.80398', '496563']\n",
      "['kara zor-el', 'kzor-el@jleague.org', '253.36.207.148', '26.28.209.95', '2016-02-06T21:50:41', '48.03181', '10.01841', '800746']\n",
      "['john constantine', 'jconstantine@jleague.org', '246.167.32.3', '246.167.32.103', '2016-02-06T21:52:17', '48.63939', '9.96064', '859045']\n"
     ]
    }
   ],
   "source": [
    "data = open('folder/log_file.csv')\n",
    "for line in data:\n",
    "    line = line.strip()\n",
    "    fields = line.split(',')        # Separate each line into a LIST of STRs\n",
    "    print(fields)\n",
    "    \n"
   ]
  },
  {
   "cell_type": "code",
   "execution_count": 48,
   "metadata": {},
   "outputs": [
    {
     "name": "stdout",
     "output_type": "stream",
     "text": [
      "barry allen 49.55854 8.87819\n",
      "barbara gordon 48.14013 9.07396\n",
      "kyle rayner 45.28336 10.38742\n",
      "dinah lance 45.83448 8.70891\n",
      "arthur curry 49.44709 8.05527\n",
      "kara zor-el 46.22157 10.07309\n",
      "kara zor-el 45.76911 10.33047\n",
      "hal jordan 47.99098 7.80398\n",
      "kara zor-el 48.03181 10.01841\n",
      "john constantine 48.63939 9.96064\n"
     ]
    }
   ],
   "source": [
    "data = open('folder/log_file.csv')\n",
    "for line in data:\n",
    "    line = line.strip()\n",
    "    fields = line.split(',')        # Separate each line into a LIST of STRs\n",
    "    name = fields[0]\n",
    "    lat = fields[5]\n",
    "    long = fields[6]\n",
    "    print(name, lat, long)\n",
    "    \n"
   ]
  },
  {
   "cell_type": "code",
   "execution_count": 49,
   "metadata": {},
   "outputs": [
    {
     "name": "stdout",
     "output_type": "stream",
     "text": [
      "barry allen was seen @: 49.55854 8.87819\n",
      "barbara gordon was seen @: 48.14013 9.07396\n",
      "kyle rayner was seen @: 45.28336 10.38742\n",
      "dinah lance was seen @: 45.83448 8.70891\n",
      "arthur curry was seen @: 49.44709 8.05527\n",
      "kara zor-el was seen @: 46.22157 10.07309\n",
      "kara zor-el was seen @: 45.76911 10.33047\n",
      "hal jordan was seen @: 47.99098 7.80398\n",
      "kara zor-el was seen @: 48.03181 10.01841\n",
      "john constantine was seen @: 48.63939 9.96064\n"
     ]
    }
   ],
   "source": [
    "data = open('folder/log_file.csv')\n",
    "for line in data:\n",
    "    line = line.strip()\n",
    "    fields = line.split(',')        # Separate each line into a LIST of STRs\n",
    "    name = fields[0]\n",
    "    lat = fields[5]\n",
    "    long = fields[6]\n",
    "    print(name + ' was seen @:', lat, long)\n",
    "    \n"
   ]
  },
  {
   "cell_type": "markdown",
   "metadata": {
    "collapsed": true
   },
   "source": [
    "# OK, so maybe real work\n",
    "---\n",
    "\n"
   ]
  },
  {
   "cell_type": "code",
   "execution_count": 52,
   "metadata": {},
   "outputs": [
    {
     "name": "stdout",
     "output_type": "stream",
     "text": [
      "{'hal jordan', 'dinah lance', 'barbara gordon', 'john constantine', 'arthur curry', 'kyle rayner', 'barry allen', 'kara zor-el'}\n"
     ]
    }
   ],
   "source": [
    "data = open('folder/log_file.csv')\n",
    "\n",
    "# Create an empty list to hold data\n",
    "names = []\n",
    "\n",
    "for line in data:\n",
    "    line = line.strip()\n",
    "    fields = line.split(',')        # Separate each line into a LIST of STRs\n",
    "    name = fields[0]\n",
    "    names.append(name)\n",
    "    \n",
    "print(names)"
   ]
  },
  {
   "cell_type": "markdown",
   "metadata": {
    "collapsed": true
   },
   "source": [
    "# Writing to files\n",
    "---"
   ]
  },
  {
   "cell_type": "code",
   "execution_count": 53,
   "metadata": {
    "collapsed": true
   },
   "outputs": [],
   "source": [
    "fout = open('folder/buffer_test.txt', 'w')"
   ]
  },
  {
   "cell_type": "code",
   "execution_count": 54,
   "metadata": {},
   "outputs": [
    {
     "name": "stdout",
     "output_type": "stream",
     "text": [
      "done\n"
     ]
    }
   ],
   "source": [
    "for number in range(20000000):\n",
    "    number = str(number)\n",
    "    fout.write(number)\n",
    "    \n",
    "print('done')    "
   ]
  },
  {
   "cell_type": "code",
   "execution_count": 55,
   "metadata": {
    "collapsed": true
   },
   "outputs": [],
   "source": [
    "fout.flush()"
   ]
  },
  {
   "cell_type": "code",
   "execution_count": 56,
   "metadata": {
    "collapsed": true
   },
   "outputs": [],
   "source": [
    "fout.close()"
   ]
  },
  {
   "cell_type": "code",
   "execution_count": 58,
   "metadata": {
    "collapsed": true
   },
   "outputs": [],
   "source": [
    "data = open('folder/log_file.csv')\n",
    "fout = open('folder/names_emails.txt', 'w')\n",
    "\n",
    "for line in data:\n",
    "    line = line.strip()\n",
    "    fields = line.split(',')        # Separate each line into a LIST of STRs\n",
    "    name = fields[0]\n",
    "    email = fields[1]\n",
    "    \n",
    "    output_text = name + ':' + email + '\\n'\n",
    "    \n",
    "    fout.write(output_text)\n",
    "    \n",
    "fout.close()    \n"
   ]
  },
  {
   "cell_type": "code",
   "execution_count": 60,
   "metadata": {},
   "outputs": [
    {
     "name": "stdout",
     "output_type": "stream",
     "text": [
      "<class 'str'>\n",
      "ballen\n",
      "<class 'str'>\n",
      "bgordon\n",
      "<class 'str'>\n",
      "krayner\n",
      "<class 'str'>\n",
      "dlance\n",
      "<class 'str'>\n",
      "acurry\n",
      "<class 'str'>\n",
      "kzor-el\n",
      "<class 'str'>\n",
      "kzor-el\n",
      "<class 'str'>\n",
      "hjordan\n",
      "<class 'str'>\n",
      "kzor-el\n",
      "<class 'str'>\n",
      "jconstantine\n"
     ]
    }
   ],
   "source": [
    "data = open('folder/log_file.csv')\n",
    "fout = open('folder/names_uids.txt', 'w')\n",
    "\n",
    "for line in data:\n",
    "    line = line.strip()\n",
    "    fields = line.split(',')        # Separate each line into a LIST of STRs\n",
    "    name = fields[0]\n",
    "    email = fields[1].split('@')\n",
    "    uid = email[0]\n",
    "    \n",
    "    output_text = name + ':' + uid + '\\n'\n",
    "    print(uid)\n",
    "    fout.write(output_text)\n",
    "    \n",
    "fout.close()    \n"
   ]
  },
  {
   "cell_type": "code",
   "execution_count": 69,
   "metadata": {},
   "outputs": [
    {
     "name": "stdout",
     "output_type": "stream",
     "text": [
      "[2, 2, 3, 4, 5, 6, 7, 9]\n",
      "[9, 5, 2, 4, 6, 7, 2, 3]\n"
     ]
    }
   ],
   "source": [
    "mylist = [9, 5, 2, 4, 6, 7, 2, 3]\n",
    "mylist.sort()\n",
    "mylist\n",
    "\n",
    "mylist2 = [9, 5, 2, 4, 6, 7, 2, 3]\n",
    "new = sorted(mylist2)\n",
    "print(new)\n",
    "print(mylist2)\n",
    "sorted?"
   ]
  },
  {
   "cell_type": "code",
   "execution_count": 70,
   "metadata": {},
   "outputs": [],
   "source": [
    "data = open('folder/log_file.csv')\n",
    "fout = open('folder/names_uids_2.txt', 'w')\n",
    "\n",
    "outputs = set()\n",
    "\n",
    "for line in data:\n",
    "    fields = line.strip().split(',')    # chain methods\n",
    "    name = fields[0]\n",
    "    \n",
    "    fname, lname = name.split()\n",
    "    \n",
    "    # names = name.split()\n",
    "    # fname = name[0]\n",
    "    # lname = name[1]\n",
    "    \n",
    "    # split name field on space\n",
    "    email = fields[1].split('@')\n",
    "    uid = email[0]\n",
    "    \n",
    "    \n",
    "    uid = fields[1].split('@')[0]       # extract the indexed item immediately\n",
    "    uid = uid.upper()                   # convert to uppercase\n",
    "    output_text = uid + ':' + fname + ':' + lname + '\\n'\n",
    "    fout.write(output_text)\n",
    "    \n",
    "fout.close()    \n"
   ]
  },
  {
   "cell_type": "code",
   "execution_count": 78,
   "metadata": {
    "collapsed": true
   },
   "outputs": [],
   "source": [
    "data = open('folder/log_file.csv')\n",
    "fout = open('folder/names_uids_3.txt', 'w')\n",
    "\n",
    "outputs = set()\n",
    "\n",
    "for line in data:\n",
    "    fields = line.strip().split(',')    # chain methods\n",
    "    name = fields[0]\n",
    "    fname, lname = name.split()         # split name field on space\n",
    "    uid = fields[1].split('@')[0]       # extract the indexed item immediately\n",
    "    uid = uid.upper()                   # convert to uppercase\n",
    "    output_text = uid + ':' + fname + ':' + lname + '\\n'\n",
    "    outputs.add(output_text)    \n",
    "    \n",
    "for item in sorted(outputs):\n",
    "    fout.write(item)\n",
    "    \n",
    "fout.close()    \n"
   ]
  },
  {
   "cell_type": "code",
   "execution_count": 77,
   "metadata": {},
   "outputs": [
    {
     "data": {
      "text/plain": [
       "['dark ', ' of python']"
      ]
     },
     "execution_count": 77,
     "metadata": {},
     "output_type": "execute_result"
    }
   ],
   "source": [
    "field0 = 'dark lord of python'\n",
    "\n",
    "result = field0.split('lord')\n",
    "result\n",
    "\n",
    "#fname, lname, term, language = result\n",
    "#print(fname)\n",
    "#print(language)"
   ]
  },
  {
   "cell_type": "code",
   "execution_count": null,
   "metadata": {
    "collapsed": true
   },
   "outputs": [],
   "source": []
  }
 ],
 "metadata": {
  "anaconda-cloud": {},
  "celltoolbar": "Slideshow",
  "kernelspec": {
   "display_name": "Python [default]",
   "language": "python",
   "name": "python3"
  },
  "language_info": {
   "codemirror_mode": {
    "name": "ipython",
    "version": 3
   },
   "file_extension": ".py",
   "mimetype": "text/x-python",
   "name": "python",
   "nbconvert_exporter": "python",
   "pygments_lexer": "ipython3",
   "version": "3.5.3"
  }
 },
 "nbformat": 4,
 "nbformat_minor": 1
}
