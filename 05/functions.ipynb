{
 "cells": [
  {
   "cell_type": "markdown",
   "metadata": {
    "slideshow": {
     "slide_type": "slide"
    }
   },
   "source": [
    "# Welcome to the Dark Art of Coding:\n",
    "## Introduction to Python\n",
    "Functions\n",
    "\n",
    "<img src='../images/dark_art_logo.600px.png' width='300' style=\"float:right\">"
   ]
  },
  {
   "cell_type": "markdown",
   "metadata": {},
   "source": [
    "# Objectives:\n",
    "---"
   ]
  },
  {
   "cell_type": "markdown",
   "metadata": {
    "slideshow": {
     "slide_type": "slide"
    }
   },
   "source": [
    "By the end of this lesson, students should be able to:\n",
    "\n",
    "* Understand when to use a function \n",
    "* Define your own function\n",
    "* Call a function that you have defined\n",
    "* Add parameters to a function definition\n",
    "* Understand the difference between fruitful and non-fruitful functions\n"
   ]
  },
  {
   "cell_type": "markdown",
   "metadata": {
    "slideshow": {
     "slide_type": "slide"
    }
   },
   "source": [
    "# When do you use a function?\n",
    "---"
   ]
  },
  {
   "cell_type": "code",
   "execution_count": null,
   "metadata": {
    "collapsed": true,
    "slideshow": {
     "slide_type": "subslide"
    }
   },
   "outputs": [],
   "source": [
    "# Here, I want to print three things in sequence.\n",
    "\n",
    "print('HP: 100')\n",
    "print('Mana: 50')\n",
    "print('Stamina: 35')"
   ]
  },
  {
   "cell_type": "code",
   "execution_count": null,
   "metadata": {
    "collapsed": true,
    "slideshow": {
     "slide_type": "fragment"
    }
   },
   "outputs": [],
   "source": [
    "# What if I want to print them again later...\n",
    "# Having to re-write the same code is a recipe for disaster\n",
    "# And is anathema to the lazy-programmer\n",
    "\n",
    "print('HP: 100')\n",
    "print('Mana: 50')\n",
    "print('Stamina: 35')"
   ]
  },
  {
   "cell_type": "code",
   "execution_count": 1,
   "metadata": {
    "slideshow": {
     "slide_type": "slide"
    }
   },
   "outputs": [
    {
     "name": "stdout",
     "output_type": "stream",
     "text": [
      "HP: 100\n",
      "Mana: 50\n",
      "Stamina: 35\n"
     ]
    }
   ],
   "source": [
    "# Let's make a function that prints all three things for us.\n",
    "# Then let's call it (i.e. execute that function)\n",
    "\n",
    "def print_stats():\n",
    "    print('HP: 100')\n",
    "    print('Mana: 50')\n",
    "    print('Stamina: 35')\n",
    "\n",
    "    \n",
    "# ---------------------------------------\n",
    "\n",
    "print_stats()"
   ]
  },
  {
   "cell_type": "code",
   "execution_count": 2,
   "metadata": {
    "slideshow": {
     "slide_type": "fragment"
    }
   },
   "outputs": [
    {
     "name": "stdout",
     "output_type": "stream",
     "text": [
      "HP: 100\n",
      "Mana: 50\n",
      "Stamina: 35\n",
      "\n",
      "time passes, your hero does some heroing\n",
      "making adventure great again\n",
      "\n",
      "HP: 100\n",
      "Mana: 50\n",
      "Stamina: 35\n"
     ]
    }
   ],
   "source": [
    "# if I want to do this twice... ie. display the stats early in our game\n",
    "# and then later in the game\n",
    "# we simply call it again to display the stats a second time\n",
    "\n",
    "print_stats()\n",
    "# game play continues...\n",
    "print()\n",
    "print('time passes, your hero does some heroing')\n",
    "print('making adventure great again')\n",
    "print()\n",
    "\n",
    "print_stats()"
   ]
  },
  {
   "cell_type": "markdown",
   "metadata": {},
   "source": [
    "# Experience Points!\n",
    "---"
   ]
  },
  {
   "cell_type": "markdown",
   "metadata": {
    "collapsed": true,
    "slideshow": {
     "slide_type": "slide"
    }
   },
   "source": [
    "In your **text editor** create a simple script called:\n",
    "\n",
    "```bash\n",
    "my_func_01.py```\n",
    "\n",
    "Execute your script in the **IPython interpreter** using the command:\n",
    "\n",
    "```bash\n",
    "run my_func_01.py```\n",
    "\n",
    "Create a function called `me()` that prints out 3 things:\n",
    "\n",
    "* Your name\n",
    "* Your favorite food\n",
    "* Your favorite color\n",
    "\n",
    "Lastly, call the function, so that it executes when the script is run"
   ]
  },
  {
   "cell_type": "markdown",
   "metadata": {},
   "source": [
    "When you complete this exercise, please put your green post-it on your monitor. \n",
    "\n",
    "If you want to continue on at your own-pace, please feel free to do so.\n",
    "\n",
    "<img src='../images/green_sticky.300px.png' width='200' style='float:left'>"
   ]
  },
  {
   "cell_type": "code",
   "execution_count": null,
   "metadata": {
    "collapsed": true
   },
   "outputs": [],
   "source": []
  },
  {
   "cell_type": "code",
   "execution_count": 3,
   "metadata": {
    "slideshow": {
     "slide_type": "subslide"
    }
   },
   "outputs": [
    {
     "name": "stdout",
     "output_type": "stream",
     "text": [
      "dark lord of python\n",
      "sushi\n",
      "purple\n"
     ]
    }
   ],
   "source": [
    "def me():\n",
    "    print('dark lord of python')\n",
    "    print('sushi')\n",
    "    print('purple')\n",
    "    \n",
    "me()    "
   ]
  },
  {
   "cell_type": "markdown",
   "metadata": {
    "slideshow": {
     "slide_type": "slide"
    }
   },
   "source": [
    "# Simplest function with implicit return value\n",
    "\n",
    "\n",
    "<img src='invisible_output_function_black_box.png'>"
   ]
  },
  {
   "cell_type": "code",
   "execution_count": 4,
   "metadata": {},
   "outputs": [
    {
     "name": "stdout",
     "output_type": "stream",
     "text": [
      "sushi\n",
      "Return value: None\n"
     ]
    }
   ],
   "source": [
    "def simplest_function():\n",
    "    print('sushi')\n",
    "   \n",
    "return_value = simplest_function()\n",
    "print(\"Return value:\", return_value)"
   ]
  },
  {
   "cell_type": "markdown",
   "metadata": {},
   "source": [
    "Functions that do not return an explicit value are often called **void** functions or **non-fruitful**."
   ]
  },
  {
   "cell_type": "markdown",
   "metadata": {
    "slideshow": {
     "slide_type": "fragment"
    }
   },
   "source": [
    "# Function with an explicit return value(s)\n",
    "\n",
    "<img src='no_input_function_black_box.png'>"
   ]
  },
  {
   "cell_type": "code",
   "execution_count": 6,
   "metadata": {},
   "outputs": [
    {
     "name": "stdout",
     "output_type": "stream",
     "text": [
      "sushi\n",
      "Return value: 42\n"
     ]
    }
   ],
   "source": [
    "def explicit_return():\n",
    "    print('sushi')\n",
    "    return '42'\n",
    "   \n",
    "return_value = explicit_return()\n",
    "print(\"Return value:\", return_value)"
   ]
  },
  {
   "cell_type": "markdown",
   "metadata": {},
   "source": [
    "Functions that return an explicit value are often called **fruitful** functions."
   ]
  },
  {
   "cell_type": "markdown",
   "metadata": {
    "slideshow": {
     "slide_type": "fragment"
    }
   },
   "source": [
    "# Function with argument(s) and an explicit return value(s)\n",
    "\n",
    "<img src='function_black_box.png'>"
   ]
  },
  {
   "cell_type": "code",
   "execution_count": 7,
   "metadata": {},
   "outputs": [
    {
     "name": "stdout",
     "output_type": "stream",
     "text": [
      "sushi\n",
      "Return value: 13\n"
     ]
    }
   ],
   "source": [
    "# an example that takes in arguments and returns outputs\n",
    "\n",
    "def with_arguments(food):\n",
    "    print(food)\n",
    "    return 13\n",
    "   \n",
    "return_value = with_arguments('sushi')\n",
    "print(\"Return value:\", return_value)"
   ]
  },
  {
   "cell_type": "code",
   "execution_count": 9,
   "metadata": {
    "slideshow": {
     "slide_type": "fragment"
    }
   },
   "outputs": [
    {
     "name": "stdout",
     "output_type": "stream",
     "text": [
      "You attacked with: 5\n",
      "You used: sword strength\n",
      "The enemy has: 10 armor\n"
     ]
    }
   ],
   "source": [
    "# an example with multiple arguments\n",
    "\n",
    "def attack(weapon, strength, armor):\n",
    "    print('You attacked with:', weapon)\n",
    "    print('You used:', strength, 'strength')\n",
    "    print('The enemy has:', armor, 'armor')\n",
    "\n",
    "attack('sword', 5, 10)"
   ]
  },
  {
   "cell_type": "code",
   "execution_count": 10,
   "metadata": {
    "slideshow": {
     "slide_type": "subslide"
    }
   },
   "outputs": [
    {
     "name": "stdout",
     "output_type": "stream",
     "text": [
      "Welcome, your name is: dark lord of python\n"
     ]
    }
   ],
   "source": [
    "# Another example with an argument, that doesn't use return\n",
    "\n",
    "def welcome(name):\n",
    "    phrase = 'Welcome, your name is: ' + name\n",
    "    print(phrase)\n",
    "\n",
    "# --------------------------------------\n",
    "\n",
    "welcome('dark lord of python')"
   ]
  },
  {
   "cell_type": "code",
   "execution_count": 11,
   "metadata": {
    "collapsed": true,
    "slideshow": {
     "slide_type": "fragment"
    }
   },
   "outputs": [],
   "source": [
    "# Another example with an argument, that uses return\n",
    "\n",
    "def welcome(name):\n",
    "    phrase = 'Welcome, your name is: ' + name\n",
    "    return phrase\n",
    "\n",
    "# --------------------------------------\n",
    "\n",
    "greeting = welcome('dark lord of python')\n"
   ]
  },
  {
   "cell_type": "code",
   "execution_count": 13,
   "metadata": {},
   "outputs": [
    {
     "name": "stdout",
     "output_type": "stream",
     "text": [
      "Welcome, your name is: darker lord of python\n"
     ]
    }
   ],
   "source": [
    "print(greeting)"
   ]
  },
  {
   "cell_type": "code",
   "execution_count": 14,
   "metadata": {
    "slideshow": {
     "slide_type": "subslide"
    }
   },
   "outputs": [
    {
     "data": {
      "text/plain": [
       "84"
      ]
     },
     "execution_count": 14,
     "metadata": {},
     "output_type": "execute_result"
    }
   ],
   "source": [
    "# Example with a docstring\n",
    "\n",
    "def double(num):\n",
    "    '''It is customary to comment functions\n",
    "    using documentation strings (or docstrings)\n",
    "    This function doubles any number you give it'''\n",
    "    \n",
    "    num = num * 2\n",
    "    return num\n",
    "\n",
    "double(42)"
   ]
  },
  {
   "cell_type": "code",
   "execution_count": 20,
   "metadata": {
    "collapsed": true
   },
   "outputs": [],
   "source": [
    "def exchange(value, rate):\n",
    "    '''This awesome function calculates the exchange result\n",
    "    given a value and a rate'''\n",
    "    \n",
    "    result = value * rate * 1.01\n",
    "    return result\n",
    "\n"
   ]
  },
  {
   "cell_type": "code",
   "execution_count": 22,
   "metadata": {},
   "outputs": [
    {
     "name": "stdout",
     "output_type": "stream",
     "text": [
      "95.95\n",
      "90.9\n",
      "92.92\n",
      "106.05\n",
      "95.95\n",
      "202.0\n",
      "89.89\n"
     ]
    }
   ],
   "source": [
    "print(exchange(100, 0.95))\n",
    "print(exchange(100, 0.90))\n",
    "print(exchange(100, 0.92))\n",
    "print(exchange(100, 1.05))\n",
    "print(exchange(100, 0.95))\n",
    "print(exchange(100, 2.00))\n",
    "print(exchange(100, 0.89))\n",
    "\n",
    "\n"
   ]
  },
  {
   "cell_type": "markdown",
   "metadata": {},
   "source": [
    "# Experience Points!\n",
    "---"
   ]
  },
  {
   "cell_type": "markdown",
   "metadata": {},
   "source": [
    "In your **text editor** create a simple script called:\n",
    "\n",
    "```bash\n",
    "my_func_02.py```\n",
    "\n",
    "Execute your script in the **IPython interpreter** using the command:\n",
    "\n",
    "```bash\n",
    "run my_func_02.py```\n",
    "\n",
    "Create a function called:\n",
    "\n",
    "```python\n",
    "microbe_growth()\n",
    "``` \n",
    "\n",
    "that prints out the growth of microbes:\n",
    "\n",
    "* include an argument or parameter labeled: `initial_count`\n",
    "* include an argument labeled: `rate`\n",
    "* return the result of `initial_count` * `rate`\n",
    "* call the function, so that it executes when the script is run\n",
    "* store the returned value in a variable labeled: `projected_population`\n",
    "* print() the value stored in `projected_population`"
   ]
  },
  {
   "cell_type": "markdown",
   "metadata": {},
   "source": [
    "When you complete this exercise, please put your green post-it on your monitor. \n",
    "\n",
    "If you want to continue on at your own-pace, please feel free to do so.\n",
    "\n",
    "<img src='../images/green_sticky.300px.png' width='200' style='float:left'>"
   ]
  },
  {
   "cell_type": "code",
   "execution_count": null,
   "metadata": {},
   "outputs": [],
   "source": []
  },
  {
   "cell_type": "code",
   "execution_count": 27,
   "metadata": {
    "slideshow": {
     "slide_type": "slide"
    }
   },
   "outputs": [
    {
     "name": "stdout",
     "output_type": "stream",
     "text": [
      "None\n"
     ]
    }
   ],
   "source": [
    "# In this example, the return statement does not get called...\n",
    "#     IF the weapon is not a sword\n",
    "# so the function resorts to the default return value of None\n",
    "\n",
    "def identify(weapon):\n",
    "    if weapon == 'sword':\n",
    "        return 'It attacks swiftly'\n",
    "    \n",
    "output = identify('dagger')\n",
    "print(output)"
   ]
  },
  {
   "cell_type": "code",
   "execution_count": 31,
   "metadata": {
    "slideshow": {
     "slide_type": "subslide"
    }
   },
   "outputs": [
    {
     "name": "stdout",
     "output_type": "stream",
     "text": [
      "Nothin'\n"
     ]
    }
   ],
   "source": [
    "# We can load up functions will all the functionality (pun intended)\n",
    "# of any set of code...\n",
    "# this one helps to choose from multiple options.\n",
    "\n",
    "def identify(weapon):\n",
    "    if weapon == 'sword':\n",
    "        return 'It attacks swiftly'\n",
    "    elif weapon == 'spear':\n",
    "        return 'It has extra range'\n",
    "    elif weapon == 'axe':\n",
    "        return 'It deals more damage'\n",
    "    elif weapon == 'dagger':\n",
    "        return 'It has higher critical damage chance'\n",
    "    elif weapon == 'shield':\n",
    "        return 'It has a block damage chance'\n",
    "    return \"Nothin'\"\n",
    "    \n",
    "print(identify('bob'))"
   ]
  },
  {
   "cell_type": "code",
   "execution_count": 32,
   "metadata": {
    "slideshow": {
     "slide_type": "fragment"
    }
   },
   "outputs": [
    {
     "data": {
      "text/plain": [
       "'It deals more damage'"
      ]
     },
     "execution_count": 32,
     "metadata": {},
     "output_type": "execute_result"
    }
   ],
   "source": [
    "identify('axe')"
   ]
  },
  {
   "cell_type": "code",
   "execution_count": 33,
   "metadata": {
    "slideshow": {
     "slide_type": "fragment"
    }
   },
   "outputs": [
    {
     "data": {
      "text/plain": [
       "'It has extra range'"
      ]
     },
     "execution_count": 33,
     "metadata": {},
     "output_type": "execute_result"
    }
   ],
   "source": [
    "identify('spear')"
   ]
  },
  {
   "cell_type": "code",
   "execution_count": 34,
   "metadata": {
    "slideshow": {
     "slide_type": "fragment"
    }
   },
   "outputs": [
    {
     "data": {
      "text/plain": [
       "'It has higher critical damage chance'"
      ]
     },
     "execution_count": 34,
     "metadata": {},
     "output_type": "execute_result"
    }
   ],
   "source": [
    "identify('dagger')"
   ]
  },
  {
   "cell_type": "code",
   "execution_count": 35,
   "metadata": {
    "slideshow": {
     "slide_type": "fragment"
    }
   },
   "outputs": [
    {
     "name": "stdout",
     "output_type": "stream",
     "text": [
      "You are a hero\n"
     ]
    },
    {
     "data": {
      "text/plain": [
       "True"
      ]
     },
     "execution_count": 35,
     "metadata": {},
     "output_type": "execute_result"
    }
   ],
   "source": [
    "# NOTE: EVERY function returns a value, even something like print()\n",
    "\n",
    "r_value = print('You are a hero')\n",
    "\n",
    "# While print displays content to the screen, it also has a default\n",
    "# return value of None\n",
    "# Let's us an equality to test that assertion\n",
    "\n",
    "r_value == None"
   ]
  },
  {
   "cell_type": "markdown",
   "metadata": {},
   "source": [
    "## Keyword arguments"
   ]
  },
  {
   "cell_type": "markdown",
   "metadata": {},
   "source": [
    "Let's look at the help `manual` for the print function:\n",
    "\n",
    "`print?`"
   ]
  },
  {
   "cell_type": "code",
   "execution_count": 42,
   "metadata": {
    "collapsed": true
   },
   "outputs": [],
   "source": [
    "print?\n"
   ]
  },
  {
   "cell_type": "code",
   "execution_count": 41,
   "metadata": {
    "slideshow": {
     "slide_type": "slide"
    }
   },
   "outputs": [
    {
     "name": "stdout",
     "output_type": "stream",
     "text": [
      "Health*dog*cat*Wealth\n",
      "Mana\n"
     ]
    }
   ],
   "source": [
    "# Some functions come with KEYWORD arguments\n",
    "# \n",
    "\n",
    "print('Health', 'dog', 'cat', 'Wealth', sep='*')              # print('Health', end='\\n')\n",
    "print('Mana')                      # print('Mana', end='\\n')\n",
    "\n",
    "# the magic of keyword arguments is that you don't have to provide input data\n",
    "# UNLESS you want to!\n"
   ]
  },
  {
   "cell_type": "code",
   "execution_count": 43,
   "metadata": {
    "slideshow": {
     "slide_type": "fragment"
    }
   },
   "outputs": [
    {
     "name": "stdout",
     "output_type": "stream",
     "text": [
      "Health >>>\n",
      "Mana\n"
     ]
    }
   ],
   "source": [
    "print('Health', end=' >>>\\n')     \n",
    "print('Mana')"
   ]
  },
  {
   "cell_type": "code",
   "execution_count": 44,
   "metadata": {
    "slideshow": {
     "slide_type": "fragment"
    }
   },
   "outputs": [
    {
     "name": "stdout",
     "output_type": "stream",
     "text": [
      "Health - Mana - Stamina\n"
     ]
    }
   ],
   "source": [
    "print('Health', 'Mana', 'Stamina', sep=' - ')\n"
   ]
  },
  {
   "cell_type": "code",
   "execution_count": 47,
   "metadata": {},
   "outputs": [
    {
     "data": {
      "text/plain": [
       "175.0"
      ]
     },
     "execution_count": 47,
     "metadata": {},
     "output_type": "execute_result"
    }
   ],
   "source": [
    "def cur(value, rate=1.5):\n",
    "    return value * rate\n",
    "\n",
    "cur(100, 1.75)"
   ]
  },
  {
   "cell_type": "code",
   "execution_count": 48,
   "metadata": {
    "slideshow": {
     "slide_type": "slide"
    }
   },
   "outputs": [
    {
     "name": "stdout",
     "output_type": "stream",
     "text": [
      "Your strength is high and you used a dagger\n"
     ]
    }
   ],
   "source": [
    "def attack(strength, weapon='sword'):\n",
    "    print(\"Your strength is\", strength, 'and you used a', weapon)\n",
    "    \n",
    "attack('high', 'dagger')\n",
    "\n",
    "# notice, I didn't have to include a weapon..."
   ]
  },
  {
   "cell_type": "code",
   "execution_count": 49,
   "metadata": {
    "slideshow": {
     "slide_type": "fragment"
    }
   },
   "outputs": [
    {
     "name": "stdout",
     "output_type": "stream",
     "text": [
      "Your strength is low and you used a spear\n"
     ]
    }
   ],
   "source": [
    "attack('low', weapon='spear')"
   ]
  },
  {
   "cell_type": "markdown",
   "metadata": {},
   "source": [
    "# Experience Points!\n",
    "---"
   ]
  },
  {
   "cell_type": "markdown",
   "metadata": {},
   "source": [
    "In your **text editor** create a simple script called:\n",
    "\n",
    "```bash\n",
    "my_func_03.py```\n",
    "\n",
    "Execute your script in the **IPython interpreter** using the command:\n",
    "\n",
    "```bash\n",
    "run my_func_03.py```\n",
    "\n",
    "Modify your previous function called:\n",
    "\n",
    "```python\n",
    "microbe_growth()\n",
    "``` \n",
    "\n",
    "that prints out the growth of microbes:\n",
    "\n",
    "* include an argument or parameter labeled: `initial_count`\n",
    "* include an argument labeled: `rate`\n",
    "* set default value of the `rate` at 1.05\n",
    "* return the result of `initial_count` * `rate`\n",
    "* call the function using the default `rate`, so that it executes when the script is run\n",
    "    * store the returned value in a variable labeled: `projected_population`\n",
    "    * `print()` the value stored in `projected_population`\n",
    "* call the function using a value of 1.35 for the `rate`, so that it executes when the script is run\n",
    "    * store the returned value in a variable labeled: `high_projected_population`\n",
    "    * `print()` the value stored in `high_projected_population`    \n",
    "    "
   ]
  },
  {
   "cell_type": "markdown",
   "metadata": {},
   "source": [
    "When you complete this exercise, please put your green post-it on your monitor. \n",
    "\n",
    "If you want to continue on at your own-pace, please feel free to do so.\n",
    "\n",
    "<img src='../images/green_sticky.300px.png' width='200' style='float:left'>"
   ]
  },
  {
   "cell_type": "code",
   "execution_count": null,
   "metadata": {
    "collapsed": true
   },
   "outputs": [],
   "source": [
    "%run soln_my_func_01.py"
   ]
  },
  {
   "cell_type": "code",
   "execution_count": null,
   "metadata": {
    "collapsed": true
   },
   "outputs": [],
   "source": [
    "%run soln_my_func_02.py"
   ]
  },
  {
   "cell_type": "code",
   "execution_count": null,
   "metadata": {
    "collapsed": true
   },
   "outputs": [],
   "source": [
    "%run soln_my_func_03.py"
   ]
  }
 ],
 "metadata": {
  "anaconda-cloud": {},
  "celltoolbar": "Slideshow",
  "kernelspec": {
   "display_name": "Python 3",
   "language": "python",
   "name": "python3"
  },
  "language_info": {
   "codemirror_mode": {
    "name": "ipython",
    "version": 3
   },
   "file_extension": ".py",
   "mimetype": "text/x-python",
   "name": "python",
   "nbconvert_exporter": "python",
   "pygments_lexer": "ipython3",
   "version": "3.6.1"
  }
 },
 "nbformat": 4,
 "nbformat_minor": 1
}
