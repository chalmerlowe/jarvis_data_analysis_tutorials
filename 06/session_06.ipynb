{
 "cells": [
  {
   "cell_type": "markdown",
   "metadata": {
    "collapsed": true
   },
   "source": [
    "<h1>Welcome to the Dark Art of Coding:</h1>\n",
    "<h2>Introduction to Python</h2>\n",
    "Session 06\n",
    "\n",
    "Excellent Excel\n",
    "\n",
    "<img src='../images/logos.3.600.wide.png' height='250' width='300' style=\"float:right\">\n"
   ]
  },
  {
   "cell_type": "markdown",
   "metadata": {},
   "source": [
    "<h1>Agenda</h1>\n",
    "\n",
    "<strong>Review and Questions?</strong>\n",
    "\n",
    "<strong>Objectives:</strong>\n",
    "\n",
    "* Read from Excel spreadsheets\n",
    "* Write to Excel spreadsheets\n",
    "\n",
    "<strong>In-class Practice</strong>"
   ]
  },
  {
   "cell_type": "markdown",
   "metadata": {},
   "source": [
    "<h1>Review and Questions?</h1>\n",
    "\n",
    "* Any Questions for me?\n",
    "* What is a dialect in the csv module?\n",
    "* Name three characteristics you can set in a dialect OR when reading or writing CSVs?\n",
    "* Name one reason why it is important to understand your data\n",
    "\n"
   ]
  },
  {
   "cell_type": "markdown",
   "metadata": {},
   "source": [
    "# Openpyxl\n",
    "* Handles the most recent version of excel\n",
    "* Has read and write in the same module\n",
    "  * Other libraries exist if you are using a file from an older version of Excel\n",
    "  * Other libraries may break up that functionality into separate modules"
   ]
  },
  {
   "cell_type": "code",
   "execution_count": 1,
   "metadata": {},
   "outputs": [
    {
     "data": {
      "text/plain": [
       "['avengers', 'logdates', 'villains']"
      ]
     },
     "execution_count": 1,
     "metadata": {},
     "output_type": "execute_result"
    }
   ],
   "source": [
    "import openpyxl\n",
    "wb = openpyxl.load_workbook('avengers.xlsx')\n",
    "wb.get_sheet_names()"
   ]
  },
  {
   "cell_type": "code",
   "execution_count": null,
   "metadata": {
    "collapsed": true
   },
   "outputs": [],
   "source": [
    "# let's look at workbooks\n",
    "# using tab completion\n",
    "\n"
   ]
  },
  {
   "cell_type": "code",
   "execution_count": 2,
   "metadata": {},
   "outputs": [
    {
     "data": {
      "text/plain": [
       "<Worksheet \"avengers\">"
      ]
     },
     "execution_count": 2,
     "metadata": {},
     "output_type": "execute_result"
    }
   ],
   "source": [
    "# If we know the names of the sheets we can grab one by calling on it\n",
    "\n",
    "sheet = wb.get_sheet_by_name('avengers')\n",
    "sheet"
   ]
  },
  {
   "cell_type": "code",
   "execution_count": null,
   "metadata": {
    "collapsed": true
   },
   "outputs": [],
   "source": [
    "# let's look at sheets\n",
    "# using tab completion\n",
    "\n"
   ]
  },
  {
   "cell_type": "code",
   "execution_count": 3,
   "metadata": {},
   "outputs": [
    {
     "name": "stdout",
     "output_type": "stream",
     "text": [
      "<class 'openpyxl.worksheet.worksheet.Worksheet'>\n",
      "avengers\n"
     ]
    }
   ],
   "source": [
    "# Let's take a little look at what we have using\n",
    "# poor man debugging\n",
    "\n",
    "print(type(sheet))\n",
    "print(sheet.title)"
   ]
  },
  {
   "cell_type": "code",
   "execution_count": 4,
   "metadata": {},
   "outputs": [
    {
     "name": "stdout",
     "output_type": "stream",
     "text": [
      "<Worksheet \"avengers\">\n"
     ]
    }
   ],
   "source": [
    "# By default there's an 'active' sheet. And if we want a way to refer to that we do this\n",
    "\n",
    "act_sheet = wb.get_active_sheet()\n",
    "print(act_sheet)"
   ]
  },
  {
   "cell_type": "code",
   "execution_count": 5,
   "metadata": {},
   "outputs": [
    {
     "data": {
      "text/plain": [
       "'barry allen'"
      ]
     },
     "execution_count": 5,
     "metadata": {},
     "output_type": "execute_result"
    }
   ],
   "source": [
    "# If we want to get a specific cell from a sheet we have this is how we'd do it\n",
    "\n",
    "sheet = wb.get_sheet_by_name('avengers')\n",
    "sheet['A1'].value"
   ]
  },
  {
   "cell_type": "code",
   "execution_count": 6,
   "metadata": {},
   "outputs": [
    {
     "data": {
      "text/plain": [
       "'ballen@jleague.org'"
      ]
     },
     "execution_count": 6,
     "metadata": {},
     "output_type": "execute_result"
    }
   ],
   "source": [
    "# We can actually assign a specific cell to a variable\n",
    "# and then reference the attributes and behaviors of that item.\n",
    "\n",
    "myCell = sheet['B1']\n",
    "myCell.value"
   ]
  },
  {
   "cell_type": "code",
   "execution_count": null,
   "metadata": {
    "collapsed": true
   },
   "outputs": [],
   "source": [
    "# let's look at cells\n",
    "# using tab completion\n",
    "\n"
   ]
  },
  {
   "cell_type": "code",
   "execution_count": 7,
   "metadata": {},
   "outputs": [
    {
     "name": "stdout",
     "output_type": "stream",
     "text": [
      "Row:\t 1\n",
      "Col:\t C\n",
      "Val:\t 246.167.32.21\n",
      "Coord:\t C1\n"
     ]
    }
   ],
   "source": [
    "# Some of the attributes we can refer to from a cell\n",
    "\n",
    "fmIP = sheet['C1']\n",
    "\n",
    "print('Row:\\t', fmIP.row)\n",
    "print('Col:\\t', fmIP.column)\n",
    "print('Val:\\t', fmIP.value)\n",
    "print('Coord:\\t', fmIP.coordinate)\n",
    "\n",
    "\n",
    "# NOTE about non-backwards compatibility changes\n",
    "# the last item used to be fmIP.get_coordinates()\n",
    "#     the maintainers of the library dropped the function in favor of \n",
    "#     simply referencing the coordinate as an attribute (no '()')\n",
    "#\n",
    "# This sometimes happens and means that tutorials, lessons like this,\n",
    "# instructions online might get out of date.\n",
    "#\n",
    "# This is where your investigation tools:\n",
    "# obj.<tab complete>\n",
    "# obj.method?\n",
    "\n",
    "# Come in handy.\n"
   ]
  },
  {
   "cell_type": "code",
   "execution_count": 8,
   "metadata": {
    "scrolled": true
   },
   "outputs": [
    {
     "data": {
      "text/plain": [
       "datetime.datetime(2016, 2, 8, 0, 0)"
      ]
     },
     "execution_count": 8,
     "metadata": {},
     "output_type": "execute_result"
    }
   ],
   "source": [
    "# We can grab a cell by using integer-based row and column numbers\n",
    "\n",
    "logs = wb.get_sheet_by_name('logdates')\n",
    "logs.cell(row=1, column=1).value\n",
    "\n",
    "# NOTE:\n",
    "# this blew my mind...\n",
    "# it read it in as a Python datetime object...\n",
    "# We will talk about datetime objects in another session\n",
    "# Just know: this gives you considerable power "
   ]
  },
  {
   "cell_type": "code",
   "execution_count": 9,
   "metadata": {},
   "outputs": [
    {
     "name": "stdout",
     "output_type": "stream",
     "text": [
      "Cell 1 : barry allen\n",
      "Cell 2 : barbara gordon\n",
      "Cell 3 : kyle rayner\n",
      "Cell 4 : dinah lance\n",
      "Cell 5 : arthur curry\n",
      "Cell 6 : kara zor-el\n",
      "Cell 7 : kara zor-el\n",
      "Cell 8 : kyle rayner\n",
      "Cell 9 : dinah lance\n"
     ]
    }
   ],
   "source": [
    "# We can use this to iterate through certain parts easily\n",
    "\n",
    "for row in range(1, 10):\n",
    "    print('Cell', row, ':', sheet.cell(row=row, column=1).value)\n",
    "    \n",
    "# NOTE: we are missing the last row in the spreadsheet\n",
    "#     0) range() is doing exactly what we ask for\n",
    "#     1) but openpyxl diverges from standard Python practice of\n",
    "#        starting numbering from 0 >> this keeps it in line with\n",
    "#        Excel referencing the first row as Row 1 "
   ]
  },
  {
   "cell_type": "code",
   "execution_count": 10,
   "metadata": {},
   "outputs": [
    {
     "name": "stdout",
     "output_type": "stream",
     "text": [
      "Cell 1 : barry allen\n",
      "Cell 2 : barbara gordon\n",
      "Cell 3 : kyle rayner\n",
      "Cell 4 : dinah lance\n",
      "Cell 5 : arthur curry\n",
      "Cell 6 : kara zor-el\n",
      "Cell 7 : kara zor-el\n",
      "Cell 8 : kyle rayner\n",
      "Cell 9 : dinah lance\n",
      "Cell 10 : arthur curry\n"
     ]
    }
   ],
   "source": [
    "# We can use this to iterate through certain parts easily\n",
    "\n",
    "for row in range(1, 11):\n",
    "    print('Cell', row, ':', sheet.cell(row=row, column=1).value)\n",
    "    \n"
   ]
  },
  {
   "cell_type": "markdown",
   "metadata": {},
   "source": [
    "# Experience Points"
   ]
  },
  {
   "cell_type": "markdown",
   "metadata": {},
   "source": [
    "## Problem 0\n",
    "\n",
    "1. Read in the Excel workbook `avengers.xlsx` and label it `wb`\n",
    "1. Print a list of all the sheets\n",
    "1. Get the sheet called 'avengers' and label it `mySheet`\n",
    "1. Read and print the data stored in cell `D4` and stored in cell `A4`\n",
    "1. Read and print the data stored in column `F` of all rows\n",
    "1. Read and print the data stored in column `F` and `G` of all rows"
   ]
  },
  {
   "cell_type": "code",
   "execution_count": 31,
   "metadata": {},
   "outputs": [
    {
     "name": "stdout",
     "output_type": "stream",
     "text": [
      "['avengers', 'logdates', 'villains']\n",
      "7.36.164.133 dinah lance\n",
      "49.559 8.878\n",
      "48.14 9.074\n",
      "45.283 10.387\n",
      "45.834 8.709\n",
      "49.447 8.055\n",
      "46.222 10.073\n",
      "45.769 10.33\n",
      "45.283 10.387\n",
      "45.834 8.709\n",
      "49.447 8.055\n"
     ]
    }
   ],
   "source": [
    "import openpyxl\n",
    "\n",
    "wb = openpyxl.load_workbook('avengers.xlsx')\n",
    "\n",
    "print(wb.get_sheet_names())\n",
    "\n",
    "mySheet = wb.get_sheet_by_name('avengers')\n",
    "\n",
    "print(mySheet['D4'].value, mySheet['A4'].value)\n",
    "\n",
    "for rownum in range(1, 11):\n",
    "    print(mySheet.cell(row=rownum, column=6).value, mySheet.cell(row=rownum, column=7).value)"
   ]
  },
  {
   "cell_type": "code",
   "execution_count": 20,
   "metadata": {},
   "outputs": [
    {
     "name": "stdout",
     "output_type": "stream",
     "text": [
      "['avengers', 'logdates', 'villains']\n",
      "7.36.164.133 dinah lance\n",
      "49.559\n",
      "48.14\n",
      "45.283\n",
      "45.834\n",
      "49.447\n",
      "46.222\n",
      "45.769\n",
      "45.283\n",
      "45.834\n",
      "49.447\n"
     ]
    }
   ],
   "source": [
    "import openpyxl as op\n",
    "\n",
    "wb = op.load_workbook('avengers.xlsx')\n",
    "\n",
    "print(wb.get_sheet_names())\n",
    "\n",
    "mySheet = wb.get_sheet_by_name('avengers')\n",
    "\n",
    "print(mySheet['D4'].value, mySheet['A4'].value)\n",
    "\n",
    "for row in range(1, 11):\n",
    "    cell = mySheet.cell(row=row, column=6)\n",
    "    print(cell.value)"
   ]
  },
  {
   "cell_type": "code",
   "execution_count": 32,
   "metadata": {
    "collapsed": true
   },
   "outputs": [],
   "source": [
    "# let's look at logs\n",
    "# using tab completion\n",
    "\n",
    "logs.max_row?"
   ]
  },
  {
   "cell_type": "code",
   "execution_count": 35,
   "metadata": {},
   "outputs": [
    {
     "name": "stdout",
     "output_type": "stream",
     "text": [
      "2\n",
      "10\n"
     ]
    }
   ],
   "source": [
    "# If we want to figure out how much data is actually in our spreadsheet we can use the .get_highest_*() methods\n",
    "\n",
    "print(logs.max_column)\n",
    "print(logs.max_row)\n",
    "\n",
    "\n",
    "# Another instance of a non-backwards compatible change within the past\n",
    "#     two years?\n",
    "# print(logs.get_highest_row())\n",
    "# print(logs.get_highest_column())"
   ]
  },
  {
   "cell_type": "code",
   "execution_count": 37,
   "metadata": {},
   "outputs": [
    {
     "name": "stdout",
     "output_type": "stream",
     "text": [
      "(<Cell avengers.A1>, <Cell avengers.A2>, <Cell avengers.A3>, <Cell avengers.A4>, <Cell avengers.A5>, <Cell avengers.A6>, <Cell avengers.A7>, <Cell avengers.A8>, <Cell avengers.A9>, <Cell avengers.A10>)\n",
      "(<Cell avengers.B1>, <Cell avengers.B2>, <Cell avengers.B3>, <Cell avengers.B4>, <Cell avengers.B5>, <Cell avengers.B6>, <Cell avengers.B7>, <Cell avengers.B8>, <Cell avengers.B9>, <Cell avengers.B10>)\n"
     ]
    }
   ],
   "source": [
    "# To get a specific column you can use .iter_cols()\n",
    "\n",
    "for col in sheet.iter_cols(1, 2):\n",
    "    print(col)"
   ]
  },
  {
   "cell_type": "code",
   "execution_count": 39,
   "metadata": {},
   "outputs": [
    {
     "name": "stdout",
     "output_type": "stream",
     "text": [
      "['barry allen', 'barbara gordon', 'kyle rayner', 'dinah lance', 'arthur curry', 'kara zor-el', 'kara zor-el', 'kyle rayner', 'dinah lance', 'arthur curry']\n"
     ]
    }
   ],
   "source": [
    "# To iterate over a column, for loops work fine\n",
    "# Here, let's gather all the names into a list\n",
    "\n",
    "names = []\n",
    "\n",
    "for col in sheet.iter_cols(1, 1):\n",
    "    for cell in col:\n",
    "        \n",
    "        names.append(cell.value)\n",
    "        \n",
    "print(names)"
   ]
  },
  {
   "cell_type": "markdown",
   "metadata": {},
   "source": [
    "# Experience Points\n",
    "---"
   ]
  },
  {
   "cell_type": "markdown",
   "metadata": {},
   "source": [
    "## Problem 1\n",
    "\n",
    "1. Read in the Excel workbook `avengers.xlsx` and label it `wb`\n",
    "1. Print a list of all the sheets\n",
    "1. Get the sheet called 'avengers' and label it `mySheet`\n",
    "1. Read and print the data stored in cell `D4` and stored in cell `A4`\n",
    "1. Read and print the data stored in column `F` and `G` of all rows"
   ]
  },
  {
   "cell_type": "code",
   "execution_count": 42,
   "metadata": {},
   "outputs": [
    {
     "name": "stdout",
     "output_type": "stream",
     "text": [
      "{'barbara gordon', 'barry allen', 'dinah lance', 'arthur curry', 'kara zor-el', 'kyle rayner'}\n"
     ]
    }
   ],
   "source": [
    "## Problem 2\n",
    "\n",
    "# Modify the following code so that it deduplicates\n",
    "# the names automagically\n",
    "# Hint: what datatype holds only unique values?\n",
    "\n",
    "# NOTE: you must have successfully completed problem 1 to do this\n",
    "\n",
    "dedupe_names = set()       # \n",
    "# dedupe_names.add()\n",
    "\n",
    "# l.append()  < single \n",
    "# l.extend()  < multe\n",
    "# s.add()     < single \n",
    "# s.update()  < multi\n",
    "\n",
    "\n",
    "\n",
    "for col in mySheet.iter_cols(1, 1):\n",
    "    for cell in col:\n",
    "        dedupe_names.add(cell.value)\n",
    "        \n",
    "print(dedupe_names)\n",
    "\n",
    "set(names)"
   ]
  },
  {
   "cell_type": "code",
   "execution_count": 49,
   "metadata": {},
   "outputs": [
    {
     "name": "stdout",
     "output_type": "stream",
     "text": [
      "{'arthur', 'dinah', 'barry', 'barbara', 'kyle', 'kara'}\n"
     ]
    }
   ],
   "source": [
    "## Problem 3\n",
    "\n",
    "# Modify the following code:\n",
    "# 0) add a function that can be called that splits the cell value into\n",
    "#    two parts: first name and last name\n",
    "#    return only the first name\n",
    "# 1) collect the first names into a container with no duplicates\n",
    "# \n",
    "# NOTE: you must have successfully completed problem 1 to do this\n",
    "\n",
    "dedupe_fnames = set()\n",
    "\n",
    "for col in mySheet.iter_cols(1, 1):\n",
    "    for cell in col:\n",
    "        fname = cell.value.split()[0]\n",
    "        dedupe_fnames.add(fname)\n",
    "        \n",
    "print(dedupe_fnames)"
   ]
  },
  {
   "cell_type": "code",
   "execution_count": null,
   "metadata": {
    "collapsed": true
   },
   "outputs": [],
   "source": [
    "        names = name.split"
   ]
  },
  {
   "cell_type": "markdown",
   "metadata": {},
   "source": [
    "# Ranges of cells\n",
    "---"
   ]
  },
  {
   "cell_type": "code",
   "execution_count": 50,
   "metadata": {},
   "outputs": [
    {
     "name": "stdout",
     "output_type": "stream",
     "text": [
      "A1 barry allen\n",
      "B1 ballen@jleague.org\n",
      "C1 246.167.32.21\n",
      "D1 253.36.206.4\n",
      "\n",
      " ---- Extracting a new Row ---- \n",
      "\n",
      "A2 barbara gordon\n",
      "B2 bgordon@jleague.org\n",
      "C2 253.36.207.192\n",
      "D2 198.240.252.129\n",
      "\n",
      " ---- Extracting a new Row ---- \n",
      "\n",
      "A3 kyle rayner\n",
      "B3 krayner@jleague.org\n",
      "C3 208.66.182.10\n",
      "D3 102.230.226.99\n",
      "\n",
      " ---- Extracting a new Row ---- \n",
      "\n",
      "A4 dinah lance\n",
      "B4 dlance@jleague.org\n",
      "C4 246.167.32.76\n",
      "D4 7.36.164.133\n",
      "\n",
      " ---- Extracting a new Row ---- \n",
      "\n",
      "A5 arthur curry\n",
      "B5 acurry@jleague.org\n",
      "C5 253.36.207.215\n",
      "D5 7.36.164.0\n",
      "\n",
      " ---- Extracting a new Row ---- \n",
      "\n",
      "A6 kara zor-el\n",
      "B6 kzor-el@jleague.org\n",
      "C6 208.66.183.214\n",
      "D6 253.36.207.215\n",
      "\n",
      " ---- Extracting a new Row ---- \n",
      "\n",
      "A7 kara zor-el\n",
      "B7 kzor-el@jleague.org\n",
      "C7 208.66.183.214\n",
      "D7 198.240.252.173\n",
      "\n",
      " ---- Extracting a new Row ---- \n",
      "\n",
      "A8 kyle rayner\n",
      "B8 krayner@jleague.org\n",
      "C8 208.66.182.10\n",
      "D8 102.230.226.99\n",
      "\n",
      " ---- Extracting a new Row ---- \n",
      "\n",
      "A9 dinah lance\n",
      "B9 dlance@jleague.org\n",
      "C9 246.167.32.76\n",
      "D9 7.36.164.133\n",
      "\n",
      " ---- Extracting a new Row ---- \n",
      "\n",
      "A10 arthur curry\n",
      "B10 acurry@jleague.org\n",
      "C10 253.36.207.215\n",
      "D10 7.36.164.0\n",
      "\n",
      " ---- Extracting a new Row ---- \n",
      "\n"
     ]
    }
   ],
   "source": [
    "# We can also grab ranges of cells\n",
    "# These ranges can cross boundaries of Row AND Column to make\n",
    "# rectangular selections\n",
    "\n",
    "\n",
    "for row in sheet['A1':'D10']:\n",
    "    for cell in row:\n",
    "        print(cell.coordinate, cell.value)\n",
    "    print('\\n ---- Extracting a new Row ---- \\n')"
   ]
  },
  {
   "cell_type": "markdown",
   "metadata": {},
   "source": [
    "# Creating Spreadsheets"
   ]
  },
  {
   "cell_type": "code",
   "execution_count": 51,
   "metadata": {},
   "outputs": [
    {
     "data": {
      "text/plain": [
       "['Sheet']"
      ]
     },
     "execution_count": 51,
     "metadata": {},
     "output_type": "execute_result"
    }
   ],
   "source": [
    "# Let's try making a spreadsheet now\n",
    "\n",
    "wb = openpyxl.Workbook()\n",
    "wb.get_sheet_names()\n",
    "\n",
    "# By default, only one sheet is present"
   ]
  },
  {
   "cell_type": "code",
   "execution_count": 52,
   "metadata": {},
   "outputs": [
    {
     "name": "stdout",
     "output_type": "stream",
     "text": [
      "Sheet\n"
     ]
    }
   ],
   "source": [
    "# We can grab the active sheet and title\n",
    "\n",
    "sheet = wb.get_active_sheet()\n",
    "print(sheet.title)"
   ]
  },
  {
   "cell_type": "code",
   "execution_count": 53,
   "metadata": {},
   "outputs": [
    {
     "data": {
      "text/plain": [
       "['heroes']"
      ]
     },
     "execution_count": 53,
     "metadata": {},
     "output_type": "execute_result"
    }
   ],
   "source": [
    "# We can even rename the sheet if we want to\n",
    "\n",
    "sheet.title = 'heroes'\n",
    "wb.get_sheet_names()"
   ]
  },
  {
   "cell_type": "code",
   "execution_count": 54,
   "metadata": {
    "collapsed": true
   },
   "outputs": [],
   "source": [
    "# When we want to save\n",
    "\n",
    "wb.save('heroes.xlsx')"
   ]
  },
  {
   "cell_type": "code",
   "execution_count": 55,
   "metadata": {},
   "outputs": [
    {
     "data": {
      "text/plain": [
       "['heroes', 'to_delete', 'heroines']"
      ]
     },
     "execution_count": 55,
     "metadata": {},
     "output_type": "execute_result"
    }
   ],
   "source": [
    "# We can make sheets on the fly as we need them\n",
    "\n",
    "wb.create_sheet(index=1,title='heroines')\n",
    "wb.create_sheet(index=1,title='to_delete')\n",
    "wb.get_sheet_names()\n",
    "\n",
    "# IF a sheet name already is in use, it will\n",
    "# automatically add the sheet, but will add an incremental suffix:\n",
    "# i.e. heroines >>> heroines1\n"
   ]
  },
  {
   "cell_type": "code",
   "execution_count": 56,
   "metadata": {},
   "outputs": [
    {
     "data": {
      "text/plain": [
       "['heroes', 'heroines']"
      ]
     },
     "execution_count": 56,
     "metadata": {},
     "output_type": "execute_result"
    }
   ],
   "source": [
    "# Or remove them if we don't need them anymore\n",
    "\n",
    "wb.remove_sheet(wb.get_sheet_by_name('to_delete'))\n",
    "\n",
    "wb.get_sheet_names()"
   ]
  },
  {
   "cell_type": "code",
   "execution_count": 57,
   "metadata": {},
   "outputs": [
    {
     "data": {
      "text/plain": [
       "'first name'"
      ]
     },
     "execution_count": 57,
     "metadata": {},
     "output_type": "execute_result"
    }
   ],
   "source": [
    "# We can easily assign values to cells that we want\n",
    "\n",
    "sheet['A1'] = 'first name'\n",
    "sheet['A1'].value"
   ]
  },
  {
   "cell_type": "markdown",
   "metadata": {},
   "source": [
    "# Dig deep: `list.pop()` method"
   ]
  },
  {
   "cell_type": "code",
   "execution_count": 58,
   "metadata": {},
   "outputs": [
    {
     "name": "stdout",
     "output_type": "stream",
     "text": [
      "['a', 'b', 'c', 'd']\n",
      "d ['a', 'b', 'c']\n",
      "c ['a', 'b']\n",
      "b ['a']\n",
      "a []\n"
     ]
    },
    {
     "ename": "IndexError",
     "evalue": "pop from empty list",
     "output_type": "error",
     "traceback": [
      "\u001b[0;31m---------------------------------------------------------------------------\u001b[0m",
      "\u001b[0;31mIndexError\u001b[0m                                Traceback (most recent call last)",
      "\u001b[0;32m<ipython-input-58-24342cc95cb4>\u001b[0m in \u001b[0;36m<module>\u001b[0;34m()\u001b[0m\n\u001b[1;32m     11\u001b[0m \u001b[0;31m# IndexError if the list is empty\u001b[0m\u001b[0;34m\u001b[0m\u001b[0;34m\u001b[0m\u001b[0m\n\u001b[1;32m     12\u001b[0m \u001b[0;34m\u001b[0m\u001b[0m\n\u001b[0;32m---> 13\u001b[0;31m \u001b[0mprint\u001b[0m\u001b[0;34m(\u001b[0m\u001b[0mmyList\u001b[0m\u001b[0;34m.\u001b[0m\u001b[0mpop\u001b[0m\u001b[0;34m(\u001b[0m\u001b[0;34m)\u001b[0m\u001b[0;34m,\u001b[0m \u001b[0mmyList\u001b[0m\u001b[0;34m)\u001b[0m\u001b[0;34m\u001b[0m\u001b[0m\n\u001b[0m\u001b[1;32m     14\u001b[0m \u001b[0;34m\u001b[0m\u001b[0m\n\u001b[1;32m     15\u001b[0m \u001b[0;34m\u001b[0m\u001b[0m\n",
      "\u001b[0;31mIndexError\u001b[0m: pop from empty list"
     ]
    }
   ],
   "source": [
    "# Interlude:\n",
    "\n",
    "myList = ['a', 'b', 'c', 'd']\n",
    "\n",
    "print(myList)\n",
    "print(myList.pop(), myList)\n",
    "print(myList.pop(), myList)\n",
    "print(myList.pop(), myList)\n",
    "print(myList.pop(), myList)\n",
    "\n",
    "# IndexError if the list is empty\n",
    "\n",
    "print(myList.pop(), myList)\n",
    "\n",
    "\n"
   ]
  },
  {
   "cell_type": "code",
   "execution_count": 60,
   "metadata": {},
   "outputs": [
    {
     "name": "stdout",
     "output_type": "stream",
     "text": [
      "['a', 'b', 'c', 'd']\n",
      "a ['b', 'c', 'd']\n",
      "b ['c', 'd']\n",
      "c ['d']\n",
      "d []\n"
     ]
    }
   ],
   "source": [
    "# Interlude:\n",
    "\n",
    "# Popping via index value gives you the value at that index in the list\n",
    "\n",
    "myList2 = ['a', 'b', 'c', 'd']\n",
    "\n",
    "print(myList2)\n",
    "print(myList2.pop(0), myList2)\n",
    "print(myList2.pop(0), myList2)\n",
    "print(myList2.pop(0), myList2)\n",
    "print(myList2.pop(0), myList2)\n",
    "\n",
    "\n",
    "\n"
   ]
  },
  {
   "cell_type": "markdown",
   "metadata": {},
   "source": [
    "# Back to writing to Excel "
   ]
  },
  {
   "cell_type": "code",
   "execution_count": 62,
   "metadata": {
    "collapsed": true
   },
   "outputs": [],
   "source": [
    "# Using index assignment we can programmatically fill in cell values\n",
    "\n",
    "names = ['Jessica', 'Jameson', 'Ashton', 'Brock', 'Miss T.', 'P. Kachu', 'M. E. Outh']\n",
    "\n",
    "for row_number in range(2, 9):\n",
    "    sheet.cell(row=row_number, column=1).value = names.pop(0)\n",
    "\n",
    "wb.save('heroes.xlsx')"
   ]
  },
  {
   "cell_type": "code",
   "execution_count": 63,
   "metadata": {},
   "outputs": [
    {
     "data": {
      "text/plain": [
       "['avengers', 'logdates', 'villains']"
      ]
     },
     "execution_count": 63,
     "metadata": {},
     "output_type": "execute_result"
    }
   ],
   "source": [
    "# We can even change font and style of cells using openpyxl\n",
    "# Let's go back to our earlier avengers.xlsx file.\n",
    "\n",
    "import openpyxl\n",
    "wb = openpyxl.load_workbook('avengers.xlsx')\n",
    "wb.get_sheet_names()"
   ]
  },
  {
   "cell_type": "code",
   "execution_count": null,
   "metadata": {
    "collapsed": true
   },
   "outputs": [],
   "source": []
  },
  {
   "cell_type": "code",
   "execution_count": 64,
   "metadata": {
    "collapsed": true
   },
   "outputs": [],
   "source": [
    "# If we want to make excel formulas we can also do that\n",
    "# We feed in a string that matches the exact Excel formula we would type in...\n",
    "\n",
    "logs = wb.get_sheet_by_name('logdates')\n",
    "\n",
    "logs['A11'].value = 'Sum:'\n",
    "logs['A12'].value = 'Average:'\n",
    "\n",
    "logs['B11'] = '=SUM(B1:B10)'\n",
    "logs['B12'] = '=AVERAGE(B1:B10)'\n",
    "\n",
    "wb.save('avengers_formula.xlsx')"
   ]
  },
  {
   "cell_type": "markdown",
   "metadata": {},
   "source": [
    "# Experience Points\n",
    "---"
   ]
  },
  {
   "cell_type": "markdown",
   "metadata": {
    "collapsed": true
   },
   "source": [
    "## Problem A\n",
    "\n",
    "1. Create a function that when given an email address can extract the UID (i.e. if given `ballen@jleague.org`, will return `ballen`)\n",
    "1. Open the file `avengers.xlsx` using openpyxl AND label it with a suitable filehandle\n",
    "1. Use the `openpyxl` module to read the data from the file (don't forget to import the module)\n",
    "1. Read the column that contains email addresses and call your function to return the UID\n",
    "1. Print the UID"
   ]
  },
  {
   "cell_type": "code",
   "execution_count": 72,
   "metadata": {},
   "outputs": [
    {
     "name": "stdout",
     "output_type": "stream",
     "text": [
      "ballen 2016-02-08T21:44:22 49.559 8.878\n",
      "bgordon 2016-02-07T21:44:28 48.14 9.074\n",
      "krayner 2016-02-06T21:44:56 45.283 10.387\n",
      "dlance 2016-02-06T21:45:51 45.834 8.709\n",
      "acurry 2016-02-06T21:47:02 49.447 8.055\n",
      "kzor-el 2016-02-06T21:47:26 46.222 10.073\n",
      "kzor-el 2016-02-06T21:48:03 45.769 10.33\n",
      "krayner 2016-02-06T21:44:56 45.283 10.387\n",
      "dlance 2016-02-06T21:45:51 45.834 8.709\n"
     ]
    }
   ],
   "source": [
    "def getUid(email):\n",
    "    return email.split('@')[0]\n",
    "\n",
    "def latlong(lat, long):\n",
    "    lat = float(lat)\n",
    "    long = float(long)\n",
    "    return lat, long\n",
    "\n",
    "wb = openpyxl.load_workbook('avengers.xlsx')\n",
    "\n",
    "sheet = wb.get_sheet_by_name('avengers')\n",
    "\n",
    "for row in range(1, sheet.max_row):\n",
    "    email = sheet.cell(row=row, column=2).value\n",
    "    \n",
    "    lat = sheet.cell(row=row, column=6).value\n",
    "    long = sheet.cell(row=row, column=7).value\n",
    "    date = sheet.cell(row=row, column=5).value\n",
    "    \n",
    "    user = getUid(email)\n",
    "    \n",
    "    geo = latlong(lat, long)\n",
    "    \n",
    "    \n",
    "    print(user, date, geo[0], geo[1])"
   ]
  },
  {
   "cell_type": "markdown",
   "metadata": {
    "collapsed": true
   },
   "source": [
    "## Problem B\n",
    "\n",
    "1. Create a function that when given two text values (lat and long) returns two values: \n",
    "   1. Convert each text value to a float\n",
    "   1. Use the round() function to round the float to two decimal places\n",
    "1. Open the file `avengers.xlsx` using openpyxl AND label it with a suitable filehandle\n",
    "1. For each row, call your function AND give it the lat and long values\n",
    "1. Print the date and the lat and long."
   ]
  },
  {
   "cell_type": "markdown",
   "metadata": {},
   "source": [
    "## Problem C\n",
    "\n",
    "Redo both the problems above, but instead of printing to screen, write the results to a new spreadsheet."
   ]
  },
  {
   "cell_type": "code",
   "execution_count": null,
   "metadata": {
    "collapsed": true
   },
   "outputs": [],
   "source": []
  },
  {
   "cell_type": "code",
   "execution_count": null,
   "metadata": {
    "collapsed": true
   },
   "outputs": [],
   "source": []
  },
  {
   "cell_type": "code",
   "execution_count": null,
   "metadata": {
    "collapsed": true
   },
   "outputs": [],
   "source": [
    "# Backups...\n",
    "\n",
    "# NOTE to self:\n",
    "# This needs to be investigated.\n",
    "# getting an error upon opening Excel, it does not like the \n",
    "# formatting and will offer to repair the file."
   ]
  },
  {
   "cell_type": "code",
   "execution_count": null,
   "metadata": {
    "collapsed": true
   },
   "outputs": [],
   "source": [
    "# We can even change font and style of cells using openpyxl\n",
    "from openpyxl.styles import Font\n",
    "\n",
    "logs = wb.get_sheet_by_name('logdates')\n",
    "\n",
    "ft = Font(name='Times', bold=True)\n",
    "\n",
    "cell = sheet['A2']\n",
    "cell.font = ft\n",
    "# for row in sheet['A1':'A10']:\n",
    "#    print(row)\n",
    "#    cell = row[0]\n",
    "#    cell.font = ft\n",
    "wb.save('avengers_font_formulas.xlsx')"
   ]
  },
  {
   "cell_type": "code",
   "execution_count": null,
   "metadata": {
    "collapsed": true
   },
   "outputs": [],
   "source": []
  }
 ],
 "metadata": {
  "anaconda-cloud": {},
  "celltoolbar": "Slideshow",
  "kernelspec": {
   "display_name": "Python [default]",
   "language": "python",
   "name": "python3"
  },
  "language_info": {
   "codemirror_mode": {
    "name": "ipython",
    "version": 3
   },
   "file_extension": ".py",
   "mimetype": "text/x-python",
   "name": "python",
   "nbconvert_exporter": "python",
   "pygments_lexer": "ipython3",
   "version": "3.5.3"
  }
 },
 "nbformat": 4,
 "nbformat_minor": 2
}
