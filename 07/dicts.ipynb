{
 "cells": [
  {
   "cell_type": "markdown",
   "metadata": {
    "slideshow": {
     "slide_type": "slide"
    }
   },
   "source": [
    "# Welcome to the Dark Art of Coding:\n",
    "## Introduction to Python\n",
    "Dictionaries\n",
    "\n",
    "<img src='../images/dark_art_logo.600px.png' width='300' style=\"float:right\">"
   ]
  },
  {
   "cell_type": "markdown",
   "metadata": {},
   "source": [
    "# Objectives\n",
    "---"
   ]
  },
  {
   "cell_type": "markdown",
   "metadata": {},
   "source": [
    "In this session, students should expect to:\n",
    "\n",
    "* Explore the dictionary datatype\n",
    "* Understand how to add data to a dictionary\n",
    "* Understand how to modify data in a dictionary\n",
    "* Understand how to use keys to retrieve values from a dictionary\n"
   ]
  },
  {
   "cell_type": "markdown",
   "metadata": {
    "slideshow": {
     "slide_type": "slide"
    }
   },
   "source": [
    "<h1>What is a dictionary?</h1>"
   ]
  },
  {
   "cell_type": "markdown",
   "metadata": {},
   "source": [
    "A dictionary is a collection of key and value pairs.\n",
    "\n",
    "* Each key must be unique\n",
    "* Each key must be hashable (strings, tuples, etc)\n",
    "* Dictionaries are heavily optimized for speed\n",
    "* Dictionaries are generally unordered**\n",
    "\n",
    "Hashing is an algorithm that produces a unique identifier for any given input.\n",
    "The unique identifier is used by Python to enable your data to be found very quickly.\n",
    "\n",
    "**NOTE:** Changes in Python 3.6 may alter whether dictionaries are ordered/unordered..."
   ]
  },
  {
   "cell_type": "code",
   "execution_count": 1,
   "metadata": {
    "slideshow": {
     "slide_type": "slide"
    }
   },
   "outputs": [
    {
     "data": {
      "text/plain": [
       "{'email': 'genericEmail42@gmail.com', 'name': 'Arthur', 'number': '867-5309'}"
      ]
     },
     "execution_count": 1,
     "metadata": {},
     "output_type": "execute_result"
    }
   ],
   "source": [
    "# Let's make a sample dictionary.\n",
    "# This syntax produces a dictionary literal\n",
    "# There are other methods available to make dictionaries \n",
    "#     and there is a dict() factory function\n",
    "\n",
    "contact = {'name': 'Arthur', \n",
    "           'number': '867-5309',\n",
    "           'email': 'genericEmail42@gmail.com'}\n",
    "contact\n",
    "\n",
    "# NOTE: dictionaries are unordered."
   ]
  },
  {
   "cell_type": "code",
   "execution_count": 2,
   "metadata": {
    "slideshow": {
     "slide_type": "slide"
    }
   },
   "outputs": [
    {
     "data": {
      "text/plain": [
       "'Arthur'"
      ]
     },
     "execution_count": 2,
     "metadata": {},
     "output_type": "execute_result"
    }
   ],
   "source": [
    "# If we just want one item from a dict we access it \n",
    "#     using the same:\n",
    "#\n",
    "#     object[subscript]\n",
    "#\n",
    "#     model seen with strings and lists\n",
    "\n",
    "contact['name']"
   ]
  },
  {
   "cell_type": "markdown",
   "metadata": {
    "slideshow": {
     "slide_type": "slide"
    }
   },
   "source": [
    "<h1>Lists vs. Dicts</h1>"
   ]
  },
  {
   "cell_type": "code",
   "execution_count": 3,
   "metadata": {
    "slideshow": {
     "slide_type": "subslide"
    }
   },
   "outputs": [
    {
     "name": "stdout",
     "output_type": "stream",
     "text": [
      "Arthur\n"
     ]
    }
   ],
   "source": [
    "# For small amounts of easily understood data,\n",
    "# storing the same data in a list is just about as easy\n",
    "# however if the data gets too large OR is too similar, \n",
    "# remembering which index goes to what item can be tough\n",
    "#\n",
    "# And what happens if you want to put more data at the\n",
    "# beginning of a list and it shifts every item down the line?\n",
    "\n",
    "contact_list = ['Arthur', '867-5309', 'genericEmail42@gmail.com']\n",
    "\n",
    "print(contact_list[0])"
   ]
  },
  {
   "cell_type": "code",
   "execution_count": 4,
   "metadata": {
    "scrolled": true,
    "slideshow": {
     "slide_type": "fragment"
    }
   },
   "outputs": [
    {
     "name": "stdout",
     "output_type": "stream",
     "text": [
      "brown and brown\n"
     ]
    }
   ],
   "source": [
    "# Earlier we typed this same dictionary on multiple lines\n",
    "# to make it easier to read but one-row construct is \n",
    "# just as valid\n",
    "\n",
    "contact_dict = {'name': 'Arthur',\n",
    "                'number': '867-5309',\n",
    "                'email': 'genericEmail@gmail.com',\n",
    "                ('eye', 'hair'): 'brown and brown'}\n",
    "\n",
    "print(contact_dict[('eye', 'hair')])"
   ]
  },
  {
   "cell_type": "markdown",
   "metadata": {},
   "source": [
    "# XP Grind!\n",
    "---"
   ]
  },
  {
   "cell_type": "markdown",
   "metadata": {
    "slideshow": {
     "slide_type": "slide"
    }
   },
   "source": [
    "<ol>\n",
    "<li>Create a dictionary with the following keys. Provide a value of your choosing to each key:</li>\n",
    "<ol>\n",
    "    <li>name</li>\n",
    "    <li>food</li>\n",
    "    <li>music</li>\n",
    "</ol>\n",
    "</ol>"
   ]
  },
  {
   "cell_type": "code",
   "execution_count": 5,
   "metadata": {},
   "outputs": [
    {
     "data": {
      "text/plain": [
       "['running', 'biking']"
      ]
     },
     "execution_count": 5,
     "metadata": {},
     "output_type": "execute_result"
    }
   ],
   "source": [
    "dark_lord = {'name': 'dark lord',\n",
    "             'food': 'sushi',\n",
    "             'music': 'heavy metal',\n",
    "             'hobbies': ['running', 'biking']}\n",
    "\n",
    "dark_lord['hobbies']"
   ]
  },
  {
   "cell_type": "markdown",
   "metadata": {},
   "source": [
    "When you complete this exercise, please put your green post-it on your monitor. \n",
    "\n",
    "If you want to continue on at your own-pace, please feel free to do so.\n",
    "\n",
    "<img src='../images/green_sticky.300px.png' width='200' style='float:left'>"
   ]
  },
  {
   "cell_type": "code",
   "execution_count": 6,
   "metadata": {
    "slideshow": {
     "slide_type": "slide"
    }
   },
   "outputs": [
    {
     "name": "stdout",
     "output_type": "stream",
     "text": [
      "Are these lists equivalent:  False\n"
     ]
    }
   ],
   "source": [
    "# Lists have order associated with their items so if you create\n",
    "# a list with a different order a comparison\n",
    "# will say they are not equivalent\n",
    "\n",
    "ex_list1 = ['val1', 'val2']\n",
    "ex_list2 = ['val2', 'val1']\n",
    "\n",
    "print('Are these lists equivalent: ', ex_list1 == ex_list2)"
   ]
  },
  {
   "cell_type": "code",
   "execution_count": 7,
   "metadata": {
    "slideshow": {
     "slide_type": "fragment"
    }
   },
   "outputs": [
    {
     "name": "stdout",
     "output_type": "stream",
     "text": [
      "Are these dicts equivalent:  True\n"
     ]
    }
   ],
   "source": [
    "# As noted previously... dictionaries are unordered. When\n",
    "# creating them no order is associated with their\n",
    "# items so you can create them in whatever\n",
    "# order you like and the two dictionaries will \n",
    "# still be equivalent\n",
    "\n",
    "ex_dict1 = {'key1': 'val1', 'key2': 'val2'}\n",
    "ex_dict2 = {'key2': 'val2', 'key1': 'val1'}\n",
    "\n",
    "print('Are these dicts equivalent: ', ex_dict1 == ex_dict2)"
   ]
  },
  {
   "cell_type": "code",
   "execution_count": 8,
   "metadata": {},
   "outputs": [
    {
     "data": {
      "text/plain": [
       "{'email': 'genericEmail42@gmail.com', 'name': 'Arthur', 'number': '867-5309'}"
      ]
     },
     "execution_count": 8,
     "metadata": {},
     "output_type": "execute_result"
    }
   ],
   "source": [
    "contact"
   ]
  },
  {
   "cell_type": "code",
   "execution_count": 10,
   "metadata": {
    "slideshow": {
     "slide_type": "slide"
    }
   },
   "outputs": [
    {
     "ename": "KeyError",
     "evalue": "'naem'",
     "output_type": "error",
     "traceback": [
      "\u001b[0;31m---------------------------------------------------------------------------\u001b[0m",
      "\u001b[0;31mKeyError\u001b[0m                                  Traceback (most recent call last)",
      "\u001b[0;32m<ipython-input-10-4c80cde8568b>\u001b[0m in \u001b[0;36m<module>\u001b[0;34m()\u001b[0m\n\u001b[1;32m      1\u001b[0m \u001b[0;31m# What happens if we try to access a key that doesn't exist?\u001b[0m\u001b[0;34m\u001b[0m\u001b[0;34m\u001b[0m\u001b[0m\n\u001b[1;32m      2\u001b[0m \u001b[0;34m\u001b[0m\u001b[0m\n\u001b[0;32m----> 3\u001b[0;31m \u001b[0mcontact\u001b[0m\u001b[0;34m[\u001b[0m\u001b[0;34m'naem'\u001b[0m\u001b[0;34m]\u001b[0m\u001b[0;34m\u001b[0m\u001b[0m\n\u001b[0m",
      "\u001b[0;31mKeyError\u001b[0m: 'naem'"
     ]
    }
   ],
   "source": [
    "# What happens if we try to access a key that doesn't exist?\n",
    "\n",
    "contact['naem']"
   ]
  },
  {
   "cell_type": "code",
   "execution_count": 28,
   "metadata": {
    "slideshow": {
     "slide_type": "subslide"
    }
   },
   "outputs": [
    {
     "name": "stdout",
     "output_type": "stream",
     "text": [
      "42 ['42-503 Lorelana Dr.', 'Honolulu HI', '95746']\n"
     ]
    }
   ],
   "source": [
    "## If we want to make a new key and assign it some value we can\n",
    "# do it like this:\n",
    "\n",
    "# Also note... our values can be any Python object.\n",
    "\n",
    "\n",
    "contact['address'] = ['42-503 Lorelana Dr.', 'Honolulu HI', '95746']\n",
    "contact['num'] = 42\n",
    "contact\n",
    "print(contact['num'], contact['address'])"
   ]
  },
  {
   "cell_type": "markdown",
   "metadata": {},
   "source": [
    "# XP Grind!\n",
    "---"
   ]
  },
  {
   "cell_type": "markdown",
   "metadata": {
    "slideshow": {
     "slide_type": "slide"
    }
   },
   "source": [
    "Create a new dictionary with the following keys. Provide a value of your choosing for each key BUT this time incorporate multiple datatypes such as integers, lists, etc:\n",
    "\n",
    "key | value type\n",
    ":---|:---\n",
    "name | str\n",
    "age | int\n",
    "favorite_foods | list\n",
    "favorite_songs | list"
   ]
  },
  {
   "cell_type": "markdown",
   "metadata": {},
   "source": [
    "When you complete this exercise, please put your green post-it on your monitor. \n",
    "\n",
    "If you want to continue on at your own-pace, please feel free to do so.\n",
    "\n",
    "<img src='../images/green_sticky.300px.png' width='200' style='float:left'>"
   ]
  },
  {
   "cell_type": "markdown",
   "metadata": {
    "slideshow": {
     "slide_type": "slide"
    }
   },
   "source": [
    "<h1>Keys(), Values(), Items()</h1>"
   ]
  },
  {
   "cell_type": "code",
   "execution_count": 13,
   "metadata": {
    "slideshow": {
     "slide_type": "slide"
    }
   },
   "outputs": [
    {
     "name": "stdout",
     "output_type": "stream",
     "text": [
      "dict_keys(['name', 'number', 'email', 'address', 'num'])\n"
     ]
    }
   ],
   "source": [
    "print(contact.keys())\n",
    "\n",
    "# the output of this is a VIEW of the keys in contact\n",
    "# it might resemble a list, but it has subtle differences...\n",
    "\n",
    "mk = contact.keys()"
   ]
  },
  {
   "cell_type": "code",
   "execution_count": 16,
   "metadata": {},
   "outputs": [
    {
     "name": "stdout",
     "output_type": "stream",
     "text": [
      "name\n",
      "number\n",
      "email\n",
      "address\n",
      "num\n"
     ]
    }
   ],
   "source": [
    "# We can iterate through the keys of a given dict\n",
    "\n",
    "for key in contact:\n",
    "    print(key)"
   ]
  },
  {
   "cell_type": "code",
   "execution_count": null,
   "metadata": {
    "collapsed": true,
    "slideshow": {
     "slide_type": "fragment"
    }
   },
   "outputs": [],
   "source": [
    "# You will sometimes see this written in this way\n",
    "# which is NOT wrong, but considered poor form/unnecessary.\n",
    "# in for loops the default is to iterate over the keys()\n",
    "\n",
    "for key in contact.keys():\n",
    "    print(key)    "
   ]
  },
  {
   "cell_type": "code",
   "execution_count": 17,
   "metadata": {
    "slideshow": {
     "slide_type": "fragment"
    }
   },
   "outputs": [
    {
     "name": "stdout",
     "output_type": "stream",
     "text": [
      "dict_values(['Arthur', '867-5309', 'genericEmail42@gmail.com', ['42-503 Lorelana Dr.', 'Honolulu HI', '95746'], 42])\n"
     ]
    }
   ],
   "source": [
    "# There's a similar method that returns a set of values\n",
    "\n",
    "print(contact.values())"
   ]
  },
  {
   "cell_type": "code",
   "execution_count": 18,
   "metadata": {
    "slideshow": {
     "slide_type": "fragment"
    }
   },
   "outputs": [
    {
     "name": "stdout",
     "output_type": "stream",
     "text": [
      "Arthur\n",
      "867-5309\n",
      "genericEmail42@gmail.com\n",
      "['42-503 Lorelana Dr.', 'Honolulu HI', '95746']\n",
      "42\n"
     ]
    }
   ],
   "source": [
    "# You can iterate through this set as well\n",
    "# NOTE: Referencing the values method is required, there is\n",
    "#       no default/shortcut as there was with .keys()\n",
    "\n",
    "for v in contact.values():\n",
    "    print(v)"
   ]
  },
  {
   "cell_type": "code",
   "execution_count": 20,
   "metadata": {
    "slideshow": {
     "slide_type": "slide"
    }
   },
   "outputs": [
    {
     "name": "stdout",
     "output_type": "stream",
     "text": [
      "('name', 'Arthur')\n",
      "('number', '867-5309')\n",
      "('email', 'genericEmail42@gmail.com')\n",
      "('address', ['42-503 Lorelana Dr.', 'Honolulu HI', '95746'])\n",
      "('num', 42)\n",
      "------------------------------------------------------------\n",
      "name:\t Arthur\n",
      "number:\t 867-5309\n",
      "email:\t genericEmail42@gmail.com\n",
      "address:\t ['42-503 Lorelana Dr.', 'Honolulu HI', '95746']\n",
      "num:\t 42\n"
     ]
    }
   ],
   "source": [
    "# What if you want both the keys and values (as pairs)\n",
    "\n",
    "\n",
    "\n",
    "\n",
    "\n",
    "for item in contact.items():\n",
    "    print(item)\n",
    "\n",
    "print('-' * 60)\n",
    "\n",
    "for col, record in contact.items():\n",
    "    print(col + \":\\t\", record)"
   ]
  },
  {
   "cell_type": "code",
   "execution_count": 21,
   "metadata": {},
   "outputs": [
    {
     "name": "stdout",
     "output_type": "stream",
     "text": [
      "('bob', '123 street')\n",
      "('sue', '234 avenue')\n",
      "('alice', '543 blvd')\n",
      "bob lives at the following:  123 street\n",
      "sue lives at the following:  234 avenue\n",
      "alice lives at the following:  543 blvd\n"
     ]
    }
   ],
   "source": [
    "addrs = {'bob': '123 street',\n",
    "         'sue': '234 avenue',\n",
    "         'alice': '543 blvd'}\n",
    "\n",
    "for item in addrs.items():\n",
    "    print(item)\n",
    "    \n",
    "    \n",
    "for name, addr in addrs.items(): \n",
    "    print(name, 'lives at the following: ', addr)"
   ]
  },
  {
   "cell_type": "markdown",
   "metadata": {
    "slideshow": {
     "slide_type": "slide"
    }
   },
   "source": [
    "<h1>XP Grind!</h1>\n",
    "On the **IPython interpreter** do each of the following:\n",
    "\n",
    "Use your previous dict and print out the output of the following methods\n",
    "\n",
    "For each one:\n",
    "\n",
    "* use a for loop to iterate over them AND \n",
    "* simply print them en masse.\n",
    "\n",
    "Methods:\n",
    "\n",
    "* .keys()\n",
    "* .values()\n",
    "* .items()"
   ]
  },
  {
   "cell_type": "code",
   "execution_count": 23,
   "metadata": {},
   "outputs": [
    {
     "name": "stdout",
     "output_type": "stream",
     "text": [
      "dict_keys(['name', 'languages', 'os', 'sport', 'hobby'])\n",
      "dict_values(['dark lord', ['python', 'japanese'], 'android', 'stackoverflow', 'games'])\n",
      "dict_items([('name', 'dark lord'), ('languages', ['python', 'japanese']), ('os', 'android'), ('sport', 'stackoverflow'), ('hobby', 'games')])\n",
      "name\n",
      "languages\n",
      "os\n",
      "sport\n",
      "hobby\n"
     ]
    }
   ],
   "source": [
    "myd = {'name': 'dark lord',\n",
    "       'languages': ['python', 'japanese'],\n",
    "       'os': 'android',\n",
    "       'sport': 'stackoverflow',\n",
    "       'hobby': 'games',\n",
    "       'newkey': ''\n",
    "      }\n",
    "\n",
    "print(myd.keys())\n",
    "print(myd.values())\n",
    "print(myd.items())\n",
    "\n",
    "for item in myd.keys():\n",
    "    print(item)"
   ]
  },
  {
   "cell_type": "code",
   "execution_count": null,
   "metadata": {
    "collapsed": true
   },
   "outputs": [],
   "source": [
    "myd = {'name': 'dark lord',\n",
    "       'languages': ['python', 'japanese'],\n",
    "       'os': 'android',\n",
    "       'sport': 'stackoverflow',\n",
    "       'hobby': 'games',\n",
    "       'newkey': 'blah, blah'}"
   ]
  },
  {
   "cell_type": "markdown",
   "metadata": {},
   "source": [
    "When you complete this exercise, please put your green post-it on your monitor. \n",
    "\n",
    "If you want to continue on at your own-pace, please feel free to do so.\n",
    "\n",
    "<img src='../images/green_sticky.300px.png' width='200' style='float:left'>"
   ]
  },
  {
   "cell_type": "code",
   "execution_count": 24,
   "metadata": {
    "slideshow": {
     "slide_type": "fragment"
    }
   },
   "outputs": [
    {
     "ename": "KeyError",
     "evalue": "'account_status'",
     "output_type": "error",
     "traceback": [
      "\u001b[0;31m---------------------------------------------------------------------------\u001b[0m",
      "\u001b[0;31mKeyError\u001b[0m                                  Traceback (most recent call last)",
      "\u001b[0;32m<ipython-input-24-9f1ece213129>\u001b[0m in \u001b[0;36m<module>\u001b[0;34m()\u001b[0m\n\u001b[1;32m      5\u001b[0m \u001b[0;31m# we have an option...\u001b[0m\u001b[0;34m\u001b[0m\u001b[0;34m\u001b[0m\u001b[0m\n\u001b[1;32m      6\u001b[0m \u001b[0;34m\u001b[0m\u001b[0m\n\u001b[0;32m----> 7\u001b[0;31m \u001b[0mcontact\u001b[0m\u001b[0;34m[\u001b[0m\u001b[0;34m'account_status'\u001b[0m\u001b[0;34m]\u001b[0m\u001b[0;34m\u001b[0m\u001b[0m\n\u001b[0m",
      "\u001b[0;31mKeyError\u001b[0m: 'account_status'"
     ]
    }
   ],
   "source": [
    "# If we want to get value but we're not sure if\n",
    "# that key/value pair exists BUT...\n",
    "# we don't want to crash\n",
    "\n",
    "# we have an option...\n",
    "\n",
    "contact['account_status']"
   ]
  },
  {
   "cell_type": "code",
   "execution_count": 27,
   "metadata": {},
   "outputs": [
    {
     "ename": "SyntaxError",
     "evalue": "invalid syntax (<ipython-input-27-21735a5a2d91>, line 1)",
     "output_type": "error",
     "traceback": [
      "\u001b[0;36m  File \u001b[0;32m\"<ipython-input-27-21735a5a2d91>\"\u001b[0;36m, line \u001b[0;32m1\u001b[0m\n\u001b[0;31m    contact.\u001b[0m\n\u001b[0m            ^\u001b[0m\n\u001b[0;31mSyntaxError\u001b[0m\u001b[0;31m:\u001b[0m invalid syntax\n"
     ]
    }
   ],
   "source": [
    "contact."
   ]
  },
  {
   "cell_type": "code",
   "execution_count": 30,
   "metadata": {
    "slideshow": {
     "slide_type": "fragment"
    }
   },
   "outputs": [
    {
     "data": {
      "text/plain": [
       "'Joanne did not include this'"
      ]
     },
     "execution_count": 30,
     "metadata": {},
     "output_type": "execute_result"
    }
   ],
   "source": [
    "# .get() allows you to _get_ a default value back... \n",
    "# WARNING: .get() does NOT alter OR update the dictionary.\n",
    "\n",
    "contact.get('account_status', 'Joanne did not include this')"
   ]
  },
  {
   "cell_type": "code",
   "execution_count": 31,
   "metadata": {
    "slideshow": {
     "slide_type": "fragment"
    }
   },
   "outputs": [
    {
     "data": {
      "text/plain": [
       "{'address': ['42-503 Lorelana Dr.', 'Honolulu HI', '95746'],\n",
       " 'email': 'genericEmail42@gmail.com',\n",
       " 'name': 'Arthur',\n",
       " 'num': 42,\n",
       " 'number': '867-5309'}"
      ]
     },
     "execution_count": 31,
     "metadata": {},
     "output_type": "execute_result"
    }
   ],
   "source": [
    "# Notice how the dictionary stays the same\n",
    "# 'account_status' has NOT been added\n",
    "\n",
    "contact"
   ]
  },
  {
   "cell_type": "code",
   "execution_count": 32,
   "metadata": {
    "slideshow": {
     "slide_type": "slide"
    }
   },
   "outputs": [
    {
     "data": {
      "text/plain": [
       "{'address': ['42-503 Lorelana Dr.', 'Honolulu HI', '95746'],\n",
       " 'class_test': 'No account',\n",
       " 'email': 'genericEmail42@gmail.com',\n",
       " 'name': 'Arthur',\n",
       " 'num': 42,\n",
       " 'number': '867-5309'}"
      ]
     },
     "execution_count": 32,
     "metadata": {},
     "output_type": "execute_result"
    }
   ],
   "source": [
    "# .setdefault() on the other hand, allows you to _set_ a dictionary value\n",
    "# based on a default if the value does not already exist.\n",
    "\n",
    "contact.setdefault('class_test', 'No account')\n",
    "\n",
    "contact"
   ]
  },
  {
   "cell_type": "code",
   "execution_count": 33,
   "metadata": {
    "slideshow": {
     "slide_type": "fragment"
    }
   },
   "outputs": [
    {
     "data": {
      "text/plain": [
       "'867-5309'"
      ]
     },
     "execution_count": 33,
     "metadata": {},
     "output_type": "execute_result"
    }
   ],
   "source": [
    "# if the value exists already, the .setdefault() method simply reads the \n",
    "# existing value.\n",
    "\n",
    "contact.setdefault('number', 'Name not given')"
   ]
  },
  {
   "cell_type": "code",
   "execution_count": 34,
   "metadata": {
    "slideshow": {
     "slide_type": "slide"
    }
   },
   "outputs": [
    {
     "data": {
      "text/plain": [
       "{'address': ['42-503 Lorelana Dr.', 'Honolulu HI', '95746'],\n",
       " 'class_test': 'No account',\n",
       " 'email': 'genericEmail42@gmail.com',\n",
       " 'name': 'Arthur',\n",
       " 'num': 42,\n",
       " 'number': '867-5309'}"
      ]
     },
     "execution_count": 34,
     "metadata": {},
     "output_type": "execute_result"
    }
   ],
   "source": [
    "# notice that contact now has a value for the 'account_status' key.\n",
    "\n",
    "contact"
   ]
  },
  {
   "cell_type": "markdown",
   "metadata": {},
   "source": [
    "# Counting objects using dictionaries"
   ]
  },
  {
   "cell_type": "code",
   "execution_count": 37,
   "metadata": {},
   "outputs": [
    {
     "name": "stdout",
     "output_type": "stream",
     "text": [
      "['t', 'h', 'i', 's', ' ', 'i', 's', ' ', 'g', 'o', 'i', 'n', 'g', ' ', 't', 'o', ' ', 'b', 'e', ' ', 'a', ' ', 'l', 'i', 's', 't', ' ', 'f', 'o', 'r', ' ', 'u', 's', ' ', 't', 'o', ' ', 'c', 'o', 'u', 'n', 't', ' ', 'w', 'h', 'i', 'c', 'h', ' ', 'l', 'e', 't', 't', 'e', 'r', ' ', 'o', 'c', 'c', 'u', 'r', 's', ' ', 'm', 'o', 's', 't', ' ', 'o', 'f', 't', 'e', 'n']\n"
     ]
    },
    {
     "data": {
      "text/plain": [
       "{' ': 15,\n",
       " 'a': 1,\n",
       " 'b': 1,\n",
       " 'c': 4,\n",
       " 'e': 4,\n",
       " 'f': 2,\n",
       " 'g': 2,\n",
       " 'h': 3,\n",
       " 'i': 5,\n",
       " 'l': 2,\n",
       " 'm': 1,\n",
       " 'n': 3,\n",
       " 'o': 8,\n",
       " 'r': 3,\n",
       " 's': 6,\n",
       " 't': 9,\n",
       " 'u': 3,\n",
       " 'w': 1}"
      ]
     },
     "execution_count": 37,
     "metadata": {},
     "output_type": "execute_result"
    }
   ],
   "source": [
    "# Say we get in a list of items and we want to see which letters have the highest count\n",
    "\n",
    "mList = list('this is going to be a list for us to count which letter occurs most often')\n",
    "print(mList)\n",
    "count = {} # We create our counting dict\n",
    "\n",
    "for char in mList:\n",
    "    if char in count:   # We check to see if we've already made a key for this item\n",
    "        count[char] += 1       # Then we add one to the tally\n",
    "    else:                      # If it hasn't shown up then we create a key for that item and set its value to 1\n",
    "        count[char] = 1\n",
    "\n",
    "count"
   ]
  },
  {
   "cell_type": "code",
   "execution_count": 35,
   "metadata": {},
   "outputs": [
    {
     "data": {
      "text/plain": [
       "['h', 'e', 'l', 'l', 'o']"
      ]
     },
     "execution_count": 35,
     "metadata": {},
     "output_type": "execute_result"
    }
   ],
   "source": [
    "list('hello')"
   ]
  },
  {
   "cell_type": "code",
   "execution_count": 38,
   "metadata": {},
   "outputs": [
    {
     "data": {
      "text/plain": [
       "{' ': 15,\n",
       " 'a': 1,\n",
       " 'b': 1,\n",
       " 'c': 4,\n",
       " 'e': 4,\n",
       " 'f': 2,\n",
       " 'g': 2,\n",
       " 'h': 3,\n",
       " 'i': 5,\n",
       " 'l': 2,\n",
       " 'm': 1,\n",
       " 'n': 3,\n",
       " 'o': 8,\n",
       " 'r': 3,\n",
       " 's': 6,\n",
       " 't': 9,\n",
       " 'u': 3,\n",
       " 'w': 1}"
      ]
     },
     "execution_count": 38,
     "metadata": {},
     "output_type": "execute_result"
    }
   ],
   "source": [
    "# This method is a lot simpler\n",
    "\n",
    "mList = list('this is going to be a list for us to count which letter occurs most often')\n",
    "\n",
    "count = {}\n",
    "\n",
    "for char in mList:\n",
    "    count[char] = count.get(char, 0) + 1    # Using the get method we don't need to have a value there\n",
    "                                            # already because if it isn't there it evaluates to 0\n",
    "                                            # by default\n",
    "count            "
   ]
  },
  {
   "cell_type": "markdown",
   "metadata": {
    "slideshow": {
     "slide_type": "slide"
    }
   },
   "source": [
    "# XP Grind!\n",
    "\n",
    "In your **text editor** create a simple script called:\n",
    "\n",
    "`my_dicts_01.py`\n",
    "\n",
    "Execute your script in the **IPython interpreter** using the command:\n",
    "\n",
    "`run my_dicts_01.py`\n",
    "\n",
    "* Create a dictionary called: `user`\n",
    "* Have a for loop iterate through a list of the following strings: `['Name', 'Phone', 'City', 'State']`\n",
    "* In each iteration:\n",
    "    * use the current item from the list as a key in the dictionary `user`\n",
    "    * get `input()` from the user and store that as the value for the key\n",
    "* Print out `user`"
   ]
  },
  {
   "cell_type": "markdown",
   "metadata": {},
   "source": [
    "When you complete this exercise, please put your green post-it on your monitor. \n",
    "\n",
    "If you want to continue on at your own-pace, please feel free to do so.\n",
    "\n",
    "<img src='../images/green_sticky.300px.png' width='200' style='float:left'>"
   ]
  },
  {
   "cell_type": "code",
   "execution_count": 39,
   "metadata": {
    "slideshow": {
     "slide_type": "slide"
    }
   },
   "outputs": [
    {
     "name": "stdout",
     "output_type": "stream",
     "text": [
      "Name\n",
      "What is your current Name: djfsdf\n",
      "{'Name': 'djfsdf'}\n",
      "Phone\n",
      "What is your current Phone: fdfd\n",
      "{'Name': 'djfsdf', 'Phone': 'fdfd'}\n",
      "City\n",
      "What is your current City: dsfsdf\n",
      "{'Name': 'djfsdf', 'Phone': 'fdfd', 'City': 'dsfsdf'}\n",
      "State\n",
      "What is your current State: fsdfsdfd\n",
      "{'Name': 'djfsdf', 'Phone': 'fdfd', 'City': 'dsfsdf', 'State': 'fsdfsdfd'}\n"
     ]
    }
   ],
   "source": [
    "user = {}\n",
    "\n",
    "for item in ['Name', 'Phone', 'City', 'State']:\n",
    "    print(item)\n",
    "    user[item] = input('What is your current ' + item + ': ')\n",
    "    print(user)\n",
    "    \n",
    "# user"
   ]
  },
  {
   "cell_type": "markdown",
   "metadata": {
    "slideshow": {
     "slide_type": "slide"
    }
   },
   "source": [
    "# Pretty Printing\n",
    "\n",
    "There's a special module used to help disply large amounts of data that can sometimes be difficult to read"
   ]
  },
  {
   "cell_type": "code",
   "execution_count": 41,
   "metadata": {
    "slideshow": {
     "slide_type": "slide"
    }
   },
   "outputs": [
    {
     "name": "stdout",
     "output_type": "stream",
     "text": [
      "{'address': ['42-503 Lorelana Dr.', 'Honolulu HI', '95746'],\n",
      " 'class_test': 'No account',\n",
      " 'email': 'genericEmail42@gmail.com',\n",
      " 'friends': ['bob', 'fred', 'sue', 'alex', 'john', 'tim', 'todd'],\n",
      " 'name': 'Arthur',\n",
      " 'num': [1, 2, 2, 3, 3, 3, 3, 3, 3, 3, 3, 3, 3, 3, 3, 3, 3, 3, 3, 3],\n",
      " 'number': '867-5309'}\n",
      "{'name': 'Arthur', 'number': '867-5309', 'email': 'genericEmail42@gmail.com', 'address': ['42-503 Lorelana Dr.', 'Honolulu HI', '95746'], 'num': [1, 2, 2, 3, 3, 3, 3, 3, 3, 3, 3, 3, 3, 3, 3, 3, 3, 3, 3, 3], 'class_test': 'No account', 'friends': ['bob', 'fred', 'sue', 'alex', 'john', 'tim', 'todd']}\n"
     ]
    }
   ],
   "source": [
    "# When we run this it's going to take every item pair and put it on it's own\n",
    "# line making it much easier to digest\n",
    "\n",
    "contact['num'] = [1, 2,2,3,3,3,3,3,3,3,3,3,3,3,3,3,3,3,3,3]\n",
    "contact['friends'] = 'bob fred sue alex john tim todd'.split()\n",
    "\n",
    "\n",
    "\n",
    "import pprint\n",
    "pprint.pprint(contact)\n",
    "\n",
    "\n",
    "print(contact)"
   ]
  },
  {
   "cell_type": "code",
   "execution_count": 42,
   "metadata": {},
   "outputs": [
    {
     "data": {
      "text/plain": [
       "{'address': ['42-503 Lorelana Dr.', 'Honolulu HI', '95746'],\n",
       " 'class_test': 'No account',\n",
       " 'email': 'genericEmail42@gmail.com',\n",
       " 'friends': ['bob', 'fred', 'sue', 'alex', 'john', 'tim', 'todd'],\n",
       " 'name': 'Arthur',\n",
       " 'num': [1, 2, 2, 3, 3, 3, 3, 3, 3, 3, 3, 3, 3, 3, 3, 3, 3, 3, 3, 3],\n",
       " 'number': '867-5309'}"
      ]
     },
     "execution_count": 42,
     "metadata": {},
     "output_type": "execute_result"
    }
   ],
   "source": [
    "contact\n"
   ]
  },
  {
   "cell_type": "code",
   "execution_count": 43,
   "metadata": {
    "slideshow": {
     "slide_type": "subslide"
    }
   },
   "outputs": [
    {
     "name": "stdout",
     "output_type": "stream",
     "text": [
      "{'address': ['42-503 Lorelana Dr.', 'Honolulu HI', '95746'],\n",
      " 'class_test': 'No account',\n",
      " 'email': 'genericEmail42@gmail.com',\n",
      " 'friends': ['bob', 'fred', 'sue', 'alex', 'john', 'tim', 'todd'],\n",
      " 'name': 'Arthur',\n",
      " 'num': [1, 2, 2, 3, 3, 3, 3, 3, 3, 3, 3, 3, 3, 3, 3, 3, 3, 3, 3, 3],\n",
      " 'number': '867-5309'}\n"
     ]
    }
   ],
   "source": [
    "# .pformat() allows you to capture the pprint() formatting for later use.\n",
    "\n",
    "text = pprint.pformat(contact)\n",
    "\n",
    "print(text)"
   ]
  },
  {
   "cell_type": "code",
   "execution_count": 45,
   "metadata": {},
   "outputs": [
    {
     "name": "stdout",
     "output_type": "stream",
     "text": [
      "Counter({12: 4, 13: 1})\n"
     ]
    }
   ],
   "source": [
    "from collections import Counter\n",
    "c = Counter(mList)\n",
    "c\n",
    "\n",
    "\n",
    "num = [12, 12, 12, 12, 13]\n",
    "\n",
    "n = Counter(num)\n",
    "print(n)"
   ]
  },
  {
   "cell_type": "code",
   "execution_count": 55,
   "metadata": {},
   "outputs": [
    {
     "data": {
      "text/plain": [
       "'********************42-503 Lorelana Dr.*********************'"
      ]
     },
     "execution_count": 55,
     "metadata": {},
     "output_type": "execute_result"
    }
   ],
   "source": []
  },
  {
   "cell_type": "code",
   "execution_count": null,
   "metadata": {
    "collapsed": true
   },
   "outputs": [],
   "source": []
  }
 ],
 "metadata": {
  "anaconda-cloud": {},
  "celltoolbar": "Slideshow",
  "kernelspec": {
   "display_name": "Python 3",
   "language": "python",
   "name": "python3"
  },
  "language_info": {
   "codemirror_mode": {
    "name": "ipython",
    "version": 3
   },
   "file_extension": ".py",
   "mimetype": "text/x-python",
   "name": "python",
   "nbconvert_exporter": "python",
   "pygments_lexer": "ipython3",
   "version": "3.6.1"
  }
 },
 "nbformat": 4,
 "nbformat_minor": 1
}
