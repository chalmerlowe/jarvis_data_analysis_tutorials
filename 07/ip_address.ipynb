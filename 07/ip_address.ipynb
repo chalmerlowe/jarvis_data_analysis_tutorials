{
 "cells": [
  {
   "cell_type": "markdown",
   "metadata": {},
   "source": [
    "<h1>Welcome to the Dark Art of Coding:</h1>\n",
    "<h2>Introduction to Python</h2>\n",
    "Session 07\n",
    "\n",
    "IP Adresses\n",
    "\n",
    "<img src='../images/logos.3.600.wide.png' height='250' width='300' style=\"float:right\">"
   ]
  },
  {
   "cell_type": "markdown",
   "metadata": {},
   "source": [
    "<h1>Agenda</h1>\n",
    "\n",
    "<strong>Review and Questions?</strong>\n",
    "\n",
    "<strong>Objectives:</strong>\n",
    "\n",
    "* IP addresses, a primer\n",
    "* IP addresses the hard way\n",
    "* IP addresses using the ipaddress module\n",
    "\n",
    "<strong>In-class Practice</strong>"
   ]
  },
  {
   "cell_type": "markdown",
   "metadata": {},
   "source": [
    "<h1>Review and Questions?</h1>\n",
    "\n",
    "* Questions?\n",
    "* Name two ways to identify a specific cell in openpyxl\n",
    "* What are some characteristics you can set in or related to a cell? "
   ]
  },
  {
   "cell_type": "markdown",
   "metadata": {},
   "source": [
    "# IP and Network Addresses\n",
    "\n",
    "Let's start with a simple slash `/24` network:\n",
    "\n",
    "`192.168.1.0/24`\n",
    "\n",
    "Four octets separated by periods\n",
    "\n",
    "Each octet represents 8 bits (1 or 0) for a total of 32 bits\n",
    "\n",
    "`192     .168     .1       .119`\n",
    "\n",
    "`11000000.10101000.00000001.01110111`"
   ]
  },
  {
   "cell_type": "markdown",
   "metadata": {},
   "source": [
    "The 'slash 24' is subnetting notation for how many of those 32 bits are used to identify the **network**\n",
    "\n",
    "`11000000.10101000.00000001| <-- Network bits (24 bits)`\n",
    "\n",
    "`Host bits --------------> |01110111          (8 bits)`"
   ]
  },
  {
   "cell_type": "markdown",
   "metadata": {},
   "source": [
    "Knowing how many bits are assigned to the host we can find out how many hosts can be assigned to the network\n",
    "\n",
    "```\n",
    "2^8 bits = 256 addresses\n",
    "\n",
    "2^8 - 2  = 254 hosts\n",
    "```\n",
    "\n",
    "The difference is two addresses and that's because the **first** address is normally used for the network ID and the **last** is used as a broadcast address\n",
    "\n",
    "```\n",
    "192.168.1.0    (Network ID)\n",
    "\n",
    "     |\n",
    "\n",
    "Host addresses (254 addresses)\n",
    "\n",
    "     |\n",
    "\n",
    "192.168.1.255  (Broadcast ID)\n",
    "```"
   ]
  },
  {
   "cell_type": "markdown",
   "metadata": {},
   "source": [
    "If you need to manually process an IP address you can turn an IP address into an integer with a special formula\n",
    "\n",
    "Consider each octet of the IP as A.B.C.D:\n",
    "\n",
    "```\n",
    "A*2^24 + B*2^16 + C*2^8 + D*2^0\n",
    "```\n",
    "\n",
    "For example:\n",
    "\n",
    "```\n",
    "192         .168       .1      .119\n",
    "\n",
    "192*2^24   + 168*2^16 + 1*2^8 + 119*2^0\n",
    "\n",
    "3221225472 + 11010048 + 256   + 119\n",
    "\n",
    "3232235895\n",
    "```\n",
    "\n",
    "Integer conversion, enables us to determine whether one IP is within a range (or network) of other IPs.\n",
    "\n",
    "```\n",
    "192.168.1.0    >>  3232235776\n",
    "\n",
    "192.168.1.119  >>  3232235895\n",
    "\n",
    "192.168.1.255  >>  3232236031\n",
    "```"
   ]
  },
  {
   "cell_type": "markdown",
   "metadata": {},
   "source": [
    "# IP Addresses the hard way"
   ]
  },
  {
   "cell_type": "code",
   "execution_count": 1,
   "metadata": {},
   "outputs": [
    {
     "name": "stdout",
     "output_type": "stream",
     "text": [
      "['192', '168', '1', '0']\n"
     ]
    }
   ],
   "source": [
    "# Say we get a file with a bunch of IP addresses stored as text\n",
    "# We still need to do some crunching so we can do some of that fancy math from above\n",
    "# First we want to make a lower range for a network we want to test against\n",
    "\n",
    "int_addr = '192.168.1.0'\n",
    "octets = int_addr.split('.')\n",
    "\n",
    "print(octets)"
   ]
  },
  {
   "cell_type": "code",
   "execution_count": 2,
   "metadata": {},
   "outputs": [
    {
     "name": "stdout",
     "output_type": "stream",
     "text": [
      "[192, 168, 1, 0]\n"
     ]
    }
   ],
   "source": [
    "# We can turn our list of strings into a list of integers\n",
    "\n",
    "low_ip = []\n",
    "\n",
    "for x in octets:\n",
    "    low_ip.append(int(x))\n",
    "\n",
    "print(low_ip)"
   ]
  },
  {
   "cell_type": "code",
   "execution_count": 3,
   "metadata": {},
   "outputs": [
    {
     "name": "stdout",
     "output_type": "stream",
     "text": [
      "[192, 168, 1, 0]\n"
     ]
    }
   ],
   "source": [
    "# We can use a list comprehension to turn our list of strings into a list of integers\n",
    "\n",
    "low_ip2 = [int(x) for x in octets]     # A list comprehension\n",
    "\n",
    "print(low_ip2)"
   ]
  },
  {
   "cell_type": "code",
   "execution_count": 4,
   "metadata": {},
   "outputs": [
    {
     "name": "stdout",
     "output_type": "stream",
     "text": [
      "3232235776\n"
     ]
    }
   ],
   "source": [
    "# Now we can use our formula to get our unique IP Address number\n",
    "\n",
    "# NOTE: in Python, content within parentheses can be written out \n",
    "#       across multiple lines... let's multiple each item in the\n",
    "#       low_ip by the associated power of two.\n",
    "\n",
    "low_ip_value = (low_ip[0]*2**24 +\n",
    "                low_ip[1]*2**16 +\n",
    "                low_ip[2]*2**8 +\n",
    "                low_ip[3]*2**0)\n",
    "\n",
    "print(low_ip_value)\n",
    "\n",
    "# 3232235776"
   ]
  },
  {
   "cell_type": "code",
   "execution_count": 5,
   "metadata": {},
   "outputs": [
    {
     "name": "stdout",
     "output_type": "stream",
     "text": [
      "3232236031\n"
     ]
    }
   ],
   "source": [
    "# We can do the same thing to get the upper range of a network\n",
    "\n",
    "int_addr = '192.168.1.255'\n",
    "int_addr = int_addr.split('.')\n",
    "high_ip = [int(x) for x in int_addr]\n",
    "high_ip_value = (high_ip[0]*2**24 +\n",
    "                 high_ip[1]*2**16 +\n",
    "                 high_ip[2]*2**8 +\n",
    "                 high_ip[3]*2**0)\n",
    "\n",
    "print(high_ip_value)"
   ]
  },
  {
   "cell_type": "code",
   "execution_count": 6,
   "metadata": {},
   "outputs": [
    {
     "data": {
      "text/plain": [
       "255"
      ]
     },
     "execution_count": 6,
     "metadata": {},
     "output_type": "execute_result"
    }
   ],
   "source": [
    "3232236031 - 3232235776 "
   ]
  },
  {
   "cell_type": "code",
   "execution_count": 7,
   "metadata": {
    "collapsed": true
   },
   "outputs": [],
   "source": [
    "# And now we can get a generic IP and test to see if it is in that network\n",
    "\n",
    "int_addr = '192.168.1.10'\n",
    "\n",
    "int_addr = int_addr.split('.')\n",
    "\n",
    "addr = [int(x) for x in int_addr]\n",
    "\n",
    "addr_value = (addr[0]*2**24 +\n",
    "              addr[1]*2**16 +\n",
    "              addr[2]*2**8 +\n",
    "              addr[3]*2**0)"
   ]
  },
  {
   "cell_type": "code",
   "execution_count": 8,
   "metadata": {},
   "outputs": [
    {
     "name": "stdout",
     "output_type": "stream",
     "text": [
      "Yes, the address is in our network\n"
     ]
    }
   ],
   "source": [
    "# And then we test if it's in the range of the network using the two IP values we made earlier\n",
    "\n",
    "if addr_value in range(low_ip_value, high_ip_value + 1):\n",
    "    print('Yes, the address is in our network')"
   ]
  },
  {
   "cell_type": "code",
   "execution_count": 9,
   "metadata": {},
   "outputs": [
    {
     "name": "stdout",
     "output_type": "stream",
     "text": [
      "The address is in the list of addresses\n"
     ]
    }
   ],
   "source": [
    "# There are other ways to test this...\n",
    "# using greater than/less than\n",
    "\n",
    "if low_ip_value <= addr_value <= high_ip_value:\n",
    "    print('The address is in the list of addresses')"
   ]
  },
  {
   "cell_type": "code",
   "execution_count": 10,
   "metadata": {},
   "outputs": [
    {
     "name": "stdout",
     "output_type": "stream",
     "text": [
      "The address is in the list of hosts\n"
     ]
    }
   ],
   "source": [
    "# There are other ways to test this...\n",
    "# but it gets complicated when you want start differentiating\n",
    "# between addresses and hosts, etc.\n",
    "\n",
    "if low_ip_value < addr_value < high_ip_value:\n",
    "    print('The address is in the list of hosts')\n",
    "    \n",
    "# There is a better way.    "
   ]
  },
  {
   "cell_type": "markdown",
   "metadata": {},
   "source": [
    "# IP Addresses using the ipaddress module"
   ]
  },
  {
   "cell_type": "code",
   "execution_count": 12,
   "metadata": {
    "collapsed": true
   },
   "outputs": [],
   "source": [
    "# We start by importing\n",
    "\n",
    "import ipaddress as ip"
   ]
  },
  {
   "cell_type": "code",
   "execution_count": 13,
   "metadata": {
    "collapsed": true
   },
   "outputs": [],
   "source": [
    "# To make an IP Address we simply use this function\n",
    "\n",
    "address = ip.ip_address('192.168.1.10')"
   ]
  },
  {
   "cell_type": "code",
   "execution_count": 14,
   "metadata": {},
   "outputs": [
    {
     "data": {
      "text/plain": [
       "IPv4Address('192.168.1.10')"
      ]
     },
     "execution_count": 14,
     "metadata": {},
     "output_type": "execute_result"
    }
   ],
   "source": [
    "# If we ask IPython to show us the object we get this output...\n",
    "\n",
    "# NOTE: the ipaddress module is aware of IPv4 and IPv6 style addressing\n",
    "\n",
    "address"
   ]
  },
  {
   "cell_type": "code",
   "execution_count": 15,
   "metadata": {},
   "outputs": [
    {
     "data": {
      "text/plain": [
       "3232235786"
      ]
     },
     "execution_count": 15,
     "metadata": {},
     "output_type": "execute_result"
    }
   ],
   "source": [
    "# NOTE: In the background python stores the IP address as an integer under the\n",
    "# _ip attribute\n",
    "\n",
    "address._ip"
   ]
  },
  {
   "cell_type": "code",
   "execution_count": 16,
   "metadata": {},
   "outputs": [
    {
     "data": {
      "text/plain": [
       "4"
      ]
     },
     "execution_count": 16,
     "metadata": {},
     "output_type": "execute_result"
    }
   ],
   "source": [
    "# The IP address version is also stored as an attribute\n",
    "\n",
    "address.version"
   ]
  },
  {
   "cell_type": "code",
   "execution_count": 17,
   "metadata": {},
   "outputs": [
    {
     "data": {
      "text/plain": [
       "IPv4Network('192.168.1.0/24')"
      ]
     },
     "execution_count": 17,
     "metadata": {},
     "output_type": "execute_result"
    }
   ],
   "source": [
    "# To create an IP network we can use a similar function:\n",
    "# In displaying the result, we see that it is noted as an IPv4\n",
    "\n",
    "netw = ip.ip_network('192.168.1.0/24')\n",
    "netw"
   ]
  },
  {
   "cell_type": "code",
   "execution_count": 18,
   "metadata": {},
   "outputs": [
    {
     "ename": "ValueError",
     "evalue": "192.168.1.65/24 has host bits set",
     "output_type": "error",
     "traceback": [
      "\u001b[0;31m---------------------------------------------------------------------------\u001b[0m",
      "\u001b[0;31mValueError\u001b[0m                                Traceback (most recent call last)",
      "\u001b[0;32m<ipython-input-18-9d60d43c0963>\u001b[0m in \u001b[0;36m<module>\u001b[0;34m()\u001b[0m\n\u001b[1;32m      5\u001b[0m \u001b[0;31m# (i.e. because we have host bits set) then the function will error.\u001b[0m\u001b[0;34m\u001b[0m\u001b[0;34m\u001b[0m\u001b[0m\n\u001b[1;32m      6\u001b[0m \u001b[0;34m\u001b[0m\u001b[0m\n\u001b[0;32m----> 7\u001b[0;31m \u001b[0mnetwFail\u001b[0m \u001b[0;34m=\u001b[0m \u001b[0mip\u001b[0m\u001b[0;34m.\u001b[0m\u001b[0mip_network\u001b[0m\u001b[0;34m(\u001b[0m\u001b[0;34m'192.168.1.65/24'\u001b[0m\u001b[0;34m)\u001b[0m\u001b[0;34m\u001b[0m\u001b[0m\n\u001b[0m",
      "\u001b[0;32m/Users/chalmerlowe/miniconda3/envs/bokeh_tut/lib/python3.5/ipaddress.py\u001b[0m in \u001b[0;36mip_network\u001b[0;34m(address, strict)\u001b[0m\n\u001b[1;32m     72\u001b[0m     \"\"\"\n\u001b[1;32m     73\u001b[0m     \u001b[0;32mtry\u001b[0m\u001b[0;34m:\u001b[0m\u001b[0;34m\u001b[0m\u001b[0m\n\u001b[0;32m---> 74\u001b[0;31m         \u001b[0;32mreturn\u001b[0m \u001b[0mIPv4Network\u001b[0m\u001b[0;34m(\u001b[0m\u001b[0maddress\u001b[0m\u001b[0;34m,\u001b[0m \u001b[0mstrict\u001b[0m\u001b[0;34m)\u001b[0m\u001b[0;34m\u001b[0m\u001b[0m\n\u001b[0m\u001b[1;32m     75\u001b[0m     \u001b[0;32mexcept\u001b[0m \u001b[0;34m(\u001b[0m\u001b[0mAddressValueError\u001b[0m\u001b[0;34m,\u001b[0m \u001b[0mNetmaskValueError\u001b[0m\u001b[0;34m)\u001b[0m\u001b[0;34m:\u001b[0m\u001b[0;34m\u001b[0m\u001b[0m\n\u001b[1;32m     76\u001b[0m         \u001b[0;32mpass\u001b[0m\u001b[0;34m\u001b[0m\u001b[0m\n",
      "\u001b[0;32m/Users/chalmerlowe/miniconda3/envs/bokeh_tut/lib/python3.5/ipaddress.py\u001b[0m in \u001b[0;36m__init__\u001b[0;34m(self, address, strict)\u001b[0m\n\u001b[1;32m   1534\u001b[0m             if (IPv4Address(int(self.network_address) & int(self.netmask)) !=\n\u001b[1;32m   1535\u001b[0m                 self.network_address):\n\u001b[0;32m-> 1536\u001b[0;31m                 \u001b[0;32mraise\u001b[0m \u001b[0mValueError\u001b[0m\u001b[0;34m(\u001b[0m\u001b[0;34m'%s has host bits set'\u001b[0m \u001b[0;34m%\u001b[0m \u001b[0mself\u001b[0m\u001b[0;34m)\u001b[0m\u001b[0;34m\u001b[0m\u001b[0m\n\u001b[0m\u001b[1;32m   1537\u001b[0m         self.network_address = IPv4Address(int(self.network_address) &\n\u001b[1;32m   1538\u001b[0m                                            int(self.netmask))\n",
      "\u001b[0;31mValueError\u001b[0m: 192.168.1.65/24 has host bits set"
     ]
    }
   ],
   "source": [
    "# NOTE: In the last case we used the lowest possible address for the network\n",
    "# (i.e. the network address)\n",
    "# \n",
    "# If we try it again but use an IP that isn't a network address\n",
    "# (i.e. because we have host bits set) then the function will error.\n",
    "\n",
    "netwFail = ip.ip_network('192.168.1.65/24')"
   ]
  },
  {
   "cell_type": "code",
   "execution_count": 19,
   "metadata": {},
   "outputs": [
    {
     "name": "stdout",
     "output_type": "stream",
     "text": [
      "192.168.1.0/24\n",
      "211.0.42.128/30\n",
      "211.0.42.132/30\n"
     ]
    }
   ],
   "source": [
    "# However we can have Python attempt to identify the lowest IP when making a network\n",
    "# by setting the strict keyword argument to False\n",
    "\n",
    "netw_doesnt_fail = ip.ip_network('192.168.1.54/24', strict=False)\n",
    "print(netw_doesnt_fail)\n",
    "\n",
    "another = ip.ip_network('211.0.42.129/30', strict=False)\n",
    "print(another)\n",
    "\n",
    "third = ip.ip_network('211.0.42.133/30', strict=False)\n",
    "print(third)\n",
    "\n"
   ]
  },
  {
   "cell_type": "code",
   "execution_count": 20,
   "metadata": {},
   "outputs": [
    {
     "name": "stdout",
     "output_type": "stream",
     "text": [
      "192.0.2.0/24\n",
      "192.0.2.1\n"
     ]
    }
   ],
   "source": [
    "# This module also allows you to create objects that incorporate aspects of both\n",
    "# the IP address and the Network it is a part of.\n",
    "# These are called interface objects.\n",
    "\n",
    "interface = ip.ip_interface('192.0.2.1/24')\n",
    "print(interface.network, interface.ip, sep='\\n')\n"
   ]
  },
  {
   "cell_type": "code",
   "execution_count": 21,
   "metadata": {},
   "outputs": [
    {
     "name": "stdout",
     "output_type": "stream",
     "text": [
      "2001:db8::1\n",
      "2001:db8::/96\n",
      "2001:db8::1/96\n"
     ]
    }
   ],
   "source": [
    "# So far we've done IPv4 Addresses but we can just as easily do IPv6\n",
    "\n",
    "addr_6 = ip.ip_address('2001:db8::1')\n",
    "netw_6 = ip.ip_network('2001:db8::/96')\n",
    "inf_6 = ip.ip_interface('2001:db8::1/96')\n",
    "\n",
    "print(addr_6, netw_6, inf_6, sep='\\n')"
   ]
  },
  {
   "cell_type": "code",
   "execution_count": 22,
   "metadata": {},
   "outputs": [
    {
     "name": "stdout",
     "output_type": "stream",
     "text": [
      "0.0.0.1\n",
      "0.0.0.5\n",
      "7.91.205.21\n"
     ]
    }
   ],
   "source": [
    "# We saw we can interpret IPs via integers\n",
    "# So what happens when there's an ambiguity?\n",
    "\n",
    "amb_1 = ip.ip_address(1)\n",
    "amb_2 = ip.ip_address(5)\n",
    "amb_3 = ip.ip_address(123456789)\n",
    "\n",
    "print(amb_1, amb_2, amb_3, sep='\\n')"
   ]
  },
  {
   "cell_type": "code",
   "execution_count": 23,
   "metadata": {},
   "outputs": [
    {
     "name": "stdout",
     "output_type": "stream",
     "text": [
      "::1\n",
      "::75b:cd15\n",
      "::66:1efd:f2e3:b19f:7c04:5f15\n",
      "192.168.1.10\n",
      "::75b:cd15\n"
     ]
    }
   ],
   "source": [
    "# But, what if we want specifically IPv4 or IPv6? There are specific functions we can\n",
    "# call that force an input to be one of those two\n",
    "\n",
    "ambv6_1 = ip.IPv6Address(1)\n",
    "ambv6_2 = ip.IPv6Address(123456789)\n",
    "ambv6_3 = ip.IPv6Address(123456789123456789123456789)\n",
    "\n",
    "ambv4_1 = ip.IPv4Address('192.168.1.10')\n",
    "\n",
    "ambv6_4 = ip.IPv6Address('::75b:cd15')\n",
    "\n",
    "print(ambv6_1, ambv6_2, ambv6_3, ambv4_1, ambv6_4, sep='\\n')"
   ]
  },
  {
   "cell_type": "code",
   "execution_count": 31,
   "metadata": {},
   "outputs": [
    {
     "name": "stdout",
     "output_type": "stream",
     "text": [
      "It's in there\n"
     ]
    }
   ],
   "source": [
    "# So now that we have addresses, networks, and interfaces we can do some pretty cool things with them\n",
    "# Like test for inclusion\n",
    "\n",
    "address = ip.ip_address('192.168.1.10')\n",
    "network = ip.ip_network('192.168.1.0/24')\n",
    "if address in network:\n",
    "    print('It\\'s in there') \n",
    "else:\n",
    "    print(\"not in there\")\n",
    "    # Notice the escape character"
   ]
  },
  {
   "cell_type": "code",
   "execution_count": 32,
   "metadata": {},
   "outputs": [
    {
     "data": {
      "text/plain": [
       "True"
      ]
     },
     "execution_count": 32,
     "metadata": {},
     "output_type": "execute_result"
    }
   ],
   "source": [
    "# Test for attributes like whether it is a private IP\n",
    "\n",
    "address.is_private"
   ]
  },
  {
   "cell_type": "code",
   "execution_count": 33,
   "metadata": {},
   "outputs": [
    {
     "name": "stdout",
     "output_type": "stream",
     "text": [
      "True\n",
      "False\n"
     ]
    }
   ],
   "source": [
    "# Test if an address is reserved for use as a loopback\n",
    "\n",
    "loopb = ip.ip_address('127.0.0.1')\n",
    "address = ip.ip_address('192.168.1.10')\n",
    "\n",
    "print(loopb.is_loopback, address.is_loopback, sep='\\n')"
   ]
  },
  {
   "cell_type": "code",
   "execution_count": 34,
   "metadata": {},
   "outputs": [
    {
     "name": "stdout",
     "output_type": "stream",
     "text": [
      "192.0.2.1\n",
      "192.0.2.0/24\n",
      "255.255.255.0\n",
      "0.0.0.255\n",
      "192.0.2.1/255.255.255.0\n"
     ]
    }
   ],
   "source": [
    "# Presuming you had an interface you can interrogate it for specifics\n",
    "\n",
    "print(interface.ip,\n",
    "      interface.network,\n",
    "      interface.netmask,\n",
    "      interface.hostmask,\n",
    "      interface.with_netmask,\n",
    "      sep='\\n')"
   ]
  },
  {
   "cell_type": "code",
   "execution_count": 35,
   "metadata": {},
   "outputs": [
    {
     "data": {
      "text/plain": [
       "256"
      ]
     },
     "execution_count": 35,
     "metadata": {},
     "output_type": "execute_result"
    }
   ],
   "source": [
    "# If you want to count the number of addresses in a network objects\n",
    "\n",
    "netw.num_addresses"
   ]
  },
  {
   "cell_type": "code",
   "execution_count": 36,
   "metadata": {},
   "outputs": [
    {
     "name": "stdout",
     "output_type": "stream",
     "text": [
      "192.168.1.0\n",
      "192.168.1.1\n",
      "192.168.1.2\n",
      "192.168.1.3\n",
      "192.168.1.4\n",
      "192.168.1.5\n",
      "192.168.1.6\n",
      "192.168.1.7\n",
      "192.168.1.8\n",
      "192.168.1.9\n",
      "192.168.1.10\n",
      "192.168.1.11\n",
      "192.168.1.12\n",
      "192.168.1.13\n",
      "192.168.1.14\n",
      "192.168.1.15\n",
      "192.168.1.16\n",
      "192.168.1.17\n",
      "192.168.1.18\n",
      "192.168.1.19\n",
      "192.168.1.20\n",
      "192.168.1.21\n",
      "192.168.1.22\n",
      "192.168.1.23\n",
      "192.168.1.24\n",
      "192.168.1.25\n",
      "192.168.1.26\n",
      "192.168.1.27\n",
      "192.168.1.28\n",
      "192.168.1.29\n",
      "192.168.1.30\n",
      "192.168.1.31\n",
      "192.168.1.32\n",
      "192.168.1.33\n",
      "192.168.1.34\n",
      "192.168.1.35\n",
      "192.168.1.36\n",
      "192.168.1.37\n",
      "192.168.1.38\n",
      "192.168.1.39\n",
      "192.168.1.40\n",
      "192.168.1.41\n",
      "192.168.1.42\n",
      "192.168.1.43\n",
      "192.168.1.44\n",
      "192.168.1.45\n",
      "192.168.1.46\n",
      "192.168.1.47\n",
      "192.168.1.48\n",
      "192.168.1.49\n",
      "192.168.1.50\n",
      "192.168.1.51\n",
      "192.168.1.52\n",
      "192.168.1.53\n",
      "192.168.1.54\n",
      "192.168.1.55\n",
      "192.168.1.56\n",
      "192.168.1.57\n",
      "192.168.1.58\n",
      "192.168.1.59\n",
      "192.168.1.60\n",
      "192.168.1.61\n",
      "192.168.1.62\n",
      "192.168.1.63\n",
      "192.168.1.64\n",
      "192.168.1.65\n",
      "192.168.1.66\n",
      "192.168.1.67\n",
      "192.168.1.68\n",
      "192.168.1.69\n",
      "192.168.1.70\n",
      "192.168.1.71\n",
      "192.168.1.72\n",
      "192.168.1.73\n",
      "192.168.1.74\n",
      "192.168.1.75\n",
      "192.168.1.76\n",
      "192.168.1.77\n",
      "192.168.1.78\n",
      "192.168.1.79\n",
      "192.168.1.80\n",
      "192.168.1.81\n",
      "192.168.1.82\n",
      "192.168.1.83\n",
      "192.168.1.84\n",
      "192.168.1.85\n",
      "192.168.1.86\n",
      "192.168.1.87\n",
      "192.168.1.88\n",
      "192.168.1.89\n",
      "192.168.1.90\n",
      "192.168.1.91\n",
      "192.168.1.92\n",
      "192.168.1.93\n",
      "192.168.1.94\n",
      "192.168.1.95\n",
      "192.168.1.96\n",
      "192.168.1.97\n",
      "192.168.1.98\n",
      "192.168.1.99\n",
      "192.168.1.100\n",
      "192.168.1.101\n",
      "192.168.1.102\n",
      "192.168.1.103\n",
      "192.168.1.104\n",
      "192.168.1.105\n",
      "192.168.1.106\n",
      "192.168.1.107\n",
      "192.168.1.108\n",
      "192.168.1.109\n",
      "192.168.1.110\n",
      "192.168.1.111\n",
      "192.168.1.112\n",
      "192.168.1.113\n",
      "192.168.1.114\n",
      "192.168.1.115\n",
      "192.168.1.116\n",
      "192.168.1.117\n",
      "192.168.1.118\n",
      "192.168.1.119\n",
      "192.168.1.120\n",
      "192.168.1.121\n",
      "192.168.1.122\n",
      "192.168.1.123\n",
      "192.168.1.124\n",
      "192.168.1.125\n",
      "192.168.1.126\n",
      "192.168.1.127\n",
      "192.168.1.128\n",
      "192.168.1.129\n",
      "192.168.1.130\n",
      "192.168.1.131\n",
      "192.168.1.132\n",
      "192.168.1.133\n",
      "192.168.1.134\n",
      "192.168.1.135\n",
      "192.168.1.136\n",
      "192.168.1.137\n",
      "192.168.1.138\n",
      "192.168.1.139\n",
      "192.168.1.140\n",
      "192.168.1.141\n",
      "192.168.1.142\n",
      "192.168.1.143\n",
      "192.168.1.144\n",
      "192.168.1.145\n",
      "192.168.1.146\n",
      "192.168.1.147\n",
      "192.168.1.148\n",
      "192.168.1.149\n",
      "192.168.1.150\n",
      "192.168.1.151\n",
      "192.168.1.152\n",
      "192.168.1.153\n",
      "192.168.1.154\n",
      "192.168.1.155\n",
      "192.168.1.156\n",
      "192.168.1.157\n",
      "192.168.1.158\n",
      "192.168.1.159\n",
      "192.168.1.160\n",
      "192.168.1.161\n",
      "192.168.1.162\n",
      "192.168.1.163\n",
      "192.168.1.164\n",
      "192.168.1.165\n",
      "192.168.1.166\n",
      "192.168.1.167\n",
      "192.168.1.168\n",
      "192.168.1.169\n",
      "192.168.1.170\n",
      "192.168.1.171\n",
      "192.168.1.172\n",
      "192.168.1.173\n",
      "192.168.1.174\n",
      "192.168.1.175\n",
      "192.168.1.176\n",
      "192.168.1.177\n",
      "192.168.1.178\n",
      "192.168.1.179\n",
      "192.168.1.180\n",
      "192.168.1.181\n",
      "192.168.1.182\n",
      "192.168.1.183\n",
      "192.168.1.184\n",
      "192.168.1.185\n",
      "192.168.1.186\n",
      "192.168.1.187\n",
      "192.168.1.188\n",
      "192.168.1.189\n",
      "192.168.1.190\n",
      "192.168.1.191\n",
      "192.168.1.192\n",
      "192.168.1.193\n",
      "192.168.1.194\n",
      "192.168.1.195\n",
      "192.168.1.196\n",
      "192.168.1.197\n",
      "192.168.1.198\n",
      "192.168.1.199\n",
      "192.168.1.200\n",
      "192.168.1.201\n",
      "192.168.1.202\n",
      "192.168.1.203\n",
      "192.168.1.204\n",
      "192.168.1.205\n",
      "192.168.1.206\n",
      "192.168.1.207\n",
      "192.168.1.208\n",
      "192.168.1.209\n",
      "192.168.1.210\n",
      "192.168.1.211\n",
      "192.168.1.212\n",
      "192.168.1.213\n",
      "192.168.1.214\n",
      "192.168.1.215\n",
      "192.168.1.216\n",
      "192.168.1.217\n",
      "192.168.1.218\n",
      "192.168.1.219\n",
      "192.168.1.220\n",
      "192.168.1.221\n",
      "192.168.1.222\n",
      "192.168.1.223\n",
      "192.168.1.224\n",
      "192.168.1.225\n",
      "192.168.1.226\n",
      "192.168.1.227\n",
      "192.168.1.228\n",
      "192.168.1.229\n",
      "192.168.1.230\n",
      "192.168.1.231\n",
      "192.168.1.232\n",
      "192.168.1.233\n",
      "192.168.1.234\n",
      "192.168.1.235\n",
      "192.168.1.236\n",
      "192.168.1.237\n",
      "192.168.1.238\n",
      "192.168.1.239\n",
      "192.168.1.240\n",
      "192.168.1.241\n",
      "192.168.1.242\n",
      "192.168.1.243\n",
      "192.168.1.244\n",
      "192.168.1.245\n",
      "192.168.1.246\n",
      "192.168.1.247\n",
      "192.168.1.248\n",
      "192.168.1.249\n",
      "192.168.1.250\n",
      "192.168.1.251\n",
      "192.168.1.252\n",
      "192.168.1.253\n",
      "192.168.1.254\n",
      "192.168.1.255\n"
     ]
    }
   ],
   "source": [
    "# Iterate through all addresses in a network (including network ID and broadcast ID)\n",
    "\n",
    "for addr in netw:\n",
    "    print(addr)\n",
    "    # Do something else here"
   ]
  },
  {
   "cell_type": "code",
   "execution_count": 37,
   "metadata": {},
   "outputs": [
    {
     "name": "stdout",
     "output_type": "stream",
     "text": [
      "192.168.1.1\n",
      "192.168.1.2\n",
      "192.168.1.3\n",
      "192.168.1.4\n",
      "192.168.1.5\n",
      "192.168.1.6\n",
      "192.168.1.7\n",
      "192.168.1.8\n",
      "192.168.1.9\n",
      "192.168.1.10\n",
      "192.168.1.11\n",
      "192.168.1.12\n",
      "192.168.1.13\n",
      "192.168.1.14\n",
      "192.168.1.15\n",
      "192.168.1.16\n",
      "192.168.1.17\n",
      "192.168.1.18\n",
      "192.168.1.19\n",
      "192.168.1.20\n",
      "192.168.1.21\n",
      "192.168.1.22\n",
      "192.168.1.23\n",
      "192.168.1.24\n",
      "192.168.1.25\n",
      "192.168.1.26\n",
      "192.168.1.27\n",
      "192.168.1.28\n",
      "192.168.1.29\n",
      "192.168.1.30\n",
      "192.168.1.31\n",
      "192.168.1.32\n",
      "192.168.1.33\n",
      "192.168.1.34\n",
      "192.168.1.35\n",
      "192.168.1.36\n",
      "192.168.1.37\n",
      "192.168.1.38\n",
      "192.168.1.39\n",
      "192.168.1.40\n",
      "192.168.1.41\n",
      "192.168.1.42\n",
      "192.168.1.43\n",
      "192.168.1.44\n",
      "192.168.1.45\n",
      "192.168.1.46\n",
      "192.168.1.47\n",
      "192.168.1.48\n",
      "192.168.1.49\n",
      "192.168.1.50\n",
      "192.168.1.51\n",
      "192.168.1.52\n",
      "192.168.1.53\n",
      "192.168.1.54\n",
      "192.168.1.55\n",
      "192.168.1.56\n",
      "192.168.1.57\n",
      "192.168.1.58\n",
      "192.168.1.59\n",
      "192.168.1.60\n",
      "192.168.1.61\n",
      "192.168.1.62\n",
      "192.168.1.63\n",
      "192.168.1.64\n",
      "192.168.1.65\n",
      "192.168.1.66\n",
      "192.168.1.67\n",
      "192.168.1.68\n",
      "192.168.1.69\n",
      "192.168.1.70\n",
      "192.168.1.71\n",
      "192.168.1.72\n",
      "192.168.1.73\n",
      "192.168.1.74\n",
      "192.168.1.75\n",
      "192.168.1.76\n",
      "192.168.1.77\n",
      "192.168.1.78\n",
      "192.168.1.79\n",
      "192.168.1.80\n",
      "192.168.1.81\n",
      "192.168.1.82\n",
      "192.168.1.83\n",
      "192.168.1.84\n",
      "192.168.1.85\n",
      "192.168.1.86\n",
      "192.168.1.87\n",
      "192.168.1.88\n",
      "192.168.1.89\n",
      "192.168.1.90\n",
      "192.168.1.91\n",
      "192.168.1.92\n",
      "192.168.1.93\n",
      "192.168.1.94\n",
      "192.168.1.95\n",
      "192.168.1.96\n",
      "192.168.1.97\n",
      "192.168.1.98\n",
      "192.168.1.99\n",
      "192.168.1.100\n",
      "192.168.1.101\n",
      "192.168.1.102\n",
      "192.168.1.103\n",
      "192.168.1.104\n",
      "192.168.1.105\n",
      "192.168.1.106\n",
      "192.168.1.107\n",
      "192.168.1.108\n",
      "192.168.1.109\n",
      "192.168.1.110\n",
      "192.168.1.111\n",
      "192.168.1.112\n",
      "192.168.1.113\n",
      "192.168.1.114\n",
      "192.168.1.115\n",
      "192.168.1.116\n",
      "192.168.1.117\n",
      "192.168.1.118\n",
      "192.168.1.119\n",
      "192.168.1.120\n",
      "192.168.1.121\n",
      "192.168.1.122\n",
      "192.168.1.123\n",
      "192.168.1.124\n",
      "192.168.1.125\n",
      "192.168.1.126\n",
      "192.168.1.127\n",
      "192.168.1.128\n",
      "192.168.1.129\n",
      "192.168.1.130\n",
      "192.168.1.131\n",
      "192.168.1.132\n",
      "192.168.1.133\n",
      "192.168.1.134\n",
      "192.168.1.135\n",
      "192.168.1.136\n",
      "192.168.1.137\n",
      "192.168.1.138\n",
      "192.168.1.139\n",
      "192.168.1.140\n",
      "192.168.1.141\n",
      "192.168.1.142\n",
      "192.168.1.143\n",
      "192.168.1.144\n",
      "192.168.1.145\n",
      "192.168.1.146\n",
      "192.168.1.147\n",
      "192.168.1.148\n",
      "192.168.1.149\n",
      "192.168.1.150\n",
      "192.168.1.151\n",
      "192.168.1.152\n",
      "192.168.1.153\n",
      "192.168.1.154\n",
      "192.168.1.155\n",
      "192.168.1.156\n",
      "192.168.1.157\n",
      "192.168.1.158\n",
      "192.168.1.159\n",
      "192.168.1.160\n",
      "192.168.1.161\n",
      "192.168.1.162\n",
      "192.168.1.163\n",
      "192.168.1.164\n",
      "192.168.1.165\n",
      "192.168.1.166\n",
      "192.168.1.167\n",
      "192.168.1.168\n",
      "192.168.1.169\n",
      "192.168.1.170\n",
      "192.168.1.171\n",
      "192.168.1.172\n",
      "192.168.1.173\n",
      "192.168.1.174\n",
      "192.168.1.175\n",
      "192.168.1.176\n",
      "192.168.1.177\n",
      "192.168.1.178\n",
      "192.168.1.179\n",
      "192.168.1.180\n",
      "192.168.1.181\n",
      "192.168.1.182\n",
      "192.168.1.183\n",
      "192.168.1.184\n",
      "192.168.1.185\n",
      "192.168.1.186\n",
      "192.168.1.187\n",
      "192.168.1.188\n",
      "192.168.1.189\n",
      "192.168.1.190\n",
      "192.168.1.191\n",
      "192.168.1.192\n",
      "192.168.1.193\n",
      "192.168.1.194\n",
      "192.168.1.195\n",
      "192.168.1.196\n",
      "192.168.1.197\n",
      "192.168.1.198\n",
      "192.168.1.199\n",
      "192.168.1.200\n",
      "192.168.1.201\n",
      "192.168.1.202\n",
      "192.168.1.203\n",
      "192.168.1.204\n",
      "192.168.1.205\n",
      "192.168.1.206\n",
      "192.168.1.207\n",
      "192.168.1.208\n",
      "192.168.1.209\n",
      "192.168.1.210\n",
      "192.168.1.211\n",
      "192.168.1.212\n",
      "192.168.1.213\n",
      "192.168.1.214\n",
      "192.168.1.215\n",
      "192.168.1.216\n",
      "192.168.1.217\n",
      "192.168.1.218\n",
      "192.168.1.219\n",
      "192.168.1.220\n",
      "192.168.1.221\n",
      "192.168.1.222\n",
      "192.168.1.223\n",
      "192.168.1.224\n",
      "192.168.1.225\n",
      "192.168.1.226\n",
      "192.168.1.227\n",
      "192.168.1.228\n",
      "192.168.1.229\n",
      "192.168.1.230\n",
      "192.168.1.231\n",
      "192.168.1.232\n",
      "192.168.1.233\n",
      "192.168.1.234\n",
      "192.168.1.235\n",
      "192.168.1.236\n",
      "192.168.1.237\n",
      "192.168.1.238\n",
      "192.168.1.239\n",
      "192.168.1.240\n",
      "192.168.1.241\n",
      "192.168.1.242\n",
      "192.168.1.243\n",
      "192.168.1.244\n",
      "192.168.1.245\n",
      "192.168.1.246\n",
      "192.168.1.247\n",
      "192.168.1.248\n",
      "192.168.1.249\n",
      "192.168.1.250\n",
      "192.168.1.251\n",
      "192.168.1.252\n",
      "192.168.1.253\n",
      "192.168.1.254\n"
     ]
    }
   ],
   "source": [
    "# Or if we only want host IPs\n",
    "\n",
    "for addr in netw.hosts():\n",
    "    print(addr)"
   ]
  },
  {
   "cell_type": "code",
   "execution_count": 38,
   "metadata": {},
   "outputs": [
    {
     "name": "stdout",
     "output_type": "stream",
     "text": [
      "192.168.1.10\n",
      "192.168.1.123\n",
      "192.168.1.255\n"
     ]
    }
   ],
   "source": [
    "# Interestingly enough you can even index through networks for specific IPs\n",
    "# NOTE: Slicing does not work unfortunately\n",
    "\n",
    "print(netw[10],\n",
    "      netw[123],\n",
    "      netw[-1],\n",
    "      sep='\\n')"
   ]
  },
  {
   "cell_type": "code",
   "execution_count": 39,
   "metadata": {},
   "outputs": [
    {
     "name": "stdout",
     "output_type": "stream",
     "text": [
      "192.168.1.10\n",
      "192.168.1.0/24\n",
      "3232235786\n"
     ]
    }
   ],
   "source": [
    "# If you want just the values associated with an address or network\n",
    "# You can convert items\n",
    "\n",
    "print(str(address),\n",
    "      str(netw),\n",
    "      int(address),\n",
    "      sep='\\n')"
   ]
  },
  {
   "cell_type": "code",
   "execution_count": 46,
   "metadata": {},
   "outputs": [
    {
     "data": {
      "text/plain": [
       "'8.8.8.8'"
      ]
     },
     "execution_count": 46,
     "metadata": {},
     "output_type": "execute_result"
    }
   ],
   "source": [
    "import ipaddress as ip\n",
    "google = ip.ip_address('8.8.8.8')\n",
    "google.exploded"
   ]
  },
  {
   "cell_type": "code",
   "execution_count": null,
   "metadata": {
    "collapsed": true
   },
   "outputs": [],
   "source": []
  }
 ],
 "metadata": {
  "anaconda-cloud": {},
  "celltoolbar": "Slideshow",
  "kernelspec": {
   "display_name": "Python 3",
   "language": "python",
   "name": "python3"
  },
  "language_info": {
   "codemirror_mode": {
    "name": "ipython",
    "version": 3
   },
   "file_extension": ".py",
   "mimetype": "text/x-python",
   "name": "python",
   "nbconvert_exporter": "python",
   "pygments_lexer": "ipython3",
   "version": "3.5.2"
  }
 },
 "nbformat": 4,
 "nbformat_minor": 2
}
