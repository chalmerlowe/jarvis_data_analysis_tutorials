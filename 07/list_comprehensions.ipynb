{
 "cells": [
  {
   "cell_type": "markdown",
   "metadata": {},
   "source": [
    "# List Comprehensions\n",
    "\n",
    "List comprehensions are a shortcut to making AND working with lists.\n",
    "\n",
    "They are very common in Python and have all but replaced certain functions like: \n",
    "\n",
    "* `map()`\n",
    "* `reduce()`\n",
    "* `filter()`"
   ]
  },
  {
   "cell_type": "code",
   "execution_count": 53,
   "metadata": {},
   "outputs": [
    {
     "name": "stdout",
     "output_type": "stream",
     "text": [
      "[2, 4, 6, 8, 10, 12, 14, 16, 18, 20]\n"
     ]
    }
   ],
   "source": [
    "# The standard method for making a list is to start with an \n",
    "# empty list and append items to it...\n",
    "\n",
    "doubles = []\n",
    "\n",
    "for num in range(1, 11):\n",
    "    \n",
    "    # As we generate new content, we append, one by one.     \n",
    "    doubles.append(num * 2)\n",
    "\n",
    "print(doubles)"
   ]
  },
  {
   "cell_type": "markdown",
   "metadata": {},
   "source": [
    "## Doing the same thing via a list comprehension"
   ]
  },
  {
   "cell_type": "code",
   "execution_count": 54,
   "metadata": {},
   "outputs": [
    {
     "name": "stdout",
     "output_type": "stream",
     "text": [
      "[2, 4, 6, 8, 10, 12, 14, 16, 18, 20]\n"
     ]
    }
   ],
   "source": [
    "doubles2 = [num * 2 for num in range(1, 11)]\n",
    "\n",
    "print(doubles2)"
   ]
  },
  {
   "cell_type": "markdown",
   "metadata": {},
   "source": [
    "# How does this work?\n",
    "\n",
    "* `doubles2 = [___]` produces a list\n",
    "* The content within the brackets is read like this: \n",
    "* `multiply num by 2 for every num in range(1, 11)`\n"
   ]
  },
  {
   "cell_type": "code",
   "execution_count": 2,
   "metadata": {},
   "outputs": [
    {
     "name": "stdout",
     "output_type": "stream",
     "text": [
      "[1, 4, 9, 16, 25, 36, 49, 64, 81, 100]\n"
     ]
    }
   ],
   "source": [
    "# Another example\n",
    "\n",
    "squares = []\n",
    "\n",
    "for num in range(1, 11):\n",
    "    squares.append(num ** 2) \n",
    "print(squares)"
   ]
  },
  {
   "cell_type": "markdown",
   "metadata": {},
   "source": [
    "## Doing the same thing via a list comprehension"
   ]
  },
  {
   "cell_type": "code",
   "execution_count": 3,
   "metadata": {},
   "outputs": [
    {
     "name": "stdout",
     "output_type": "stream",
     "text": [
      "[1, 4, 9, 16, 25, 36, 49, 64, 81, 100]\n"
     ]
    }
   ],
   "source": [
    "# Now if we do the same thing using list comprehension\n",
    "\n",
    "squares = [every_num ** 2 for every_num in range(1, 11)]\n",
    "\n",
    "print(squares)"
   ]
  },
  {
   "cell_type": "code",
   "execution_count": 8,
   "metadata": {},
   "outputs": [
    {
     "name": "stdout",
     "output_type": "stream",
     "text": [
      "['King James', 'King Edward', 'King John', 'King Harold']\n"
     ]
    }
   ],
   "source": [
    "# List comprehensions can be used for data other than numerical data\n",
    "# Let's look at the names of four kings.\n",
    "\n",
    "names = ['James', 'Edward', 'John', 'Harold']\n",
    "\n",
    "# We want to process these strings to add the title 'King\" to each of their names \n",
    "# and store it in a list\n",
    "\n",
    "kings = []\n",
    "\n",
    "for name in names:\n",
    "    kings.append('King ' + name)\n",
    "\n",
    "print(kings)"
   ]
  },
  {
   "cell_type": "markdown",
   "metadata": {},
   "source": [
    "## Doing the same thing via a list comprehension"
   ]
  },
  {
   "cell_type": "code",
   "execution_count": 5,
   "metadata": {},
   "outputs": [
    {
     "name": "stdout",
     "output_type": "stream",
     "text": [
      "['King James', 'King Edward', 'King John', 'King Harold']\n"
     ]
    }
   ],
   "source": [
    "kings2 = ['King ' + name for name in names]\n",
    "\n",
    "print(kings2)"
   ]
  },
  {
   "cell_type": "markdown",
   "metadata": {},
   "source": [
    "# Experience Points\n",
    "\n",
    "* For each of the following exercises, create a list comprehension\n",
    "* It sometimes helps to create the underlying `for loop` and then convert it to a list comprehension, until you get used to them.\n"
   ]
  },
  {
   "cell_type": "markdown",
   "metadata": {},
   "source": [
    "## Add 20\n",
    "    * Iterate through the numbers 1 through 5\n",
    "    * Add 20 to each number"
   ]
  },
  {
   "cell_type": "markdown",
   "metadata": {},
   "source": [
    "## Multiples of 42\n",
    "    * Iterate through the numbers 10 through 15\n",
    "    * Multiply each number by 42    "
   ]
  },
  {
   "cell_type": "markdown",
   "metadata": {},
   "source": [
    "## Hello name\n",
    "    * Make a list of five names\n",
    "    * Iterate through each name\n",
    "    * Add the phrase \"Hello \" to the beginning of the name and the string \"!\" to the end of the name\n"
   ]
  },
  {
   "cell_type": "markdown",
   "metadata": {},
   "source": [
    "## Working backwards\n",
    "    \n",
    "    * Take the following list comprehension and write it out the long way, using a standard for loop\n",
    "    \n",
    "```\n",
    "numStrings = [str(num) for num in range(1, 11)]\n",
    "```"
   ]
  },
  {
   "cell_type": "markdown",
   "metadata": {},
   "source": [
    "# Conditionals"
   ]
  },
  {
   "cell_type": "code",
   "execution_count": 9,
   "metadata": {},
   "outputs": [
    {
     "name": "stdout",
     "output_type": "stream",
     "text": [
      "['bruce', 'clark', 'barry', 'diana', 'billy', 'dinah', 'wally']\n"
     ]
    }
   ],
   "source": [
    "# Let's test each name for length and filter based on length\n",
    "\n",
    "names = ['bruce', 'hal', 'clark', 'barry', 'diana', 'arthur', 'billy', 'john',\n",
    "         'victor', 'ray', 'dinah', 'kara', 'john', 'barbara', 'kyle', 'selina', 'wally']\n",
    "\n",
    "\n",
    "fivers = []\n",
    "\n",
    "for name in names:\n",
    "    if len(name) == 5:\n",
    "        fivers.append(name)\n",
    "\n",
    "print(fivers)"
   ]
  },
  {
   "cell_type": "markdown",
   "metadata": {},
   "source": [
    "## Doing the same thing via a list comprehension"
   ]
  },
  {
   "cell_type": "code",
   "execution_count": 10,
   "metadata": {},
   "outputs": [
    {
     "name": "stdout",
     "output_type": "stream",
     "text": [
      "['bruce', 'clark', 'barry', 'diana', 'billy', 'dinah', 'wally']\n"
     ]
    }
   ],
   "source": [
    "names = ['bruce', 'hal', 'clark', 'barry', 'diana', 'arthur', 'billy', 'john',\n",
    "         'victor', 'ray', 'dinah', 'kara', 'john', 'barbara', 'kyle', 'selina', 'wally']\n",
    "\n",
    "\n",
    "fivers = [every_name for every_name in names if len(every_name) == 5]\n",
    "\n",
    "print(fivers)"
   ]
  },
  {
   "cell_type": "markdown",
   "metadata": {},
   "source": [
    "# Data manipulations"
   ]
  },
  {
   "cell_type": "code",
   "execution_count": 65,
   "metadata": {},
   "outputs": [
    {
     "name": "stdout",
     "output_type": "stream",
     "text": [
      "['br', 'eg', 'gr', 'jp', 'ae', 'vi', 'us', 'aq']\n",
      "['EG', 'AE', 'AQ']\n"
     ]
    }
   ],
   "source": [
    "# Next, let's filter if the 'a' OR 'e' is found in the digraph\n",
    "# Then let's change the digraph to uppercase using the *.upper() method\n",
    "\n",
    "digraphs = list('br eg gr jp ae vi us aq'.split())    # Fun technique to generate data !!!\n",
    "print(digraphs)\n",
    "\n",
    "new_dgs = [dg.upper() for dg in digraphs if 'a' in dg or 'e' in dg]\n",
    "print(new_dgs)\n"
   ]
  },
  {
   "cell_type": "code",
   "execution_count": 66,
   "metadata": {},
   "outputs": [
    {
     "name": "stdout",
     "output_type": "stream",
     "text": [
      "['eg', 'ae', 'vi', 'us', 'aq']\n"
     ]
    }
   ],
   "source": [
    "digraphs = list('br eg gr jp ae vi us aq'.split())\n",
    "\n",
    "\n",
    "def vowel_check(text):\n",
    "    for vowel in ['a', 'e', 'i', 'o', 'u']:\n",
    "        if vowel in text:\n",
    "            return text\n",
    "\n",
    "        \n",
    "voweled_dgs = [dg for dg in digraphs if vowel_check(dg)]\n",
    "\n",
    "print(voweled_dgs)            "
   ]
  },
  {
   "cell_type": "markdown",
   "metadata": {},
   "source": [
    "# Experience Points\n",
    "\n",
    "* For each of the following exercises, create a list comprehension\n",
    "* It sometimes helps to create the underlying `for loop` and then convert it to a list comprehension, until you get used to them.\n"
   ]
  },
  {
   "cell_type": "markdown",
   "metadata": {},
   "source": [
    "Create a list with the following names:<br>\n",
    "    'bruce', 'hal', 'clark', 'barry', 'diana', 'arthur', 'billy', 'john',\n",
    "    'victor', 'ray', 'dinah', 'kara', 'john', 'barbara', 'kyle', 'selina', 'wally'\n",
    "    \n",
    "* Iterate over each name in the list\n",
    "* Convert each name to title case"
   ]
  },
  {
   "cell_type": "markdown",
   "metadata": {},
   "source": [
    "Using the same list of names above\n",
    "\n",
    "* Iterate over each name in the list\n",
    "* If the name begins with 'b'\n",
    "  * Convert each name to uppercase \n"
   ]
  },
  {
   "cell_type": "markdown",
   "metadata": {},
   "source": [
    "# Benefit of using list comprehensions\n",
    "\n",
    "* List comprehensions have been heavily optimized to reduce processing time and computational effort\n",
    "* Reduces the cognitive load of the code\n",
    "* Reduces the line count\n",
    "* With practice will quickly become easier to read/write"
   ]
  },
  {
   "cell_type": "markdown",
   "metadata": {},
   "source": [
    "## Let's take a look at the performance comparison\n",
    "\n",
    "From an **IPython** prompt\n",
    "\n",
    "run -p prun.comp.py\n",
    "\n",
    "run -p prun.for.py"
   ]
  },
  {
   "cell_type": "code",
   "execution_count": null,
   "metadata": {
    "collapsed": true
   },
   "outputs": [],
   "source": [
    "# Comprehensions are not limited to just lists...\n",
    "\n",
    "* Sets\n",
    "* Dictionaries\n"
   ]
  },
  {
   "cell_type": "markdown",
   "metadata": {},
   "source": [
    "# Set comprehensions"
   ]
  },
  {
   "cell_type": "code",
   "execution_count": 12,
   "metadata": {},
   "outputs": [
    {
     "name": "stdout",
     "output_type": "stream",
     "text": [
      "{'arthur', 'selina'}\n"
     ]
    }
   ],
   "source": [
    "names = ['bruce', 'arthur', 'arthur', 'arthur', 'hal', 'arthur', 'selina', 'barry',\n",
    "         'selina', 'selina', 'kara', 'kara', 'bruce', 'barbara', 'selina', 'selina', 'bruce']\n",
    "\n",
    "\n",
    "# NOTE: the alternate syntax using the \"{ }\"\n",
    "\n",
    "fivers = {name for name in names if len(name) == 6}\n",
    "\n",
    "print(fivers)"
   ]
  },
  {
   "cell_type": "markdown",
   "metadata": {},
   "source": [
    "# Dictionary comprehensions"
   ]
  },
  {
   "cell_type": "code",
   "execution_count": 13,
   "metadata": {},
   "outputs": [
    {
     "name": "stdout",
     "output_type": "stream",
     "text": [
      "{3: 'selina', 4: 'barbara', 5: 'kara', 6: 'barry'}\n"
     ]
    }
   ],
   "source": [
    "names = [(1, 'bruce'), (2, 'arthur'), (3, 'selina'), (4, 'barbara'), (5, 'kara'), (6, 'barry')]\n",
    "\n",
    "\n",
    "# NOTE: this new syntax using the \"{key: value}\"\n",
    "\n",
    "new_dict = {key: value for key, value in names if key > 2}\n",
    "\n",
    "print(new_dict)"
   ]
  },
  {
   "cell_type": "markdown",
   "metadata": {},
   "source": [
    "# Generator expressions"
   ]
  },
  {
   "cell_type": "code",
   "execution_count": 15,
   "metadata": {},
   "outputs": [
    {
     "name": "stdout",
     "output_type": "stream",
     "text": [
      "<generator object <genexpr> at 0x106c6d258>\n"
     ]
    }
   ],
   "source": [
    "# Generators are super neat they produce the same results as a list comprehension, but \n",
    "# they yield up one element at a time, upon request\n",
    "# Requests can come via the next() function OR\n",
    "# via for loop\n",
    "\n",
    "# This provides a potentially major savings in memory and time\n",
    "# You don't end up essentially duplicating the list in memory\n",
    "# IF the processing per item is prohibitive to do all at once, up front, you \n",
    "#     can farm it out upon demand.\n",
    "\n",
    "\n",
    "names = ['bruce', 'arthur', 'arthur', 'arthur', 'hal', 'arthur', 'selina', 'barry',\n",
    "         'selina', 'selina', 'kara', 'kara', 'bruce', 'barbara', 'selina', 'selina', 'bruce']\n",
    "\n",
    "\n",
    "# Lastly... look at this syntax using the \"( )\"\n",
    "\n",
    "below_six = (name for name in names if len(name) < 6)\n",
    "\n",
    "print(below_six)\n"
   ]
  },
  {
   "cell_type": "code",
   "execution_count": 16,
   "metadata": {},
   "outputs": [
    {
     "data": {
      "text/plain": [
       "'bruce'"
      ]
     },
     "execution_count": 16,
     "metadata": {},
     "output_type": "execute_result"
    }
   ],
   "source": [
    "next(below_six)"
   ]
  },
  {
   "cell_type": "code",
   "execution_count": 17,
   "metadata": {},
   "outputs": [
    {
     "data": {
      "text/plain": [
       "'hal'"
      ]
     },
     "execution_count": 17,
     "metadata": {},
     "output_type": "execute_result"
    }
   ],
   "source": [
    "next(below_six)"
   ]
  },
  {
   "cell_type": "code",
   "execution_count": 18,
   "metadata": {},
   "outputs": [
    {
     "name": "stdout",
     "output_type": "stream",
     "text": [
      "barry\n",
      "kara\n",
      "kara\n",
      "bruce\n",
      "bruce\n"
     ]
    }
   ],
   "source": [
    "# For loops stop automatically, just as you would expect\n",
    "\n",
    "for name in below_six:\n",
    "    print(name)"
   ]
  },
  {
   "cell_type": "code",
   "execution_count": 99,
   "metadata": {},
   "outputs": [
    {
     "ename": "StopIteration",
     "evalue": "",
     "output_type": "error",
     "traceback": [
      "\u001b[0;31m---------------------------------------------------------------------------\u001b[0m",
      "\u001b[0;31mStopIteration\u001b[0m                             Traceback (most recent call last)",
      "\u001b[0;32m<ipython-input-99-b27e4035a1c7>\u001b[0m in \u001b[0;36m<module>\u001b[0;34m()\u001b[0m\n\u001b[0;32m----> 1\u001b[0;31m \u001b[0mnext\u001b[0m\u001b[0;34m(\u001b[0m\u001b[0mbelow_six\u001b[0m\u001b[0;34m)\u001b[0m\u001b[0;34m\u001b[0m\u001b[0m\n\u001b[0m",
      "\u001b[0;31mStopIteration\u001b[0m: "
     ]
    }
   ],
   "source": [
    "next(below_six)"
   ]
  },
  {
   "cell_type": "code",
   "execution_count": null,
   "metadata": {
    "collapsed": true
   },
   "outputs": [],
   "source": []
  }
 ],
 "metadata": {
  "anaconda-cloud": {},
  "celltoolbar": "Slideshow",
  "kernelspec": {
   "display_name": "Python 3",
   "language": "python",
   "name": "python3"
  },
  "language_info": {
   "codemirror_mode": {
    "name": "ipython",
    "version": 3
   },
   "file_extension": ".py",
   "mimetype": "text/x-python",
   "name": "python",
   "nbconvert_exporter": "python",
   "pygments_lexer": "ipython3",
   "version": "3.5.2"
  }
 },
 "nbformat": 4,
 "nbformat_minor": 1
}
