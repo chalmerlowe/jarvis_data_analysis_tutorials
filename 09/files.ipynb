{
 "cells": [
  {
   "cell_type": "markdown",
   "metadata": {
    "slideshow": {
     "slide_type": "slide"
    }
   },
   "source": [
    "# Welcome to the Dark Art of Coding:\n",
    "## Introduction to Python\n",
    "Reading and writing to files\n",
    "\n",
    "<img src='../images/dark_art_logo.600px.png' width='300' style=\"float:right\">"
   ]
  },
  {
   "cell_type": "markdown",
   "metadata": {},
   "source": [
    "# Objectives\n",
    "\n",
    "* Opening and closing files\n",
    "* Reading .txt files and basic .csv files\n"
   ]
  },
  {
   "cell_type": "markdown",
   "metadata": {},
   "source": [
    "# File handling\n",
    "---"
   ]
  },
  {
   "cell_type": "code",
   "execution_count": 2,
   "metadata": {
    "collapsed": true
   },
   "outputs": [],
   "source": [
    "# We start off by opening the file using the open()\n",
    "# function and assigning a label as a filehandle\n",
    "\n",
    "fin = open('folder/carroll.txt')"
   ]
  },
  {
   "cell_type": "code",
   "execution_count": 5,
   "metadata": {},
   "outputs": [],
   "source": [
    "fin."
   ]
  },
  {
   "cell_type": "markdown",
   "metadata": {},
   "source": [
    "# File handles\n",
    "These are what Python uses to refer to files and how to read/write to them. File handles provide access to the following, and more:\n",
    "\n",
    "* A 'cursor' or 'pointer' used to read and write from the file\n",
    "* The ability to iterate over the file\n",
    "* The ability to read from the file in various ways\n",
    "* The current location of the cursor\n",
    "* The ability to move the pointer\n"
   ]
  },
  {
   "cell_type": "markdown",
   "metadata": {},
   "source": [
    "## Reading\n"
   ]
  },
  {
   "cell_type": "code",
   "execution_count": 6,
   "metadata": {},
   "outputs": [
    {
     "name": "stdout",
     "output_type": "stream",
     "text": [
      "The Walrus and The Carpenter\n",
      "\n",
      "Lewis Carroll\n",
      "\n",
      "(from Through the Looking-Glass and What Alice Found There, 1872)\n",
      "\n",
      "The sun was shining on the sea,\n",
      "Shining with all his might:\n",
      "He did his very best to make\n",
      "The billows smooth and bright--\n",
      "And this was odd, because it was\n",
      "The middle of the night.\n",
      "\n",
      "The moon was shining sulkily,\n",
      "Because she thought the sun\n",
      "Had got no business to be there\n",
      "After the day was done--\n",
      "\"It's very rude of him,\" she said,\n",
      "\"To come and spoil the fun!\"\n",
      "\n",
      "The sea was wet as wet could be,\n",
      "The sands were dry as dry.\n",
      "You could not see a cloud, because\n",
      "No cloud was in the sky:\n",
      "No birds were flying overhead--\n",
      "There were no birds to fly.\n",
      "\n",
      "The Walrus and the Carpenter\n",
      "Were walking close at hand;\n",
      "They wept like anything to see\n",
      "Such quantities of sand:\n",
      "\"If this were only cleared away,\"\n",
      "They said, \"it would be grand!\"\n",
      "\n",
      "\"If seven maids with seven mops\n",
      "Swept it for half a year.\n",
      "Do you suppose,\" the Walrus said,\n",
      "\"That they could get it clear?\"\n",
      "\"I doubt it,\" said the Carpenter,\n",
      "And shed a bitter tear.\n",
      "\n",
      "\"O Oysters, come and walk with us!\"\n",
      "The Walrus did beseech.\n",
      "\"A pleasant walk, a pleasant talk,\n",
      "Along the briny beach:\n",
      "We cannot do with more than four,\n",
      "To give a hand to each.\"\n",
      "\n",
      "The eldest Oyster looked at him,\n",
      "But never a word he said:\n",
      "The eldest Oyster winked his eye,\n",
      "And shook his heavy head--\n",
      "Meaning to say he did not choose\n",
      "To leave the oyster-bed.\n",
      "\n",
      "But four young Oysters hurried up,\n",
      "All eager for the treat:\n",
      "Their coats were brushed, their faces washed,\n",
      "Their shoes were clean and neat--\n",
      "And this was odd, because, you know,\n",
      "They hadn't any feet.\n",
      "\n",
      "Four other Oysters followed them,\n",
      "And yet another four;\n",
      "And thick and fast they came at last,\n",
      "And more, and more, and more--\n",
      "All hopping through the frothy waves,\n",
      "And scrambling to the shore.\n",
      "\n",
      "The Walrus and the Carpenter\n",
      "Walked on a mile or so,\n",
      "And then they rested on a rock\n",
      "Conveniently low:\n",
      "And all the little Oysters stood\n",
      "And waited in a row.\n",
      "\n",
      "\"The time has come,\" the Walrus said,\n",
      "\"To talk of many things:\n",
      "Of shoes--and ships--and sealing-wax--\n",
      "Of cabbages--and kings--\n",
      "And why the sea is boiling hot--\n",
      "And whether pigs have wings.\"\n",
      "\n",
      "\"But wait a bit,\" the Oysters cried,\n",
      "\"Before we have our chat;\n",
      "For some of us are out of breath,\n",
      "And all of us are fat!\"\n",
      "\"No hurry!\" said the Carpenter.\n",
      "They thanked him much for that.\n",
      "\n",
      "\"A loaf of bread,\" the Walrus said,\n",
      "\"Is what we chiefly need:\n",
      "Pepper and vinegar besides\n",
      "Are very good indeed--\n",
      "Now if you're ready, Oysters dear,\n",
      "We can begin to feed.\"\n",
      "\n",
      "\"But not on us!\" the Oysters cried,\n",
      "Turning a little blue.\n",
      "\"After such kindness, that would be\n",
      "A dismal thing to do!\"\n",
      "\"The night is fine,\" the Walrus said.\n",
      "\"Do you admire the view?\n",
      "\n",
      "\"It was so kind of you to come!\n",
      "And you are very nice!\"\n",
      "The Carpenter said nothing but\n",
      "\"Cut us another slice:\n",
      "I wish you were not quite so deaf--\n",
      "I've had to ask you twice!\"\n",
      "\n",
      "\"It seems a shame,\" the Walrus said,\n",
      "\"To play them such a trick,\n",
      "After we've brought them out so far,\n",
      "And made them trot so quick!\"\n",
      "The Carpenter said nothing but\n",
      "\"The butter's spread too thick!\"\n",
      "\n",
      "\"I weep for you,\" the Walrus said:\n",
      "\"I deeply sympathize.\"\n",
      "With sobs and tears he sorted out\n",
      "Those of the largest size,\n",
      "Holding his pocket-handkerchief\n",
      "Before his streaming eyes.\n",
      "\n",
      "\"O Oysters,\" said the Carpenter,\n",
      "\"You've had a pleasant run!\n",
      "Shall we be trotting home again?'\n",
      "But answer came there none--\n",
      "And this was scarcely odd, because\n",
      "They'd eaten every one.\n",
      "\n"
     ]
    }
   ],
   "source": [
    "# One method to read in data is using the read() method.\n",
    "\n",
    "text = fin.read()\n",
    "print(text)"
   ]
  },
  {
   "cell_type": "code",
   "execution_count": 7,
   "metadata": {
    "collapsed": true,
    "slideshow": {
     "slide_type": "fragment"
    }
   },
   "outputs": [],
   "source": [
    "# When you finish interacting with a file, it is important that\n",
    "#     you close() the file.\n",
    "# I liken it to \n",
    "#     Putting your toys away, when you are done with them.\n",
    "\n",
    "fin.close()"
   ]
  },
  {
   "cell_type": "code",
   "execution_count": 9,
   "metadata": {},
   "outputs": [
    {
     "ename": "ValueError",
     "evalue": "I/O operation on closed file.",
     "output_type": "error",
     "traceback": [
      "\u001b[0;31m---------------------------------------------------------------------------\u001b[0m",
      "\u001b[0;31mValueError\u001b[0m                                Traceback (most recent call last)",
      "\u001b[0;32m<ipython-input-9-e5ac15290c0f>\u001b[0m in \u001b[0;36m<module>\u001b[0;34m()\u001b[0m\n\u001b[0;32m----> 1\u001b[0;31m \u001b[0mfin\u001b[0m\u001b[0;34m.\u001b[0m\u001b[0mread\u001b[0m\u001b[0;34m(\u001b[0m\u001b[0;34m)\u001b[0m\u001b[0;34m\u001b[0m\u001b[0m\n\u001b[0m",
      "\u001b[0;31mValueError\u001b[0m: I/O operation on closed file."
     ]
    }
   ],
   "source": [
    "fin.read()"
   ]
  },
  {
   "cell_type": "code",
   "execution_count": 11,
   "metadata": {
    "collapsed": true,
    "slideshow": {
     "slide_type": "slide"
    }
   },
   "outputs": [],
   "source": [
    "\n",
    "\n",
    "fout = open('folder/output.txt', 'w')      # NOTE the 'w' to open the file for writing purposes\n",
    "fout.write('''Batman:\n",
    "The Dark Knight\n",
    "Returns''')\n",
    "fout.close()\n",
    "\n",
    "# Navigate to the folder in your file explorer and confirm:\n",
    "#     * the file exists\n",
    "#     * the content is present"
   ]
  },
  {
   "cell_type": "markdown",
   "metadata": {},
   "source": [
    "## Where does Python write to?"
   ]
  },
  {
   "cell_type": "markdown",
   "metadata": {},
   "source": [
    "**Short answer**: where you tell it to\n",
    "\n",
    "**Longer answer**: \n",
    "    \n",
    "* Python literally writes where you tell it\n",
    "* Understanding directory structures on the command line is critical\n",
    "* The **easiest solution for beginners** is put the script and data in the same folder\n",
    "* OR, like these scripts, put the data in an adjacent folder"
   ]
  },
  {
   "cell_type": "markdown",
   "metadata": {},
   "source": [
    "# Experience Points!\n",
    "---"
   ]
  },
  {
   "cell_type": "markdown",
   "metadata": {},
   "source": [
    "On the **IPython interpreter** do each of the following:\n",
    "\n",
    "Task | Sample Object(s)\n",
    ":---|---\n",
    "Assign the label `filein` to the results of the `open()` function for this file | `names.txt`\n",
    "Assign the label `content` to the results of the `read()` function | `.read()`\n",
    "Print the `content` | `print()`\n",
    "Close `filein` when you are done | `.close()`"
   ]
  },
  {
   "cell_type": "code",
   "execution_count": null,
   "metadata": {},
   "outputs": [],
   "source": [
    "filein = open('folder/names.txt')\n",
    "content = filein.read()\n",
    "print(content)\n",
    "filein.close()"
   ]
  },
  {
   "cell_type": "markdown",
   "metadata": {},
   "source": [
    "<img src='../images/green_sticky.300px.png' width='200' style='float:left'>"
   ]
  },
  {
   "cell_type": "code",
   "execution_count": 14,
   "metadata": {
    "slideshow": {
     "slide_type": "fragment"
    }
   },
   "outputs": [
    {
     "name": "stdout",
     "output_type": "stream",
     "text": [
      "The Walrus and The Carpenter\n",
      "\n",
      "Lewis Carroll\n",
      "\n",
      "(from Through the Looking-Glass and What Alice Found There, 1872)\n",
      "\n",
      "The sun was shining on the sea,\n",
      "Shining with all his might:\n",
      "He did his very best to make\n",
      "The billows smooth and bright--\n",
      "And this was odd, because it was\n",
      "The middle of the night.\n",
      "\n",
      "The moon was shining sulkily,\n",
      "Because she thought the sun\n",
      "Had got no business to be there\n",
      "After the day was done--\n",
      "\"It's very rude of him,\" she said,\n",
      "\"To come and spoil the fun!\"\n",
      "\n",
      "The sea was wet as wet could be,\n",
      "The sands were dry as dry.\n",
      "You could not see a cloud, because\n",
      "No cloud was in the sky:\n",
      "No birds were flying overhead--\n",
      "There were no birds to fly.\n",
      "\n",
      "The Walrus and the Carpenter\n",
      "Were walking close at hand;\n",
      "They wept like anything to see\n",
      "Such quantities of sand:\n",
      "\"If this were only cleared away,\"\n",
      "They said, \"it would be grand!\"\n",
      "\n",
      "\"If seven maids with seven mops\n",
      "Swept it for half a year.\n",
      "Do you suppose,\" the Walrus said,\n",
      "\"That they could get it clear?\"\n",
      "\"I doubt it,\" said the Carpenter,\n",
      "And shed a bitter tear.\n",
      "\n",
      "\"O Oysters, come and walk with us!\"\n",
      "The Walrus did beseech.\n",
      "\"A pleasant walk, a pleasant talk,\n",
      "Along the briny beach:\n",
      "We cannot do with more than four,\n",
      "To give a hand to each.\"\n",
      "\n",
      "The eldest Oyster looked at him,\n",
      "But never a word he said:\n",
      "The eldest Oyster winked his eye,\n",
      "And shook his heavy head--\n",
      "Meaning to say he did not choose\n",
      "To leave the oyster-bed.\n",
      "\n",
      "But four young Oysters hurried up,\n",
      "All eager for the treat:\n",
      "Their coats were brushed, their faces washed,\n",
      "Their shoes were clean and neat--\n",
      "And this was odd, because, you know,\n",
      "They hadn't any feet.\n",
      "\n",
      "Four other Oysters followed them,\n",
      "And yet another four;\n",
      "And thick and fast they came at last,\n",
      "And more, and more, and more--\n",
      "All hopping through the frothy waves,\n",
      "And scrambling to the shore.\n",
      "\n",
      "The Walrus and the Carpenter\n",
      "Walked on a mile or so,\n",
      "And then they rested on a rock\n",
      "Conveniently low:\n",
      "And all the little Oysters stood\n",
      "And waited in a row.\n",
      "\n",
      "\"The time has come,\" the Walrus said,\n",
      "\"To talk of many things:\n",
      "Of shoes--and ships--and sealing-wax--\n",
      "Of cabbages--and kings--\n",
      "And why the sea is boiling hot--\n",
      "And whether pigs have wings.\"\n",
      "\n",
      "\"But wait a bit,\" the Oysters cried,\n",
      "\"Before we have our chat;\n",
      "For some of us are out of breath,\n",
      "And all of us are fat!\"\n",
      "\"No hurry!\" said the Carpenter.\n",
      "They thanked him much for that.\n",
      "\n",
      "\"A loaf of bread,\" the Walrus said,\n",
      "\"Is what we chiefly need:\n",
      "Pepper and vinegar besides\n",
      "Are very good indeed--\n",
      "Now if you're ready, Oysters dear,\n",
      "We can begin to feed.\"\n",
      "\n",
      "\"But not on us!\" the Oysters cried,\n",
      "Turning a little blue.\n",
      "\"After such kindness, that would be\n",
      "A dismal thing to do!\"\n",
      "\"The night is fine,\" the Walrus said.\n",
      "\"Do you admire the view?\n",
      "\n",
      "\"It was so kind of you to come!\n",
      "And you are very nice!\"\n",
      "The Carpenter said nothing but\n",
      "\"Cut us another slice:\n",
      "I wish you were not quite so deaf--\n",
      "I've had to ask you twice!\"\n",
      "\n",
      "\"It seems a shame,\" the Walrus said,\n",
      "\"To play them such a trick,\n",
      "After we've brought them out so far,\n",
      "And made them trot so quick!\"\n",
      "The Carpenter said nothing but\n",
      "\"The butter's spread too thick!\"\n",
      "\n",
      "\"I weep for you,\" the Walrus said:\n",
      "\"I deeply sympathize.\"\n",
      "With sobs and tears he sorted out\n",
      "Those of the largest size,\n",
      "Holding his pocket-handkerchief\n",
      "Before his streaming eyes.\n",
      "\n",
      "\"O Oysters,\" said the Carpenter,\n",
      "\"You've had a pleasant run!\n",
      "Shall we be trotting home again?'\n",
      "But answer came there none--\n",
      "And this was scarcely odd, because\n",
      "They'd eaten every one.\n",
      "\n"
     ]
    }
   ],
   "source": [
    "# It is not uncommon to chain functions together when all you really need\n",
    "#     is the text.\n",
    "\n",
    "text = open('folder/carroll.txt').read()\n",
    "print(text)\n",
    "# text"
   ]
  },
  {
   "cell_type": "code",
   "execution_count": 15,
   "metadata": {},
   "outputs": [
    {
     "ename": "FileNotFoundError",
     "evalue": "[Errno 2] No such file or directory: 'notHere.txt'",
     "output_type": "error",
     "traceback": [
      "\u001b[0;31m---------------------------------------------------------------------------\u001b[0m",
      "\u001b[0;31mFileNotFoundError\u001b[0m                         Traceback (most recent call last)",
      "\u001b[0;32m<ipython-input-15-da64682e6e3b>\u001b[0m in \u001b[0;36m<module>\u001b[0;34m()\u001b[0m\n\u001b[1;32m      1\u001b[0m \u001b[0;31m# What happens when we attempt to open a file that doesn't exist?\u001b[0m\u001b[0;34m\u001b[0m\u001b[0;34m\u001b[0m\u001b[0m\n\u001b[1;32m      2\u001b[0m \u001b[0;34m\u001b[0m\u001b[0m\n\u001b[0;32m----> 3\u001b[0;31m \u001b[0mfile\u001b[0m \u001b[0;34m=\u001b[0m \u001b[0mopen\u001b[0m\u001b[0;34m(\u001b[0m\u001b[0;34m'notHere.txt'\u001b[0m\u001b[0;34m)\u001b[0m\u001b[0;34m\u001b[0m\u001b[0m\n\u001b[0m",
      "\u001b[0;31mFileNotFoundError\u001b[0m: [Errno 2] No such file or directory: 'notHere.txt'"
     ]
    }
   ],
   "source": [
    "# What happens when we attempt to open a file that doesn't exist?\n",
    "\n",
    "file = open('folder/carroll.txt')"
   ]
  },
  {
   "cell_type": "code",
   "execution_count": 16,
   "metadata": {},
   "outputs": [
    {
     "name": "stdout",
     "output_type": "stream",
     "text": [
      "FILE NOT FOUND\n"
     ]
    }
   ],
   "source": [
    "# We can use try/except to do things we think might bring up errors without stopping the program\n",
    "\n",
    "try:\n",
    "    file = open('nothere.txt')\n",
    "except:\n",
    "    print('FILE NOT FOUND')"
   ]
  },
  {
   "cell_type": "markdown",
   "metadata": {
    "slideshow": {
     "slide_type": "subslide"
    }
   },
   "source": [
    "# There are several primary means of reading in data:\n",
    "---\n",
    "```python\n",
    "* `read()`                     # reads the file in as a single string\n",
    "* `readline()`                 # reads in one line at a time\n",
    "* `readlines()`                # reads in all lines, as separate strings in a list \n",
    "* `for line in <filehandle>:`  # iterates over each line, one at a time\n",
    "```\n",
    "\n",
    "We have seen `read()` in action, let's see some of the others in action"
   ]
  },
  {
   "cell_type": "markdown",
   "metadata": {},
   "source": [
    "## `.readline()`"
   ]
  },
  {
   "cell_type": "code",
   "execution_count": 3,
   "metadata": {},
   "outputs": [
    {
     "data": {
      "text/plain": [
       "'name,email,from_ip,to_ip,datetime,latitude,longitude,payload\\n'"
      ]
     },
     "execution_count": 3,
     "metadata": {},
     "output_type": "execute_result"
    }
   ],
   "source": [
    "# .readline() reads in a single line.\n",
    "\n",
    "data = open('folder/log_file.header.csv')\n",
    "line = data.readline()\n",
    "\n",
    "# print(line)\n",
    "line"
   ]
  },
  {
   "cell_type": "code",
   "execution_count": 1,
   "metadata": {},
   "outputs": [
    {
     "name": "stdout",
     "output_type": "stream",
     "text": [
      "name,email,from_ip,to_ip,datetime,latitude,longitude,payload\r\n",
      "barry allen,ballen@jleague.org,246.167.32.21,253.36.206.4,2016-02-08T21:44:22,49.55854,8.87819,32171\r\n",
      "barbara gordon,bgordon@jleague.org,253.36.207.192,198.240.252.129,2016-02-07T21:44:28,48.14013,9.07396,34285\r\n",
      "kyle rayner,krayner@jleague.org,208.66.182.10,102.230.226.99,2016-02-06T21:44:56,45.28336,10.38742,40287\r\n",
      "dinah lance,dlance@jleague.org,246.167.32.76,7.36.164.133,2016-02-06T21:45:51,45.83448,8.70891,688291\r\n",
      "arthur curry,acurry@jleague.org,253.36.207.215,7.36.164.0,2016-02-06T21:47:02,49.44709,8.05527,126609\r\n",
      "kara zor-el,kzor-el@jleague.org,208.66.183.214,253.36.207.215,2016-02-06T21:47:26,46.22157,10.07309,862129\r\n",
      "kara zor-el,kzor-el@jleague.org,208.66.183.214,198.240.252.173,2016-02-06T21:48:03,45.76911,10.33047,648640\r\n",
      "hal jordan,hjordan@jleague.org,253.36.207.148,208.66.182.184,2016-02-06T21:49:36,47.99098,7.80398,496563\r\n",
      "kara zor-el,kzor-el@jleague.org,253.36.207.148,26.28.209.95,2016-02-06T21:50:41,48.03181,10.01841,800746\r\n",
      "john constantine,jconstantine@jleague.org,246.167.32.3,246.167.32.103,2016-02-06T21:52:17,48.63939,9.96064,859045\r\n"
     ]
    }
   ],
   "source": [
    "!cat folder/log_file.header.csv"
   ]
  },
  {
   "cell_type": "code",
   "execution_count": 4,
   "metadata": {},
   "outputs": [
    {
     "name": "stdout",
     "output_type": "stream",
     "text": [
      "barry allen,ballen@jleague.org,246.167.32.21,253.36.206.4,2016-02-08T21:44:22,49.55854,8.87819,32171\n",
      "\n"
     ]
    }
   ],
   "source": [
    "# Repeating .readline() will read in another line\n",
    "\n",
    "next_line = data.readline()\n",
    "\n",
    "print(next_line)"
   ]
  },
  {
   "cell_type": "code",
   "execution_count": null,
   "metadata": {
    "collapsed": true
   },
   "outputs": [],
   "source": [
    "# Personally, I use .readline() most frequently, when reading in \n",
    "#     headers from files\n",
    "\n",
    "# This allows us to get column headers AND/OR simply get the \n",
    "#     header row out of the way."
   ]
  },
  {
   "cell_type": "markdown",
   "metadata": {},
   "source": [
    "## `.readlines()`"
   ]
  },
  {
   "cell_type": "code",
   "execution_count": 5,
   "metadata": {},
   "outputs": [
    {
     "name": "stdout",
     "output_type": "stream",
     "text": [
      "['name,email,from_ip,to_ip,datetime,latitude,longitude,payload\\n', 'barry allen,ballen@jleague.org,246.167.32.21,253.36.206.4,2016-02-08T21:44:22,49.55854,8.87819,32171\\n', 'barbara gordon,bgordon@jleague.org,253.36.207.192,198.240.252.129,2016-02-07T21:44:28,48.14013,9.07396,34285\\n', 'kyle rayner,krayner@jleague.org,208.66.182.10,102.230.226.99,2016-02-06T21:44:56,45.28336,10.38742,40287\\n', 'dinah lance,dlance@jleague.org,246.167.32.76,7.36.164.133,2016-02-06T21:45:51,45.83448,8.70891,688291\\n', 'arthur curry,acurry@jleague.org,253.36.207.215,7.36.164.0,2016-02-06T21:47:02,49.44709,8.05527,126609\\n', 'kara zor-el,kzor-el@jleague.org,208.66.183.214,253.36.207.215,2016-02-06T21:47:26,46.22157,10.07309,862129\\n', 'kara zor-el,kzor-el@jleague.org,208.66.183.214,198.240.252.173,2016-02-06T21:48:03,45.76911,10.33047,648640\\n', 'hal jordan,hjordan@jleague.org,253.36.207.148,208.66.182.184,2016-02-06T21:49:36,47.99098,7.80398,496563\\n', 'kara zor-el,kzor-el@jleague.org,253.36.207.148,26.28.209.95,2016-02-06T21:50:41,48.03181,10.01841,800746\\n', 'john constantine,jconstantine@jleague.org,246.167.32.3,246.167.32.103,2016-02-06T21:52:17,48.63939,9.96064,859045\\n']\n"
     ]
    }
   ],
   "source": [
    "# .readlines() reads in all the lines AND stores the data as a \n",
    "#     list of strings\n",
    "\n",
    "data = open('folder/log_file.header.csv')\n",
    "list_of_lines = data.readlines()\n",
    "\n",
    "print(list_of_lines)"
   ]
  },
  {
   "cell_type": "markdown",
   "metadata": {},
   "source": [
    "**NOTE**: each string includes the newline character at the end of the text string."
   ]
  },
  {
   "cell_type": "markdown",
   "metadata": {},
   "source": [
    "## `for line in <filehandle>:`"
   ]
  },
  {
   "cell_type": "code",
   "execution_count": 6,
   "metadata": {},
   "outputs": [
    {
     "name": "stdout",
     "output_type": "stream",
     "text": [
      "name,email,from_ip,to_ip,datetime,latitude,longitude,payload\n",
      "\n",
      "barry allen,ballen@jleague.org,246.167.32.21,253.36.206.4,2016-02-08T21:44:22,49.55854,8.87819,32171\n",
      "\n",
      "barbara gordon,bgordon@jleague.org,253.36.207.192,198.240.252.129,2016-02-07T21:44:28,48.14013,9.07396,34285\n",
      "\n",
      "kyle rayner,krayner@jleague.org,208.66.182.10,102.230.226.99,2016-02-06T21:44:56,45.28336,10.38742,40287\n",
      "\n",
      "dinah lance,dlance@jleague.org,246.167.32.76,7.36.164.133,2016-02-06T21:45:51,45.83448,8.70891,688291\n",
      "\n",
      "arthur curry,acurry@jleague.org,253.36.207.215,7.36.164.0,2016-02-06T21:47:02,49.44709,8.05527,126609\n",
      "\n",
      "kara zor-el,kzor-el@jleague.org,208.66.183.214,253.36.207.215,2016-02-06T21:47:26,46.22157,10.07309,862129\n",
      "\n",
      "kara zor-el,kzor-el@jleague.org,208.66.183.214,198.240.252.173,2016-02-06T21:48:03,45.76911,10.33047,648640\n",
      "\n",
      "hal jordan,hjordan@jleague.org,253.36.207.148,208.66.182.184,2016-02-06T21:49:36,47.99098,7.80398,496563\n",
      "\n",
      "kara zor-el,kzor-el@jleague.org,253.36.207.148,26.28.209.95,2016-02-06T21:50:41,48.03181,10.01841,800746\n",
      "\n",
      "john constantine,jconstantine@jleague.org,246.167.32.3,246.167.32.103,2016-02-06T21:52:17,48.63939,9.96064,859045\n",
      "\n"
     ]
    }
   ],
   "source": [
    "# One of the most useful approaches for handling lines in files\n",
    "#     is using for loops.\n",
    "\n",
    "data = open('folder/log_file.header.csv')\n",
    "\n",
    "for line in data:\n",
    "    print(line)"
   ]
  },
  {
   "cell_type": "code",
   "execution_count": 7,
   "metadata": {},
   "outputs": [
    {
     "name": "stdout",
     "output_type": "stream",
     "text": [
      "N/A\n",
      "N/A\n",
      "N/A\n",
      "N/A\n",
      "N/A\n",
      "kara zor-el,kzor-el@jleague.org,208.66.183.214,253.36.207.215,2016-02-06T21:47:26,46.22157,10.07309,862129\n",
      "\n",
      "kara zor-el,kzor-el@jleague.org,208.66.183.214,198.240.252.173,2016-02-06T21:48:03,45.76911,10.33047,648640\n",
      "\n",
      "N/A\n",
      "kara zor-el,kzor-el@jleague.org,253.36.207.148,26.28.209.95,2016-02-06T21:50:41,48.03181,10.01841,800746\n",
      "\n",
      "N/A\n"
     ]
    }
   ],
   "source": [
    "# A sample of how this could be used...\n",
    "\n",
    "data = open('folder/log_file.header.csv')\n",
    "\n",
    "header = data.readline()\n",
    "\n",
    "for line in data:\n",
    "    if 'kara' in line:\n",
    "        print(line)\n",
    "    else:\n",
    "        print('N/A')"
   ]
  },
  {
   "cell_type": "markdown",
   "metadata": {},
   "source": [
    "**NOTE**: each string includes the newline character at the end of the text string."
   ]
  },
  {
   "cell_type": "markdown",
   "metadata": {},
   "source": [
    "# Experience Points!\n",
    "---"
   ]
  },
  {
   "cell_type": "markdown",
   "metadata": {},
   "source": [
    "In your **text editor** create a simple script called:\n",
    "\n",
    "```bash\n",
    "my_files_01.py```\n",
    "\n",
    "Execute your script in the **IPython interpreter** using the command:\n",
    "\n",
    "```bash\n",
    "run my_files_01.py```\n",
    "\n",
    "I suggest that as you add each feature to your script that you run it right away to test it incrementally. \n",
    "\n",
    "Task | Sample Object(s)\n",
    ":---|---\n",
    "Assign the label `my_csv` to the results of the `open()` function for this file | `log_file_1000.csv`\n",
    "Use a `for` loop to read in the text | `for line in <filehandle>`\n",
    "Print only lines that have this ip address: `220.211.18.31` on them  | `print()`\n",
    "Close `my_csv` when you are done | `.close()`"
   ]
  },
  {
   "cell_type": "markdown",
   "metadata": {},
   "source": [
    "<img src='../images/green_sticky.300px.png' width='200' style='float:left'>"
   ]
  },
  {
   "cell_type": "code",
   "execution_count": 8,
   "metadata": {
    "collapsed": true
   },
   "outputs": [],
   "source": [
    "# Let's look our previous file again...\n",
    "\n",
    "for line in data:\n",
    "    print(line)\n",
    "    \n",
    "# When executing this code, nothing happpened!    "
   ]
  },
  {
   "cell_type": "markdown",
   "metadata": {},
   "source": [
    "## do overs and more..."
   ]
  },
  {
   "cell_type": "code",
   "execution_count": 9,
   "metadata": {},
   "outputs": [
    {
     "name": "stdout",
     "output_type": "stream",
     "text": [
      "name,email,from_ip,to_ip,datetime,latitude,longitude,payload\n",
      "\n",
      "barry allen,ballen@jleague.org,246.167.32.21,253.36.206.4,2016-02-08T21:44:22,49.55854,8.87819,32171\n",
      "\n",
      "barbara gordon,bgordon@jleague.org,253.36.207.192,198.240.252.129,2016-02-07T21:44:28,48.14013,9.07396,34285\n",
      "\n",
      "kyle rayner,krayner@jleague.org,208.66.182.10,102.230.226.99,2016-02-06T21:44:56,45.28336,10.38742,40287\n",
      "\n",
      "dinah lance,dlance@jleague.org,246.167.32.76,7.36.164.133,2016-02-06T21:45:51,45.83448,8.70891,688291\n",
      "\n",
      "arthur curry,acurry@jleague.org,253.36.207.215,7.36.164.0,2016-02-06T21:47:02,49.44709,8.05527,126609\n",
      "\n",
      "kara zor-el,kzor-el@jleague.org,208.66.183.214,253.36.207.215,2016-02-06T21:47:26,46.22157,10.07309,862129\n",
      "\n",
      "kara zor-el,kzor-el@jleague.org,208.66.183.214,198.240.252.173,2016-02-06T21:48:03,45.76911,10.33047,648640\n",
      "\n",
      "hal jordan,hjordan@jleague.org,253.36.207.148,208.66.182.184,2016-02-06T21:49:36,47.99098,7.80398,496563\n",
      "\n",
      "kara zor-el,kzor-el@jleague.org,253.36.207.148,26.28.209.95,2016-02-06T21:50:41,48.03181,10.01841,800746\n",
      "\n",
      "john constantine,jconstantine@jleague.org,246.167.32.3,246.167.32.103,2016-02-06T21:52:17,48.63939,9.96064,859045\n",
      "\n"
     ]
    }
   ],
   "source": [
    "# One way to do a do-over is to simply reread the file from scratch\n",
    "\n",
    "data = open('folder/log_file.header.csv')\n",
    "\n",
    "for line in data:\n",
    "    print(line)\n"
   ]
  },
  {
   "cell_type": "code",
   "execution_count": 10,
   "metadata": {},
   "outputs": [
    {
     "name": "stdout",
     "output_type": "stream",
     "text": [
      "First byte: a\n"
     ]
    }
   ],
   "source": [
    "# Try a new file...\n",
    "\n",
    "data = open('folder/bytes.txt')\n",
    "\n",
    "# this time, let's read one byte, instead of the whole line\n",
    "\n",
    "byte = data.read(1)\n",
    "print('First byte:', byte)"
   ]
  },
  {
   "cell_type": "code",
   "execution_count": 11,
   "metadata": {},
   "outputs": [
    {
     "name": "stdout",
     "output_type": "stream",
     "text": [
      "Two bytes:  bb\n"
     ]
    }
   ],
   "source": [
    "# The file handle maintains the pointer and \n",
    "#     knows where we left off in the file.\n",
    "\n",
    "twobytes = data.read(2)\n",
    "print('Two bytes: ', twobytes)"
   ]
  },
  {
   "cell_type": "code",
   "execution_count": 12,
   "metadata": {},
   "outputs": [
    {
     "name": "stdout",
     "output_type": "stream",
     "text": [
      "Four bytes: ccc\n"
     ]
    }
   ],
   "source": [
    "# The next three bytes:\n",
    "\n",
    "threebytes = data.read(3)\n",
    "print('Four bytes:', threebytes)"
   ]
  },
  {
   "cell_type": "code",
   "execution_count": 13,
   "metadata": {},
   "outputs": [
    {
     "name": "stdout",
     "output_type": "stream",
     "text": [
      "Four bytes: dddd\n"
     ]
    }
   ],
   "source": [
    "# The next four bytes\n",
    "\n",
    "fourbytes = data.read(4)\n",
    "print('Four bytes:', fourbytes)"
   ]
  },
  {
   "cell_type": "code",
   "execution_count": 14,
   "metadata": {},
   "outputs": [
    {
     "name": "stdout",
     "output_type": "stream",
     "text": [
      "Remainder:  efghi\n",
      "\n"
     ]
    }
   ],
   "source": [
    "# .readline() doesn't necessarily start at the beginning of \n",
    "#     the line... it picks up where it left off and goes to \n",
    "#     the end of the current line.\n",
    "\n",
    "print('Remainder: ', data.readline())"
   ]
  },
  {
   "cell_type": "code",
   "execution_count": 15,
   "metadata": {},
   "outputs": [
    {
     "name": "stdout",
     "output_type": "stream",
     "text": [
      "Readline:   Line 2\n",
      "\n"
     ]
    }
   ],
   "source": [
    "# The next time we call .readline(), it carries on\n",
    "#     as we expect.\n",
    "\n",
    "print('Readline:  ', data.readline())"
   ]
  },
  {
   "cell_type": "code",
   "execution_count": 16,
   "metadata": {},
   "outputs": [
    {
     "name": "stdout",
     "output_type": "stream",
     "text": [
      "For loop: Line 3\n",
      "\n",
      "For loop: Line 4\n",
      "\n",
      "For loop: Line 5\n",
      "\n",
      "For loop: Line 6\n",
      "\n",
      "For loop: Line 7\n",
      "\n",
      "For loop: Line 8\n",
      "\n",
      "For loop: Line 9\n",
      "\n",
      "For loop: Last line\n"
     ]
    }
   ],
   "source": [
    "# The file handle pointer switches seamlessly between\n",
    "#     using readline() or other reading mechanisms and\n",
    "#     for loops\n",
    "\n",
    "for line in data:\n",
    "    print('For loop:', line)\n"
   ]
  },
  {
   "cell_type": "code",
   "execution_count": 17,
   "metadata": {},
   "outputs": [
    {
     "name": "stdout",
     "output_type": "stream",
     "text": [
      "Back at the beginning: d\n",
      "            Two bytes: dd\n"
     ]
    }
   ],
   "source": [
    "# Since the file handle uses a pointer, we don't have\n",
    "#     to reread the file ... we can just rewind the file\n",
    "#     using .seek()\n",
    "\n",
    "data.seek(7)\n",
    "\n",
    "# Read just one byte (the first byte in the file)\n",
    "byte = data.read(1)\n",
    "print('Back at the beginning:', byte)\n",
    "\n",
    "# getting fancy\n",
    "print('Two bytes:'.rjust(22), data.read(2))"
   ]
  },
  {
   "cell_type": "code",
   "execution_count": 18,
   "metadata": {},
   "outputs": [
    {
     "name": "stdout",
     "output_type": "stream",
     "text": [
      "10\n",
      "efg\n",
      "13\n"
     ]
    }
   ],
   "source": [
    "# But where are we? in the file...\n",
    "#     .tell() will let you know what byte you are about to \n",
    "#     read.\n",
    "\n",
    "print(data.tell())\n",
    "\n",
    "print(data.read(3))\n",
    "\n",
    "print(data.tell())"
   ]
  },
  {
   "cell_type": "markdown",
   "metadata": {},
   "source": [
    "# Let's do some work!\n",
    "---"
   ]
  },
  {
   "cell_type": "code",
   "execution_count": null,
   "metadata": {
    "collapsed": true
   },
   "outputs": [],
   "source": [
    "data = open('folder/names.txt')\n",
    "\n",
    "lineNum = 0\n",
    "\n",
    "for line in data:\n",
    "    lineNum += 1\n",
    "    if line.startswith('S'):\n",
    "        print(lineNum, line)"
   ]
  },
  {
   "cell_type": "markdown",
   "metadata": {},
   "source": [
    "# newline characters\n",
    "\n",
    "Files typically have more than one line\n",
    "\n",
    "There's a special character used to indicate a newline in Python: `'\\n'`\n",
    "\n",
    "This character can be tricky. It shows up at the end of every line when we read in data both line by line as well as all at once\n",
    "\n",
    "The easiest way to get rid of this is the with the `.rstrip()` method"
   ]
  },
  {
   "cell_type": "code",
   "execution_count": null,
   "metadata": {
    "collapsed": true
   },
   "outputs": [],
   "source": [
    "# As an example...\n",
    "\n",
    "print('my string of text\\n'.rstrip())"
   ]
  },
  {
   "cell_type": "code",
   "execution_count": null,
   "metadata": {
    "collapsed": true
   },
   "outputs": [],
   "source": [
    "data = open('folder/names.txt')\n",
    "\n",
    "lineNum = 0\n",
    "\n",
    "for line in data:\n",
    "    lineNum += 1\n",
    "    if line.startswith('S'):\n",
    "        cleanline = line.rstrip() # Let's get rid of that pesky newline\n",
    "        print(lineNum, cleanline)"
   ]
  },
  {
   "cell_type": "markdown",
   "metadata": {
    "collapsed": true
   },
   "source": [
    "# OK, so maybe real work\n",
    "---\n",
    "\n"
   ]
  },
  {
   "cell_type": "code",
   "execution_count": null,
   "metadata": {
    "collapsed": true
   },
   "outputs": [],
   "source": [
    "data = open('folder/nums.txt')\n",
    "\n",
    "for line in data:\n",
    "    line = line.strip()\n",
    "    num = int(line)\n",
    "    if num > 90:\n",
    "    \n",
    "        print(num, num * 2)"
   ]
  },
  {
   "cell_type": "markdown",
   "metadata": {
    "collapsed": true
   },
   "source": [
    "# Writing to files\n",
    "---"
   ]
  },
  {
   "cell_type": "code",
   "execution_count": null,
   "metadata": {
    "collapsed": true
   },
   "outputs": [],
   "source": [
    "# A sample of writing to files: don't forget the 'w'\n",
    "\n",
    "fout = open('folder/buffer.txt', 'w')"
   ]
  },
  {
   "cell_type": "code",
   "execution_count": null,
   "metadata": {
    "collapsed": true
   },
   "outputs": [],
   "source": [
    "for number in range(200000):\n",
    "    \n",
    "    # WARNING: .write() only takes strings    \n",
    "\n",
    "    output = str(number)\n",
    "    fout.write(output)\n",
    "    \n",
    "print('done')    "
   ]
  },
  {
   "cell_type": "code",
   "execution_count": null,
   "metadata": {
    "collapsed": true
   },
   "outputs": [],
   "source": [
    "# This Step is optional, but important\n",
    "#     IF you need to leave the file open,\n",
    "#     but want to flush the buffer in memory\n",
    "\n",
    "fout.flush()"
   ]
  },
  {
   "cell_type": "code",
   "execution_count": null,
   "metadata": {
    "collapsed": true
   },
   "outputs": [],
   "source": [
    "fout.close()"
   ]
  },
  {
   "cell_type": "code",
   "execution_count": null,
   "metadata": {
    "collapsed": true
   },
   "outputs": [],
   "source": [
    "fileout = open('folder/numbers.txt', 'w')\n",
    "\n",
    "for number in range(10):\n",
    "    \n",
    "    # WARNING: .write() only takes strings    \n",
    "    # NOTE: .write() does NOT include a '\\n' (newline)\n",
    "    #     by default, you must add one on.\n",
    "\n",
    "    output = str(number) + '\\n'\n",
    "    fileout.write(output)\n",
    "    \n",
    "print('done') \n",
    "fileout.close()"
   ]
  },
  {
   "cell_type": "markdown",
   "metadata": {},
   "source": [
    "# Experience Points!"
   ]
  },
  {
   "cell_type": "markdown",
   "metadata": {},
   "source": [
    "In your **text editor** create a simple script called:\n",
    "\n",
    "```bash\n",
    "my_files_02.py```\n",
    "\n",
    "Execute your script in the **IPython interpreter** using the command:\n",
    "\n",
    "```bash\n",
    "run my_files_02.py```\n",
    "\n",
    "I suggest that as you add each feature to your script that you run it right away to test it incrementally. \n",
    "\n",
    "Task | Sample Object(s)\n",
    ":---|---\n",
    "Assign the label `my_output` to the results of the `open()` function for this file: use the `w` flag | `results.txt`\n",
    "Start a `while True` loop|\n",
    "Assign a label, `output`, to the result of an `input()` function| `Name one of your favorite foods? `\n",
    "Check whether `output` is equal to the string: `exit` |\n",
    "IF NOT, `.write()` the content of `output` to the file|\n",
    "IF EQUAL, `break` out of the `while` loop|\n",
    "When the loop finishes, `.close()` the file.|\n"
   ]
  },
  {
   "cell_type": "markdown",
   "metadata": {},
   "source": [
    "# Experience Points!"
   ]
  },
  {
   "cell_type": "markdown",
   "metadata": {},
   "source": [
    "In your **text editor** create a simple script called:\n",
    "\n",
    "```bash\n",
    "my_files_03.py```\n",
    "\n",
    "Execute your script in the **IPython interpreter** using the command:\n",
    "\n",
    "```bash\n",
    "run my_files_03.py```\n",
    "\n",
    "I suggest that as you add each feature to your script that you run it right away to test it incrementally. \n",
    "\n",
    "Task | Sample Object(s)\n",
    ":---|---\n",
    "Using the techniques learned in this lesson:|\n",
    "1. open the file `log_file_1000.csv`|\n",
    "2. examine the content and count the number of lines in the file|\n",
    "3. print the one line and line number where `SELINA` is capitalized|"
   ]
  },
  {
   "cell_type": "markdown",
   "metadata": {
    "collapsed": true
   },
   "source": [
    "<img src='../images/green_sticky.300px.png' width='200' style='float:left'>"
   ]
  }
 ],
 "metadata": {
  "anaconda-cloud": {},
  "kernelspec": {
   "display_name": "Python 3",
   "language": "python",
   "name": "python3"
  },
  "language_info": {
   "codemirror_mode": {
    "name": "ipython",
    "version": 3
   },
   "file_extension": ".py",
   "mimetype": "text/x-python",
   "name": "python",
   "nbconvert_exporter": "python",
   "pygments_lexer": "ipython3",
   "version": "3.6.1"
  }
 },
 "nbformat": 4,
 "nbformat_minor": 1
}
