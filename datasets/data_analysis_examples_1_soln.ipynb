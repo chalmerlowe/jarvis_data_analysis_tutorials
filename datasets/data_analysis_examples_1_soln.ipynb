{
 "cells": [
  {
   "cell_type": "markdown",
   "metadata": {},
   "source": [
    "# The dataset\n",
    "---"
   ]
  },
  {
   "cell_type": "markdown",
   "metadata": {},
   "source": [
    "The dataset for this practical exercise is composed of log records that look similar to this:\n",
    "```\n",
    "1       2           3 4     5   6    7    8  9  10                       11                      12 13  \n",
    "1.2.3.4 11.22.33.44 6 53211 443 1910 2452 14 16 2016-08-15-13:30:28.8410 2016-08-15-13:30:29.6240 1 1\n",
    "1.2.3.4 11.22.33.44 6 53214 443 1698 2452 14 16 2016-08-15-13:35:18.6120 2016-08-15-13:35:19.4037 1 1\n",
    "1.2.3.4 11.22.33.44 6 53229 443 1698 2452 14 16 2016-08-15-13:39:57.4420 2016-08-15-13:39:58.2344 1 1\n",
    "1.2.3.4 11.22.33.44 6 53232 443 1698 2452 14 16 2016-08-15-13:44:26.4776 2016-08-15-13:44:27.2729 1 1\n",
    "1.2.3.4 11.22.33.44 6 53235 443 1698 2452 14 16 2016-08-15-13:49:14.8779 2016-08-15-13:49:14.8779 1 1\n",
    "1.2.3.4 11.22.33.44 6 53239 443 1698 2452 14 16 2016-08-15-13:53:45.0699 2016-08-15-13:53.45.8680 1 1\n",
    "1.2.3.4 11.22.33.44 6 53256 443 1698 2452 14 16 2016-08-15-13:58:43.5585 2016-08-15-13:58:44.3501 1 1\n",
    "```"
   ]
  },
  {
   "cell_type": "markdown",
   "metadata": {},
   "source": [
    "# Data dictionary / code book\n",
    "---"
   ]
  },
  {
   "cell_type": "markdown",
   "metadata": {},
   "source": [
    "The data is composed of the following\n",
    "\n",
    "*  first column is an IP address. IP-Address (1)\n",
    "*  second column is an IP address. IP-Address (2)\n",
    "*  third column is the protocol.  In this case the protocol is set to 6 (TCP)\n",
    "*  fourth column is the port associated with IP-Address 1.  In this case Ephemeral Ports.\n",
    "*  fifth column is the port associated with IP-Address 2.  In this case HTTPS (443).\n",
    "*  sixth column is the number of bytes received by IP-Address 1.  \n",
    "*  seventh column is the number of bytes received by IP-Address 2.  \n",
    "*  eighth column is the number of packets received by IP-Address 1. \n",
    "*  ninth column is the number of packets received by IP-Address 2.  \n",
    "*  tenth column is the time the first packet was received.\n",
    "*  eleventh column is the time the last packet was received.\n",
    "*  twelfth column shows which IP Address sent the first packet (initiated the conversation).\n",
    "*  thirteenth column shows which IP Address sent the last packet (finished the conversation)."
   ]
  },
  {
   "cell_type": "markdown",
   "metadata": {},
   "source": [
    "# Questions\n",
    "---"
   ]
  },
  {
   "cell_type": "markdown",
   "metadata": {},
   "source": [
    "Based on this data, we will explore multiple analytic questions, such as these...\n",
    "\n",
    "* count the number of IP addresses\n",
    "* count the number of IP address pairs (from and to)\n",
    "* find the biggest/smallest values for packet counts\n",
    "* find the most common protocols\n",
    "* find the most common protocols based on the total number of bytes associated with that protocol?\n"
   ]
  },
  {
   "cell_type": "code",
   "execution_count": null,
   "metadata": {
    "collapsed": true
   },
   "outputs": [],
   "source": [
    "import csv"
   ]
  },
  {
   "cell_type": "code",
   "execution_count": null,
   "metadata": {
    "collapsed": true
   },
   "outputs": [],
   "source": [
    "SMALLFILE = 'output.small.csv'\n",
    "LARGEFILE = 'output.csv'\n",
    "\n",
    "ACTIVEFILE = SMALLFILE"
   ]
  },
  {
   "cell_type": "markdown",
   "metadata": {},
   "source": [
    "# Question\n",
    "---"
   ]
  },
  {
   "cell_type": "markdown",
   "metadata": {},
   "source": [
    "How many unique IP addresses appear in the file as IP address 1 and as IP address 2?"
   ]
  },
  {
   "cell_type": "code",
   "execution_count": null,
   "metadata": {
    "collapsed": true
   },
   "outputs": [],
   "source": [
    "fin = open(ACTIVEFILE)\n",
    "logs = csv.reader(fin, delimiter=' ')\n",
    "\n",
    "ipaddresses1 = set()\n",
    "ipaddresses2 = set()\n",
    "\n",
    "for line in logs:\n",
    "    ipaddr1, ipaddr2, *junk = line\n",
    "    ipaddresses1.add(ipaddr1)\n",
    "    ipaddresses2.add(ipaddr2)  "
   ]
  },
  {
   "cell_type": "code",
   "execution_count": null,
   "metadata": {},
   "outputs": [],
   "source": [
    "print('Number of ipaddresses in column 1:', len(ipaddresses1))\n",
    "print('Number of ipaddresses in column 2:', len(ipaddresses2))"
   ]
  },
  {
   "cell_type": "code",
   "execution_count": null,
   "metadata": {},
   "outputs": [],
   "source": [
    "print(sorted(ipaddresses1))\n",
    "print()\n",
    "print(sorted(ipaddresses2))"
   ]
  },
  {
   "cell_type": "markdown",
   "metadata": {},
   "source": [
    "# Question\n",
    "---"
   ]
  },
  {
   "cell_type": "markdown",
   "metadata": {
    "collapsed": true
   },
   "source": [
    "How many unique IP address pairs appear in the file?"
   ]
  },
  {
   "cell_type": "code",
   "execution_count": null,
   "metadata": {
    "collapsed": true
   },
   "outputs": [],
   "source": [
    "fin = open(ACTIVEFILE)\n",
    "logs = csv.reader(fin, delimiter=' ')\n",
    "\n",
    "ippairs = set()\n",
    "\n",
    "for line in logs:\n",
    "    ipaddr1, ipaddr2, *junk = line\n",
    "    ippairs.add((ipaddr1, ipaddr2))\n"
   ]
  },
  {
   "cell_type": "code",
   "execution_count": null,
   "metadata": {},
   "outputs": [],
   "source": [
    "print('Number of ip pairs', len(ippairs))"
   ]
  },
  {
   "cell_type": "markdown",
   "metadata": {},
   "source": [
    "# Question\n",
    "---"
   ]
  },
  {
   "cell_type": "markdown",
   "metadata": {
    "collapsed": true
   },
   "source": [
    "What are the biggest/smallest values for packet counts?"
   ]
  },
  {
   "cell_type": "code",
   "execution_count": null,
   "metadata": {
    "collapsed": true
   },
   "outputs": [],
   "source": [
    "fin = open(ACTIVEFILE)\n",
    "logs = csv.reader(fin, delimiter=' ')\n",
    "\n",
    "packets1 = set()\n",
    "packets2 = set()\n",
    "\n",
    "for line in logs:\n",
    "    packets1.add(int(line[7]))\n",
    "    packets2.add(int(line[8]))\n",
    "\n",
    "# Two ways of solving this question...\n",
    "# Method ONE\n",
    "packets1 = sorted(packets1)    \n",
    "sm_packets1 = packets1[0]\n",
    "lg_packets1 = packets1[-1]\n",
    "\n",
    "# NOTE: this tends to take significantly longer than method TWO\n",
    "\n",
    "# Method TWO\n",
    "sm_packets2 = min(packets2)      \n",
    "lg_packets2 = max(packets2)\n",
    "\n",
    "# NOTE: this tends to be much faster than method ONE"
   ]
  },
  {
   "cell_type": "code",
   "execution_count": null,
   "metadata": {},
   "outputs": [],
   "source": [
    "print('Addr 1: Smallest packet count:', sm_packets1)\n",
    "print('Addr 1: Largest packet count:', lg_packets1)\n",
    "print()\n",
    "print('Addr 2: Smallest packet count:', sm_packets2)\n",
    "print('Addr 2: Largest packet count:', lg_packets2)"
   ]
  },
  {
   "cell_type": "markdown",
   "metadata": {},
   "source": [
    "# Question\n",
    "---"
   ]
  },
  {
   "cell_type": "markdown",
   "metadata": {
    "collapsed": true
   },
   "source": [
    "What are the three most common protocols based on the number of times it appears?"
   ]
  },
  {
   "cell_type": "code",
   "execution_count": null,
   "metadata": {},
   "outputs": [],
   "source": [
    "fin = open(ACTIVEFILE)\n",
    "logs = csv.reader(fin, delimiter=' ')\n",
    "\n",
    "from collections import Counter\n",
    "\n",
    "protocols = []\n",
    "\n",
    "for line in logs:\n",
    "    protocols.append(line[2])\n",
    "    \n",
    "count = Counter(protocols)    \n",
    "print(count.most_common(3))"
   ]
  },
  {
   "cell_type": "markdown",
   "metadata": {},
   "source": [
    "# Question\n",
    "---"
   ]
  },
  {
   "cell_type": "markdown",
   "metadata": {},
   "source": [
    "What are the most common protocols based on the total number of bytes associated with that protocol?"
   ]
  },
  {
   "cell_type": "code",
   "execution_count": null,
   "metadata": {},
   "outputs": [],
   "source": [
    "fin = open(ACTIVEFILE)\n",
    "logs = csv.reader(fin, delimiter=' ')\n",
    "\n",
    "from collections import defaultdict\n",
    "\n",
    "protocols = defaultdict(int)\n",
    "\n",
    "for line in logs:\n",
    "    bytes1 = int(line[7])\n",
    "    bytes2 = int(line[8])\n",
    "    byte_sum = bytes1 + bytes2\n",
    "    protocols[line[2]] += byte_sum\n",
    "    \n",
    "print(protocols)"
   ]
  },
  {
   "cell_type": "code",
   "execution_count": null,
   "metadata": {
    "collapsed": true
   },
   "outputs": [],
   "source": [
    "from collections import Counter\n",
    "count = Counter(protocols)"
   ]
  },
  {
   "cell_type": "code",
   "execution_count": null,
   "metadata": {},
   "outputs": [],
   "source": [
    "# To see all the most common items, \n",
    "# you can call the .most_common() method\n",
    "\n",
    "count.most_common()"
   ]
  },
  {
   "cell_type": "code",
   "execution_count": null,
   "metadata": {},
   "outputs": [],
   "source": [
    "# To limit the display to the n most common items, \n",
    "# you can identify how many elements to display:\n",
    "\n",
    "count.most_common(3)"
   ]
  },
  {
   "cell_type": "code",
   "execution_count": null,
   "metadata": {},
   "outputs": [],
   "source": [
    "# Because the .most_common() method produces an ordered \n",
    "# list, you can also slice the items off the \"least common\" \n",
    "# end of the list using standard slice notation:\n",
    "\n",
    "count.most_common()[-3:]"
   ]
  },
  {
   "cell_type": "code",
   "execution_count": null,
   "metadata": {
    "collapsed": true
   },
   "outputs": [],
   "source": []
  },
  {
   "cell_type": "code",
   "execution_count": null,
   "metadata": {
    "collapsed": true
   },
   "outputs": [],
   "source": []
  }
 ],
 "metadata": {
  "kernelspec": {
   "display_name": "Python 3",
   "language": "python",
   "name": "python3"
  },
  "language_info": {
   "codemirror_mode": {
    "name": "ipython",
    "version": 3
   },
   "file_extension": ".py",
   "mimetype": "text/x-python",
   "name": "python",
   "nbconvert_exporter": "python",
   "pygments_lexer": "ipython3",
   "version": "3.6.1"
  }
 },
 "nbformat": 4,
 "nbformat_minor": 2
}
