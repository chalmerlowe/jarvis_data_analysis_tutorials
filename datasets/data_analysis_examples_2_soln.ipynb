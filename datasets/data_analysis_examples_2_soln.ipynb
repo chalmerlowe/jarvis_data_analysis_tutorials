{
 "cells": [
  {
   "cell_type": "markdown",
   "metadata": {},
   "source": [
    "# The dataset\n",
    "---"
   ]
  },
  {
   "cell_type": "markdown",
   "metadata": {},
   "source": [
    "The dataset for this practical exercise is composed of log records that look similar to this:\n",
    "```\n",
    "1       2           3 4     5   6    7    8  9  10                       11                      12 13  \n",
    "1.2.3.4 11.22.33.44 6 53211 443 1910 2452 14 16 2016-08-15-13:30:28.8410 2016-08-15-13:30:29.6240 1 1\n",
    "1.2.3.4 11.22.33.44 6 53214 443 1698 2452 14 16 2016-08-15-13:35:18.6120 2016-08-15-13:35:19.4037 1 1\n",
    "1.2.3.4 11.22.33.44 6 53229 443 1698 2452 14 16 2016-08-15-13:39:57.4420 2016-08-15-13:39:58.2344 1 1\n",
    "1.2.3.4 11.22.33.44 6 53232 443 1698 2452 14 16 2016-08-15-13:44:26.4776 2016-08-15-13:44:27.2729 1 1\n",
    "1.2.3.4 11.22.33.44 6 53235 443 1698 2452 14 16 2016-08-15-13:49:14.8779 2016-08-15-13:49:14.8779 1 1\n",
    "1.2.3.4 11.22.33.44 6 53239 443 1698 2452 14 16 2016-08-15-13:53:45.0699 2016-08-15-13:53.45.8680 1 1\n",
    "1.2.3.4 11.22.33.44 6 53256 443 1698 2452 14 16 2016-08-15-13:58:43.5585 2016-08-15-13:58:44.3501 1 1\n",
    "```"
   ]
  },
  {
   "cell_type": "markdown",
   "metadata": {},
   "source": [
    "# Data dictionary / code book\n",
    "---"
   ]
  },
  {
   "cell_type": "markdown",
   "metadata": {},
   "source": [
    "The data is composed of the following\n",
    "\n",
    "*  first column is an IP address. IP-Address (1)\n",
    "*  second column is an IP address. IP-Address (2)\n",
    "*  third column is the protocol.  In this case the protocol is set to 6 (TCP)\n",
    "*  fourth column is the port associated with IP-Address 1.  In this case Ephemeral Ports.\n",
    "*  fifth column is the port associated with IP-Address 2.  In this case HTTPS (443).\n",
    "*  sixth column is the number of bytes received by IP-Address 1.  \n",
    "*  seventh column is the number of bytes received by IP-Address 2.  \n",
    "*  eighth column is the number of packets received by IP-Address 1. \n",
    "*  ninth column is the number of packets received by IP-Address 2.  \n",
    "*  tenth column is the time the first packet was received.\n",
    "*  eleventh column is the time the last packet was received.\n",
    "*  twelfth column shows which IP Address sent the first packet (initiated the conversation).\n",
    "*  thirteenth column shows which IP Address sent the last packet (finished the conversation)."
   ]
  },
  {
   "cell_type": "markdown",
   "metadata": {},
   "source": [
    "# Questions\n",
    "---"
   ]
  },
  {
   "cell_type": "markdown",
   "metadata": {},
   "source": [
    "Based on this data, we will explore multiple analytic questions, such as these...\n",
    "\n",
    "* find the IP pair with biggest time difference between first packet and last packet (on a single line)\n",
    "* find the IP with most total bytes/least total bytes\n",
    "* find the most common ephemeral port by bytes sent AND by packets sent"
   ]
  },
  {
   "cell_type": "code",
   "execution_count": 4,
   "metadata": {
    "collapsed": true
   },
   "outputs": [],
   "source": [
    "import csv"
   ]
  },
  {
   "cell_type": "code",
   "execution_count": 5,
   "metadata": {
    "collapsed": true
   },
   "outputs": [],
   "source": [
    "SMALLFILE = 'output.small.csv'\n",
    "LARGEFILE = 'output.csv'\n",
    "\n",
    "ACTIVEFILE = SMALLFILE"
   ]
  },
  {
   "cell_type": "markdown",
   "metadata": {},
   "source": [
    "# Question\n",
    "---"
   ]
  },
  {
   "cell_type": "markdown",
   "metadata": {},
   "source": [
    "Find the IP pair with biggest time difference between first packet and last packet (on a single line)"
   ]
  },
  {
   "cell_type": "code",
   "execution_count": 22,
   "metadata": {
    "collapsed": true
   },
   "outputs": [],
   "source": [
    "from datetime import datetime, timedelta"
   ]
  },
  {
   "cell_type": "code",
   "execution_count": 23,
   "metadata": {},
   "outputs": [
    {
     "name": "stdout",
     "output_type": "stream",
     "text": [
      "0:00:00.629493 ('113.102.66.188', '165.90.83.51')\n",
      "0:00:01.246643 ('57.245.8.149', '165.90.83.102')\n",
      "0:00:03.270895 ('48.209.101.198', '85.155.248.149')\n",
      "0:00:03.270895 ('48.209.101.198', '85.155.248.149')\n",
      "0:00:03.270895 ('48.209.101.198', '85.155.248.149')\n",
      "0:00:03.270895 ('48.209.101.198', '85.155.248.149')\n",
      "0:00:03.270895 ('48.209.101.198', '85.155.248.149')\n",
      "0:00:03.270895 ('48.209.101.198', '85.155.248.149')\n",
      "0:00:03.270895 ('48.209.101.198', '85.155.248.149')\n",
      "0:00:03.270895 ('48.209.101.198', '85.155.248.149')\n"
     ]
    }
   ],
   "source": [
    "fin = open(ACTIVEFILE)\n",
    "lines = csv.reader(fin, delimiter=' ')\n",
    "\n",
    "high_diff = timedelta(0, 0, 0)\n",
    "high_ip_pair = None\n",
    "\n",
    "for line in lines:\n",
    "    ip1 = line[0]\n",
    "    ip2 = line[1]\n",
    "    \n",
    "    firsttime = datetime.strptime(line[9], '%Y-%m-%d-%H:%M:%S.%f')  # 2016-08-15-13:30:28.8410\n",
    "    lasttime = datetime.strptime(line[10], '%Y-%m-%d-%H:%M:%S.%f')\n",
    "    \n",
    "    diff = lasttime - firsttime\n",
    "    \n",
    "    if diff > high_diff:\n",
    "        high_diff = diff\n",
    "        high_ip_pair = (ip1, ip2)\n",
    "    \n",
    "    print(high_diff, high_ip_pair)"
   ]
  },
  {
   "cell_type": "code",
   "execution_count": null,
   "metadata": {
    "collapsed": true
   },
   "outputs": [],
   "source": []
  },
  {
   "cell_type": "markdown",
   "metadata": {},
   "source": [
    "# Question\n",
    "---"
   ]
  },
  {
   "cell_type": "markdown",
   "metadata": {
    "collapsed": true
   },
   "source": [
    "Find the IP with most total bytes/least total bytes\n"
   ]
  },
  {
   "cell_type": "code",
   "execution_count": 21,
   "metadata": {},
   "outputs": [
    {
     "name": "stdout",
     "output_type": "stream",
     "text": [
      "First IP:\n",
      "[('57.245.8.149', 935747421)]\n",
      "('113.102.66.188', 121986028)\n",
      "\n",
      "Second IP:\n",
      "112.160.150.170\n",
      "136.226.96.121\n"
     ]
    }
   ],
   "source": [
    "from collections import defaultdict, Counter\n",
    "\n",
    "fin = open(ACTIVEFILE)\n",
    "lines = csv.reader(fin, delimiter=' ')\n",
    "\n",
    "ips1 = defaultdict(int)\n",
    "ips2 = defaultdict(int)\n",
    "\n",
    "for line in lines:\n",
    "    ip1 = line[0]\n",
    "    ip2 = line[1]\n",
    "    \n",
    "    bytes1 = int(line[5])\n",
    "    bytes2 = int(line[6])\n",
    "    \n",
    "    ips1[ip1] += bytes1\n",
    "    ips2[ip2] += bytes2\n",
    "    \n",
    "ips1 = Counter(ips1)\n",
    "ips2 = Counter(ips2)\n",
    "\n",
    "print('First IP:')\n",
    "print(ips1.most_common(1))\n",
    "print(ips1.most_common()[-1])\n",
    "print()\n",
    "print('Second IP:')\n",
    "print(ips2.most_common(1)[0][0])\n",
    "print(ips2.most_common()[-1][0])"
   ]
  },
  {
   "cell_type": "code",
   "execution_count": null,
   "metadata": {
    "collapsed": true
   },
   "outputs": [],
   "source": []
  },
  {
   "cell_type": "code",
   "execution_count": 26,
   "metadata": {},
   "outputs": [
    {
     "name": "stdout",
     "output_type": "stream",
     "text": [
      "112.160.150.170\n",
      "136.226.96.121\n"
     ]
    }
   ],
   "source": [
    "# Something fun\n",
    "# How do we eliminate some of the clutter and duplication in the code above?\n",
    "# How do we make the code more readable?\n",
    "# How do we make the code more maintainable?\n",
    "\n",
    "\n",
    "def most_common_ip(ips, most=True):\n",
    "    '''Given a Counter-like object (i.e. object with a .most_common() method,\n",
    "    return the most OR least common IP.\n",
    "    \n",
    "    Default is to return the most common IP.\n",
    "    Set most=False to return the least common IP.\n",
    "    '''\n",
    "    \n",
    "    if most:\n",
    "        return ips.most_common(1)[0][0]\n",
    "    else:\n",
    "        return ips.most_common()[-1][0]\n",
    "    \n",
    "\n",
    "print(most_common_ip(ips2))\n",
    "print(most_common_ip(ips2, most=False))\n"
   ]
  },
  {
   "cell_type": "markdown",
   "metadata": {},
   "source": [
    "# Question\n",
    "---"
   ]
  },
  {
   "cell_type": "markdown",
   "metadata": {
    "collapsed": true
   },
   "source": [
    "Find the most common ephemeral port by bytes sent.\n",
    "\n",
    "Also find the most common ephemeral port by packets sent (NOTE: This step is left as an exercise for the student)"
   ]
  },
  {
   "cell_type": "code",
   "execution_count": 34,
   "metadata": {},
   "outputs": [
    {
     "name": "stdout",
     "output_type": "stream",
     "text": [
      "First Port:\n",
      "58947\n",
      "6508\n",
      "\n",
      "Second Port:\n",
      "7312\n",
      "53\n"
     ]
    }
   ],
   "source": [
    "from collections import defaultdict, Counter\n",
    "\n",
    "fin = open(ACTIVEFILE)\n",
    "lines = csv.reader(fin, delimiter=' ')\n",
    "\n",
    "ports1 = defaultdict(int)\n",
    "ports2 = defaultdict(int)\n",
    "\n",
    "for line in lines:\n",
    "    port1 = line[3]\n",
    "    port2 = line[4]\n",
    "    \n",
    "    bytes1 = int(line[5])\n",
    "    bytes2 = int(line[6])\n",
    "    \n",
    "    ports1[port1] += bytes1\n",
    "    ports2[port2] += bytes2\n",
    "    \n",
    "ports1 = Counter(ports1)\n",
    "ports2 = Counter(ports2)\n",
    "\n",
    "print('First Port:')\n",
    "print(most_common_ip(ports1))\n",
    "print(most_common_ip(ports1, most=False))\n",
    "print()\n",
    "print('Second Port:')\n",
    "print(most_common_ip(ports2))\n",
    "print(most_common_ip(ports2, most=False))\n"
   ]
  },
  {
   "cell_type": "code",
   "execution_count": null,
   "metadata": {
    "collapsed": true
   },
   "outputs": [],
   "source": []
  },
  {
   "cell_type": "code",
   "execution_count": null,
   "metadata": {
    "collapsed": true
   },
   "outputs": [],
   "source": []
  }
 ],
 "metadata": {
  "kernelspec": {
   "display_name": "Python 3",
   "language": "python",
   "name": "python3"
  },
  "language_info": {
   "codemirror_mode": {
    "name": "ipython",
    "version": 3
   },
   "file_extension": ".py",
   "mimetype": "text/x-python",
   "name": "python",
   "nbconvert_exporter": "python",
   "pygments_lexer": "ipython3",
   "version": "3.6.1"
  }
 },
 "nbformat": 4,
 "nbformat_minor": 2
}
