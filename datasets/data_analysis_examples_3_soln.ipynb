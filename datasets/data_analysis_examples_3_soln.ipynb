{
 "cells": [
  {
   "cell_type": "markdown",
   "metadata": {},
   "source": [
    "# The dataset\n",
    "---"
   ]
  },
  {
   "cell_type": "markdown",
   "metadata": {},
   "source": [
    "The dataset for this practical exercise is composed of log records that look similar to this:\n",
    "```\n",
    "1       2           3 4     5   6    7    8  9  10                       11                      12 13  \n",
    "1.2.3.4 11.22.33.44 6 53211 443 1910 2452 14 16 2016-08-15-13:30:28.8410 2016-08-15-13:30:29.6240 1 1\n",
    "1.2.3.4 11.22.33.44 6 53214 443 1698 2452 14 16 2016-08-15-13:35:18.6120 2016-08-15-13:35:19.4037 1 1\n",
    "1.2.3.4 11.22.33.44 6 53229 443 1698 2452 14 16 2016-08-15-13:39:57.4420 2016-08-15-13:39:58.2344 1 1\n",
    "1.2.3.4 11.22.33.44 6 53232 443 1698 2452 14 16 2016-08-15-13:44:26.4776 2016-08-15-13:44:27.2729 1 1\n",
    "1.2.3.4 11.22.33.44 6 53235 443 1698 2452 14 16 2016-08-15-13:49:14.8779 2016-08-15-13:49:14.8779 1 1\n",
    "1.2.3.4 11.22.33.44 6 53239 443 1698 2452 14 16 2016-08-15-13:53:45.0699 2016-08-15-13:53.45.8680 1 1\n",
    "1.2.3.4 11.22.33.44 6 53256 443 1698 2452 14 16 2016-08-15-13:58:43.5585 2016-08-15-13:58:44.3501 1 1\n",
    "```"
   ]
  },
  {
   "cell_type": "markdown",
   "metadata": {},
   "source": [
    "# Data dictionary / code book\n",
    "---"
   ]
  },
  {
   "cell_type": "markdown",
   "metadata": {},
   "source": [
    "The data is composed of the following\n",
    "\n",
    "*  first column is an IP address. IP-Address (1)\n",
    "*  second column is an IP address. IP-Address (2)\n",
    "*  third column is the protocol.  In this case the protocol is set to 6 (TCP)\n",
    "*  fourth column is the port associated with IP-Address 1.  In this case Ephemeral Ports.\n",
    "*  fifth column is the port associated with IP-Address 2.  In this case HTTPS (443).\n",
    "*  sixth column is the number of bytes received by IP-Address 1.  \n",
    "*  seventh column is the number of bytes received by IP-Address 2.  \n",
    "*  eighth column is the number of packets received by IP-Address 1. \n",
    "*  ninth column is the number of packets received by IP-Address 2.  \n",
    "*  tenth column is the time the first packet was received.\n",
    "*  eleventh column is the time the last packet was received.\n",
    "*  twelfth column shows which IP Address sent the first packet (initiated the conversation).\n",
    "*  thirteenth column shows which IP Address sent the last packet (finished the conversation)."
   ]
  },
  {
   "cell_type": "markdown",
   "metadata": {},
   "source": [
    "# Questions\n",
    "---"
   ]
  },
  {
   "cell_type": "markdown",
   "metadata": {},
   "source": [
    "Based on this data, we will explore multiple analytic questions, such as these...\n",
    "\n",
    "* for each IP pair, identify the difference in time (using the time the first packet was received) between the current record and the next subsequent record, capturing all the time differences associated with each IP pair...\n",
    "    ```\n",
    "    1.2.3.4 11.22.33.44 ... 2016-08-15-13:30:28.8410 >>> n/a\n",
    "    1.2.3.4 11.22.33.44 ... 2016-08-15-13:35:18.6120 >>> approx 5 seconds from previous record\n",
    "    5.5.5.5 99.99.99.99 ... 2016-08-15-13:39:57.4420 >>> n/a (different IP pair)\n",
    "    1.2.3.4 11.22.33.44 ... 2016-08-15-13:44:26.4776 >>> approx 9 seconds from previous record\n",
    "\n",
    "    (1.2.3.4, 11.22.33.44) is associated with time differences of 5, 9, etc...\n",
    "    ```\n",
    "* for each IP pair, calculate the average difference and the standard deviation of the times \n",
    "    * the average will give you a sense of how often signal occurs\n",
    "    * the standard deviation will give you a sense of how much the average varies (how wide the spread is)\n"
   ]
  },
  {
   "cell_type": "code",
   "execution_count": null,
   "metadata": {
    "collapsed": true
   },
   "outputs": [],
   "source": []
  },
  {
   "cell_type": "code",
   "execution_count": null,
   "metadata": {
    "collapsed": true
   },
   "outputs": [],
   "source": []
  },
  {
   "cell_type": "markdown",
   "metadata": {},
   "source": [
    "# Question\n",
    "---"
   ]
  },
  {
   "cell_type": "markdown",
   "metadata": {},
   "source": [
    "For each IP pair, identify the difference in time (using the time the first packet was received) between the current record and the next subsequent record, capturing all the time differences associated with each IP pair..."
   ]
  },
  {
   "cell_type": "code",
   "execution_count": 57,
   "metadata": {
    "collapsed": true
   },
   "outputs": [],
   "source": [
    "DUPEFILE = 'output.small.dupes.csv'\n",
    "LARGEFILE = 'output.csv'\n",
    "\n",
    "ACTIVEFILE = LARGEFILE"
   ]
  },
  {
   "cell_type": "code",
   "execution_count": 58,
   "metadata": {},
   "outputs": [],
   "source": [
    "import csv\n",
    "from collections import defaultdict\n",
    "\n",
    "from datetime import datetime\n",
    "\n",
    "logs = csv.reader(open(ACTIVEFILE), delimiter=' ')\n",
    "\n",
    "timedeltas = defaultdict(list)\n",
    "\n",
    "for line in logs:\n",
    "    ip1, ip2 = line[0:2]\n",
    "    # print(line[9])\n",
    "    time = datetime.strptime(line[9], '%Y-%m-%d-%H:%M:%S.%f') # 2016-08-15-13:58:43.5585\n",
    "    timedeltas[(ip1, ip2)].append(time)\n"
   ]
  },
  {
   "cell_type": "code",
   "execution_count": 59,
   "metadata": {
    "collapsed": true
   },
   "outputs": [],
   "source": [
    "import itertools\n",
    "import operator\n",
    "import statistics\n",
    "from collections import Counter\n",
    "\n",
    "stdev = []\n",
    "averages = []\n",
    "\n",
    "lowest_stdev = 100000000\n",
    "lowest_ippair = None"
   ]
  },
  {
   "cell_type": "code",
   "execution_count": 62,
   "metadata": {},
   "outputs": [],
   "source": [
    "deviations = defaultdict(list)\n",
    "\n",
    "for k, v in timedeltas.items():\n",
    "    \n",
    "    a = [(y - x).seconds + (y - x).microseconds/100000  for x, y in zip(v, v[1:])]\n",
    "    \n",
    "    avg = sum(a)/len(a)\n",
    "    \n",
    "    std = statistics.stdev(a)\n",
    "    deviations[k].append(std)\n",
    "    \n",
    "    if std <= lowest_stdev:\n",
    "        lowest_stdev = std\n",
    "        lowest_ippair = k\n",
    "    \n",
    "    stdev.append(std)\n",
    "    averages.append(avg)"
   ]
  },
  {
   "cell_type": "code",
   "execution_count": 63,
   "metadata": {},
   "outputs": [
    {
     "name": "stdout",
     "output_type": "stream",
     "text": [
      "0.5126484193666336 330007.5457974581 86046.17058482756 682626.1683168317\n",
      "('105.71.60.19', '93.138.73.231')\n"
     ]
    }
   ],
   "source": [
    "c = Counter(deviations)\n",
    "\n",
    "\n",
    "print(min(stdev), max(stdev), min(averages), max(averages))\n",
    "print(lowest_ippair)"
   ]
  },
  {
   "cell_type": "code",
   "execution_count": 64,
   "metadata": {},
   "outputs": [],
   "source": [
    "# c"
   ]
  },
  {
   "cell_type": "code",
   "execution_count": 65,
   "metadata": {
    "collapsed": true
   },
   "outputs": [],
   "source": [
    "cmc = c.most_common()\n"
   ]
  },
  {
   "cell_type": "code",
   "execution_count": 66,
   "metadata": {},
   "outputs": [
    {
     "data": {
      "text/plain": [
       "[(('87.223.140.1', '19.137.118.175'), [186.12128123939786]),\n",
       " (('45.121.54.166', '51.193.232.193'), [184.26673339927996]),\n",
       " (('99.212.188.183', '68.80.214.81'), [184.07288778149754]),\n",
       " (('239.41.249.194', '239.218.61.8'), [169.43494359133112]),\n",
       " (('105.71.60.19', '93.138.73.231'), [0.5126484193666336])]"
      ]
     },
     "execution_count": 66,
     "metadata": {},
     "output_type": "execute_result"
    }
   ],
   "source": [
    "cmc[-5:]"
   ]
  },
  {
   "cell_type": "code",
   "execution_count": 55,
   "metadata": {},
   "outputs": [
    {
     "data": {
      "text/plain": [
       "0.0"
      ]
     },
     "execution_count": 55,
     "metadata": {},
     "output_type": "execute_result"
    }
   ],
   "source": [
    "min(stdev)"
   ]
  },
  {
   "cell_type": "code",
   "execution_count": 56,
   "metadata": {},
   "outputs": [
    {
     "data": {
      "text/plain": [
       "[317810,\n",
       " 618587,\n",
       " 697328,\n",
       " 867539,\n",
       " 790587,\n",
       " 552373,\n",
       " 990107,\n",
       " 140970,\n",
       " 296229,\n",
       " 508527,\n",
       " 665544,\n",
       " 886129,\n",
       " 1022727,\n",
       " 538412,\n",
       " 158327,\n",
       " 90238,\n",
       " 586151,\n",
       " 361695,\n",
       " 307323,\n",
       " 281984,\n",
       " 863673,\n",
       " 741970,\n",
       " 152498,\n",
       " 268071,\n",
       " 226756,\n",
       " 350430,\n",
       " 670630,\n",
       " 440059,\n",
       " 622029,\n",
       " 1055635,\n",
       " 694993,\n",
       " 110056,\n",
       " 750782,\n",
       " 951819,\n",
       " 686356,\n",
       " 1066332,\n",
       " 489712,\n",
       " 571023,\n",
       " 542065,\n",
       " 430488,\n",
       " 779666,\n",
       " 783956,\n",
       " 1085972,\n",
       " 488034,\n",
       " 829180,\n",
       " 229549,\n",
       " 528048,\n",
       " 179897,\n",
       " 444623,\n",
       " 959559,\n",
       " 568791,\n",
       " 778202,\n",
       " 595954,\n",
       " 979071,\n",
       " 578851,\n",
       " 800899,\n",
       " 427864,\n",
       " 372730,\n",
       " 459810,\n",
       " 745776,\n",
       " 577739,\n",
       " 670871,\n",
       " 409181,\n",
       " 150931,\n",
       " 1072895,\n",
       " 698971,\n",
       " 101447,\n",
       " 929807,\n",
       " 896114,\n",
       " 702495,\n",
       " 979362,\n",
       " 1078381,\n",
       " 434203,\n",
       " 933042,\n",
       " 522892,\n",
       " 727796,\n",
       " 630200,\n",
       " 538025,\n",
       " 345045,\n",
       " 1030009,\n",
       " 616344,\n",
       " 520217,\n",
       " 333242,\n",
       " 753413,\n",
       " 453788,\n",
       " 675667,\n",
       " 820637,\n",
       " 374071,\n",
       " 451420,\n",
       " 550458,\n",
       " 354977,\n",
       " 583758,\n",
       " 101086,\n",
       " 711342,\n",
       " 658184,\n",
       " 512903,\n",
       " 328212,\n",
       " 205576,\n",
       " 593562,\n",
       " 721555,\n",
       " 1066967,\n",
       " 401957,\n",
       " 908821,\n",
       " 335164,\n",
       " 457752,\n",
       " 325227,\n",
       " 837035,\n",
       " 651805,\n",
       " 197701,\n",
       " 670987,\n",
       " 935056,\n",
       " 373928,\n",
       " 352008,\n",
       " 120444,\n",
       " 940940,\n",
       " 257155,\n",
       " 1014458,\n",
       " 251966]"
      ]
     },
     "execution_count": 56,
     "metadata": {},
     "output_type": "execute_result"
    }
   ],
   "source": [
    "a"
   ]
  },
  {
   "cell_type": "code",
   "execution_count": null,
   "metadata": {
    "collapsed": true
   },
   "outputs": [],
   "source": []
  }
 ],
 "metadata": {
  "kernelspec": {
   "display_name": "Python 3",
   "language": "python",
   "name": "python3"
  },
  "language_info": {
   "codemirror_mode": {
    "name": "ipython",
    "version": 3
   },
   "file_extension": ".py",
   "mimetype": "text/x-python",
   "name": "python",
   "nbconvert_exporter": "python",
   "pygments_lexer": "ipython3",
   "version": "3.6.1"
  }
 },
 "nbformat": 4,
 "nbformat_minor": 2
}
